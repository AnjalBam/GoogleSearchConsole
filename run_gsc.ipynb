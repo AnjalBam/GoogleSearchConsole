{
 "metadata": {
  "language_info": {
   "codemirror_mode": {
    "name": "ipython",
    "version": 3
   },
   "file_extension": ".py",
   "mimetype": "text/x-python",
   "name": "python",
   "nbconvert_exporter": "python",
   "pygments_lexer": "ipython3",
   "version": "3.7.6-final"
  },
  "orig_nbformat": 2,
  "kernelspec": {
   "name": "python_defaultSpec_1597379930435",
   "display_name": "Python 3.7.6 64-bit ('base': conda)"
  }
 },
 "nbformat": 4,
 "nbformat_minor": 2,
 "cells": [
  {
   "cell_type": "markdown",
   "metadata": {},
   "source": [
    "# Google Search Console API (With Python)\n",
    "author:    Jean-Christophe Chouinard\n",
    "\n",
    "Role:      Sr. SEO Specialist at SEEK.com.au\n",
    "\n",
    "Website:   jcchouinard.com\n",
    "\n",
    "LinkedIn:  linkedin.com/in/jeanchristophechouinard/ \n",
    "\n",
    "Twitter:   twitter.com/@ChouinardJC\n",
    "\n",
    "## Why Use The Google Search Console API?\n",
    "\n",
    "Google limits the amount of data they report to the user. \n",
    "\n",
    "In the search performance report, you can only see **1000 rows** and **16 months** of data.\n",
    "\n",
    "With GSC UI, it is also not possible to get **keywords per page** as they are reported in separate pages.\n",
    "\n",
    "The Google Search Console API lets you extract a lot more than 1000 rows of data.\n",
    "\n",
    "## Get Started\n",
    "### Clone Github Repository\n",
    "`$ git clone https://github.com/jcchouinard/GoogleSearchConsole-Tutorial.git`\n",
    "\n",
    "### Install Requirements\n",
    "`pip install -r requirements.txt`\n",
    "\n",
    "### Learn Python for SEO\n",
    "[jcchouinard.com/python-for-seo](https://www.jcchouinard.com/python-for-seo)\n",
    "\n",
    "### Get API Keys\n",
    "[jcchouinard.com/how-to-get-google-search-console-api-keys/](https://www.jcchouinard.com/how-to-get-google-search-console-api-keys/)\n",
    "\n",
    "### How to format your request\n",
    "[jcchouinard.com/what-is-google-search-console-api/](https://www.jcchouinard.com/what-is-google-search-console-api/)"
   ]
  },
  {
   "cell_type": "code",
   "execution_count": 1,
   "metadata": {
    "tags": []
   },
   "outputs": [],
   "source": [
    "creds = 'client_secrets.json'\n",
    "\n",
    "site = 'https://www.jcchouinard.com'\n",
    "start_date = '2020-07-15' \n",
    "end_date = '2020-07-25' # Default 3 days before today\n",
    "output = 'gsc_data.csv'"
   ]
  },
  {
   "cell_type": "markdown",
   "metadata": {},
   "source": [
    "## Authorize Your Credentials"
   ]
  },
  {
   "cell_type": "code",
   "execution_count": 2,
   "metadata": {
    "tags": []
   },
   "outputs": [
    {
     "output_type": "stream",
     "name": "stdout",
     "text": "Authorizing Creds\nAuth Successful\n"
    }
   ],
   "source": [
    "from oauth import authorize_creds\n",
    "\n",
    "webmasters_service = authorize_creds(creds)"
   ]
  },
  {
   "cell_type": "markdown",
   "metadata": {},
   "source": [
    "## Extract GSC Data by URL"
   ]
  },
  {
   "cell_type": "code",
   "execution_count": 3,
   "metadata": {},
   "outputs": [
    {
     "output_type": "execute_result",
     "data": {
      "text/plain": "                                                page  clicks  impressions\n0  https://www.jcchouinard.com/chrome-devtools-co...       0         1370\n1  https://www.jcchouinard.com/learn-selenium-pyt...      59         5691",
      "text/html": "<div>\n<style scoped>\n    .dataframe tbody tr th:only-of-type {\n        vertical-align: middle;\n    }\n\n    .dataframe tbody tr th {\n        vertical-align: top;\n    }\n\n    .dataframe thead th {\n        text-align: right;\n    }\n</style>\n<table border=\"1\" class=\"dataframe\">\n  <thead>\n    <tr style=\"text-align: right;\">\n      <th></th>\n      <th>page</th>\n      <th>clicks</th>\n      <th>impressions</th>\n    </tr>\n  </thead>\n  <tbody>\n    <tr>\n      <th>0</th>\n      <td>https://www.jcchouinard.com/chrome-devtools-co...</td>\n      <td>0</td>\n      <td>1370</td>\n    </tr>\n    <tr>\n      <th>1</th>\n      <td>https://www.jcchouinard.com/learn-selenium-pyt...</td>\n      <td>59</td>\n      <td>5691</td>\n    </tr>\n  </tbody>\n</table>\n</div>"
     },
     "metadata": {},
     "execution_count": 3
    }
   ],
   "source": [
    "from gsc_by_url import gsc_by_url\n",
    "\n",
    "list_of_urls = [\n",
    "    '/chrome-devtools-commands-for-seo/',\n",
    "    '/learn-selenium-python-seo-automation/'\n",
    "    ]\n",
    "\n",
    "list_of_urls = [site + x for x in list_of_urls]\n",
    "\n",
    "args = webmasters_service,site,list_of_urls,creds,start_date,end_date\n",
    "\n",
    "gsc_by_url(*args)"
   ]
  },
  {
   "cell_type": "markdown",
   "metadata": {},
   "source": [
    "## Extract Filtered Data from Google Search Console\n",
    "\n",
    "Possible combinations:\n",
    "\n",
    "Dimension: query, page.\n",
    "\n",
    "Operator: contains, equals, notEquals, notContains\n"
   ]
  },
  {
   "cell_type": "code",
   "execution_count": 5,
   "metadata": {
    "tags": []
   },
   "outputs": [
    {
     "output_type": "execute_result",
     "data": {
      "text/plain": "           date                                               page  \\\n0    2020-07-22  https://www.jcchouinard.com/python-automation-...   \n1    2020-07-21        https://www.jcchouinard.com/python-for-seo/   \n2    2020-07-16  https://www.jcchouinard.com/python-automation-...   \n3    2020-07-16        https://www.jcchouinard.com/python-for-seo/   \n4    2020-07-20  https://www.jcchouinard.com/python-automation-...   \n..          ...                                                ...   \n995  2020-07-15  https://www.jcchouinard.com/python-automation-...   \n996  2020-07-15  https://www.jcchouinard.com/python-automation-...   \n997  2020-07-15  https://www.jcchouinard.com/python-automation-...   \n998  2020-07-15  https://www.jcchouinard.com/python-automation-...   \n999  2020-07-15  https://www.jcchouinard.com/python-automation-...   \n\n                                                query  clicks  \n0                              schedule python script       7  \n1                                      python for seo       6  \n2         schedule python script to run daily windows       5  \n3                                          python seo       5  \n4                    task scheduler run python script       5  \n..                                                ...     ...  \n995              how to run python program in windows       0  \n996                          how to run python script       0  \n997  how to run python script automatically every day       0  \n998                   how to run python script in cmd       0  \n999                 how to run python script in linux       0  \n\n[1000 rows x 4 columns]",
      "text/html": "<div>\n<style scoped>\n    .dataframe tbody tr th:only-of-type {\n        vertical-align: middle;\n    }\n\n    .dataframe tbody tr th {\n        vertical-align: top;\n    }\n\n    .dataframe thead th {\n        text-align: right;\n    }\n</style>\n<table border=\"1\" class=\"dataframe\">\n  <thead>\n    <tr style=\"text-align: right;\">\n      <th></th>\n      <th>date</th>\n      <th>page</th>\n      <th>query</th>\n      <th>clicks</th>\n    </tr>\n  </thead>\n  <tbody>\n    <tr>\n      <th>0</th>\n      <td>2020-07-22</td>\n      <td>https://www.jcchouinard.com/python-automation-...</td>\n      <td>schedule python script</td>\n      <td>7</td>\n    </tr>\n    <tr>\n      <th>1</th>\n      <td>2020-07-21</td>\n      <td>https://www.jcchouinard.com/python-for-seo/</td>\n      <td>python for seo</td>\n      <td>6</td>\n    </tr>\n    <tr>\n      <th>2</th>\n      <td>2020-07-16</td>\n      <td>https://www.jcchouinard.com/python-automation-...</td>\n      <td>schedule python script to run daily windows</td>\n      <td>5</td>\n    </tr>\n    <tr>\n      <th>3</th>\n      <td>2020-07-16</td>\n      <td>https://www.jcchouinard.com/python-for-seo/</td>\n      <td>python seo</td>\n      <td>5</td>\n    </tr>\n    <tr>\n      <th>4</th>\n      <td>2020-07-20</td>\n      <td>https://www.jcchouinard.com/python-automation-...</td>\n      <td>task scheduler run python script</td>\n      <td>5</td>\n    </tr>\n    <tr>\n      <th>...</th>\n      <td>...</td>\n      <td>...</td>\n      <td>...</td>\n      <td>...</td>\n    </tr>\n    <tr>\n      <th>995</th>\n      <td>2020-07-15</td>\n      <td>https://www.jcchouinard.com/python-automation-...</td>\n      <td>how to run python program in windows</td>\n      <td>0</td>\n    </tr>\n    <tr>\n      <th>996</th>\n      <td>2020-07-15</td>\n      <td>https://www.jcchouinard.com/python-automation-...</td>\n      <td>how to run python script</td>\n      <td>0</td>\n    </tr>\n    <tr>\n      <th>997</th>\n      <td>2020-07-15</td>\n      <td>https://www.jcchouinard.com/python-automation-...</td>\n      <td>how to run python script automatically every day</td>\n      <td>0</td>\n    </tr>\n    <tr>\n      <th>998</th>\n      <td>2020-07-15</td>\n      <td>https://www.jcchouinard.com/python-automation-...</td>\n      <td>how to run python script in cmd</td>\n      <td>0</td>\n    </tr>\n    <tr>\n      <th>999</th>\n      <td>2020-07-15</td>\n      <td>https://www.jcchouinard.com/python-automation-...</td>\n      <td>how to run python script in linux</td>\n      <td>0</td>\n    </tr>\n  </tbody>\n</table>\n<p>1000 rows × 4 columns</p>\n</div>"
     },
     "metadata": {},
     "execution_count": 5
    }
   ],
   "source": [
    "from gsc_with_filters import gsc_with_filters\n",
    "\n",
    "# Filters\n",
    "dimension = 'query' \n",
    "operator = 'contains'\n",
    "expression = 'python'\n",
    "args = webmasters_service,site,creds,dimension,operator,expression,start_date,end_date\n",
    "\n",
    "gsc_with_filters(*args,rowLimit=5000)"
   ]
  },
  {
   "cell_type": "markdown",
   "metadata": {},
   "source": [
    "## Extract 100% of the data from Google Search Console\n",
    "\n",
    "What the script does?\n",
    "\n",
    "1. Creates an output folder if it does not exist using my site.\n",
    "\n",
    "2. Checks output folder if dates are already extracted.\n",
    "\n",
    "3. Dates that are already extracted are skipped.\n",
    "\n",
    "4. Day by day, it requests lines by batch of 25K.\n",
    "\n",
    "5. It iterates until all lines are extracted for that day.\n",
    "\n",
    "6. New dates are appended to the existing CSV"
   ]
  },
  {
   "cell_type": "code",
   "execution_count": null,
   "metadata": {
    "tags": []
   },
   "outputs": [],
   "source": [
    "from gsc_to_csv_by_month import gsc_to_csv\n",
    "\n",
    "args = webmasters_service,site,output,creds,start_date\n",
    "gsc_to_csv(*args,end_date=end_date)"
   ]
  },
  {
   "cell_type": "markdown",
   "metadata": {},
   "source": [
    "### Extract up to the Latest Available Date\n",
    "Leave `end_date` empty to extract up to the latest possible date. By default `end_date` is set to three days in the past."
   ]
  },
  {
   "cell_type": "code",
   "execution_count": null,
   "metadata": {
    "tags": []
   },
   "outputs": [],
   "source": [
    "from gsc_to_csv_by_month import gsc_to_csv\n",
    "\n",
    "args = webmasters_service,site,output,creds,start_date\n",
    "gsc_to_csv(*args)"
   ]
  },
  {
   "cell_type": "markdown",
   "metadata": {},
   "source": [
    "### Enable Compression with the Optional gz Parameter\n",
    "By default `gz` is set to `False`."
   ]
  },
  {
   "cell_type": "code",
   "execution_count": null,
   "metadata": {
    "tags": []
   },
   "outputs": [],
   "source": [
    "from gsc_to_csv_by_month import gsc_to_csv\n",
    "\n",
    "start_date = '2020-07-15' \n",
    "end_date = '2020-07-25' \n",
    "args = webmasters_service,site,output,creds,start_date\n",
    "gsc_to_csv(*args,end_date=end_date,gz=True)"
   ]
  },
  {
   "cell_type": "markdown",
   "metadata": {},
   "source": [
    "## SEO Analysis"
   ]
  },
  {
   "cell_type": "markdown",
   "metadata": {},
   "source": [
    "## Branded VS Non-Branded"
   ]
  },
  {
   "cell_type": "code",
   "execution_count": null,
   "metadata": {},
   "outputs": [],
   "source": [
    "import matplotlib.pyplot as plt\n",
    "import pandas as pd"
   ]
  },
  {
   "cell_type": "code",
   "execution_count": null,
   "metadata": {
    "tags": []
   },
   "outputs": [],
   "source": [
    "from file_manip import csvs_to_df\n",
    "\n",
    "site = 'https://www.jcchouinard.com'\n",
    "filename = 'gsc_data.csv'\n",
    "\n",
    "df = csvs_to_df(site,filename,start_date,gz=False)\n",
    "print(df.shape)\n",
    "df.head()"
   ]
  },
  {
   "cell_type": "code",
   "execution_count": null,
   "metadata": {},
   "outputs": [],
   "source": [
    "r = r'.*python.*'\n",
    "df['query_type'] = ''\n",
    "df['query_type'][df['query'].str.contains(r,regex=True)] = 'Python'\n",
    "df['query_type'][~df['query'].str.contains(r,regex=True)] = 'Not-Python'\n",
    "df['query_type'].head()"
   ]
  },
  {
   "cell_type": "code",
   "execution_count": null,
   "metadata": {},
   "outputs": [],
   "source": [
    "df = df.groupby(['date','query_type'])['clicks'].sum().reset_index()\n",
    "df.head()"
   ]
  },
  {
   "cell_type": "code",
   "execution_count": null,
   "metadata": {},
   "outputs": [],
   "source": [
    "df = df.set_index(['date','query_type'])['clicks'].unstack()\n",
    "df.head()"
   ]
  },
  {
   "cell_type": "code",
   "execution_count": null,
   "metadata": {},
   "outputs": [],
   "source": [
    "df = df.reset_index().rename_axis(None, axis=1)\n",
    "df.head()"
   ]
  },
  {
   "cell_type": "code",
   "execution_count": null,
   "metadata": {},
   "outputs": [],
   "source": [
    "from file_manip import date_to_index\n",
    "\n",
    "df = date_to_index(df,'date')\n",
    "df.head()"
   ]
  },
  {
   "cell_type": "code",
   "execution_count": null,
   "metadata": {},
   "outputs": [],
   "source": [
    "df.plot(subplots=True,\n",
    "        sharex=True,\n",
    "        figsize=(6,6))\n",
    "plt.title('Python VS Non-python Related Keywords')\n",
    "plt.xlabel('Date')\n",
    "plt.ylabel('Clicks')\n",
    "plt.show()"
   ]
  },
  {
   "cell_type": "markdown",
   "metadata": {},
   "source": [
    "## Rankings"
   ]
  },
  {
   "cell_type": "code",
   "execution_count": null,
   "metadata": {},
   "outputs": [],
   "source": [
    "df['ranking'] = 'Page 2, Pos 15+'\n",
    "df['ranking'][df['position'] <= 3] = 'Page 1, Pos 1-3'\n",
    "df['ranking'][(df['position'] > 3) & (df['position'] <= 7)] = 'Page 1, Pos 4-7'\n",
    "df['ranking'][(df['position'] > 7) & (df['position'] <= 10)] = 'Page 1, Pos 8-10'\n",
    "df['ranking'][(df['position'] > 10) & (df['position'] <= 14)] = 'Page 2, Pos 11-14'"
   ]
  },
  {
   "cell_type": "markdown",
   "metadata": {},
   "source": [
    "### Clicks by position"
   ]
  },
  {
   "cell_type": "code",
   "execution_count": null,
   "metadata": {},
   "outputs": [],
   "source": [
    "import plotly.express as px\n",
    "\n",
    "plot_df = df.groupby(['date','ranking']).agg({'query':'count','clicks':'sum'}).reset_index()\n",
    "\n",
    "fig = px.area(plot_df, x='date', y='clicks', color='ranking', line_group='ranking', hover_name='ranking',\n",
    "        line_shape='spline')\n",
    "fig.show()"
   ]
  },
  {
   "cell_type": "markdown",
   "metadata": {},
   "source": [
    "### Number of Queries by Position"
   ]
  },
  {
   "cell_type": "code",
   "execution_count": null,
   "metadata": {},
   "outputs": [],
   "source": [
    "fig = px.area(plot_df, x='date', y='query', color='ranking', line_group='ranking', hover_name='ranking',\n",
    "        line_shape='spline')\n",
    "fig.show()"
   ]
  },
  {
   "cell_type": "code",
   "execution_count": null,
   "metadata": {
    "tags": []
   },
   "outputs": [],
   "source": [
    "plot_df = df.groupby(['date']).agg({'query':'count','clicks':'sum'}).reset_index()\n",
    "\n",
    "fig = px.line(plot_df, x='date', y=['query','clicks'])\n",
    "fig.show()"
   ]
  }
 ]
}