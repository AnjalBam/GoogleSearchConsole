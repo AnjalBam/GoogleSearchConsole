{
 "metadata": {
  "language_info": {
   "codemirror_mode": {
    "name": "ipython",
    "version": 3
   },
   "file_extension": ".py",
   "mimetype": "text/x-python",
   "name": "python",
   "nbconvert_exporter": "python",
   "pygments_lexer": "ipython3",
   "version": 3
  },
  "orig_nbformat": 2,
  "kernelspec": {
   "name": "python_defaultSpec_1597208228875",
   "display_name": "Python 3.7.6 64-bit ('base': conda)"
  }
 },
 "nbformat": 4,
 "nbformat_minor": 2,
 "cells": [
  {
   "cell_type": "markdown",
   "metadata": {},
   "source": [
    "# Extract GSC Data\n",
    "author:    Jean-Christophe Chouinard\n",
    "\n",
    "Role:      Sr. SEO Specialist at SEEK.com.au\n",
    "\n",
    "Website:   jcchouinard.com\n",
    "\n",
    "LinkedIn:  linkedin.com/in/jeanchristophechouinard/ \n",
    "\n",
    "Twitter:   twitter.com/@ChouinardJC\n",
    "\n",
    "## Get Started\n",
    "### Clone Github Repository\n",
    "`$ git clone https://github.com/jcchouinard/GoogleSearchConsole-Tutorial.git`\n",
    "\n",
    "### Install Requirements\n",
    "`pip install -r requirements.txt`\n",
    "\n",
    "### Learn Python for SEO\n",
    "[jcchouinard.com/python-for-seo](https://www.jcchouinard.com/python-for-seo)\n",
    "\n",
    "### Get API Keys\n",
    "[jcchouinard.com/how-to-get-google-search-console-api-keys/](https://www.jcchouinard.com/how-to-get-google-search-console-api-keys/)\n",
    "\n",
    "### How to format your request\n",
    "[jcchouinard.com/what-is-google-search-console-api/](https://www.jcchouinard.com/what-is-google-search-console-api/)"
   ]
  },
  {
   "cell_type": "code",
   "execution_count": null,
   "metadata": {
    "tags": []
   },
   "outputs": [],
   "source": [
    "site = 'https://www.jcchouinard.com'\n",
    "creds = 'client_secrets.json'\n",
    "output = 'gsc_data.csv'\n",
    "start_date = '2020-07-01' \n",
    "end_date = '2020-07-15' # Default 3 days before today"
   ]
  },
  {
   "cell_type": "markdown",
   "metadata": {},
   "source": [
    "## Authorize Your Credentials"
   ]
  },
  {
   "cell_type": "code",
   "execution_count": null,
   "metadata": {
    "tags": []
   },
   "outputs": [],
   "source": [
    "from oauth import authorize_creds\n",
    "\n",
    "webmasters_service = authorize_creds(creds) "
   ]
  },
  {
   "cell_type": "markdown",
   "metadata": {},
   "source": [
    "## Extract GSC Data by URL"
   ]
  },
  {
   "cell_type": "code",
   "execution_count": null,
   "metadata": {},
   "outputs": [],
   "source": [
    "from gsc_by_url import gsc_by_url\n",
    "\n",
    "list_of_urls = [\n",
    "    '/chrome-devtools-commands-for-seo/',\n",
    "    '/learn-selenium-python-seo-automation/'\n",
    "    ]\n",
    "\n",
    "list_of_urls = [site + x for x in list_of_urls]\n",
    "args = webmasters_service,site,list_of_urls,creds,start_date,end_date\n",
    "\n",
    "gsc_by_url(*args)"
   ]
  },
  {
   "cell_type": "markdown",
   "metadata": {},
   "source": [
    "## Extract Filtered Data from Google Search Console\n",
    "\n",
    "Possible combinations:\n",
    "\n",
    "Dimension: query, page.\n",
    "\n",
    "Operator: contains, equals, notEquals, notContains\n"
   ]
  },
  {
   "cell_type": "code",
   "execution_count": null,
   "metadata": {
    "tags": [
     "outputPrepend"
    ]
   },
   "outputs": [],
   "source": [
    "from gsc_with_filters import gsc_with_filters\n",
    "\n",
    "# Filters\n",
    "dimension = 'query' \n",
    "operator = 'contains'\n",
    "expression = 'python'\n",
    "args = webmasters_service,site,creds,dimension,operator,expression,start_date,end_date\n",
    "\n",
    "gsc_with_filters(*args)"
   ]
  },
  {
   "cell_type": "markdown",
   "metadata": {},
   "source": [
    "## Extract all your GSC Data\n",
    "1. Create Folder Using Property Name\n",
    "2. Extract all Google Search Console Data\n",
    "3. Export to CSV by Month"
   ]
  },
  {
   "cell_type": "code",
   "execution_count": null,
   "metadata": {
    "tags": []
   },
   "outputs": [],
   "source": [
    "from gsc_to_csv_by_month import gsc_to_csv\n",
    "\n",
    "args = webmasters_service,site,output,creds,start_date,end_date\n",
    "gsc_to_csv(*args)"
   ]
  },
  {
   "cell_type": "code",
   "execution_count": null,
   "metadata": {
    "tags": []
   },
   "outputs": [],
   "source": [
    "from gsc_to_csv_by_month import gsc_to_csv\n",
    "\n",
    "end_date = '2020-07-29' \n",
    "args = webmasters_service,site,output,creds,start_date,end_date\n",
    "gsc_to_csv(*args)"
   ]
  }
 ]
}