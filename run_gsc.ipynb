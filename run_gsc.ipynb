{
 "metadata": {
  "language_info": {
   "codemirror_mode": {
    "name": "ipython",
    "version": 3
   },
   "file_extension": ".py",
   "mimetype": "text/x-python",
   "name": "python",
   "nbconvert_exporter": "python",
   "pygments_lexer": "ipython3",
   "version": "3.7.6-final"
  },
  "orig_nbformat": 2,
  "kernelspec": {
   "name": "python_defaultSpec_1597379930435",
   "display_name": "Python 3.7.6 64-bit ('base': conda)"
  }
 },
 "nbformat": 4,
 "nbformat_minor": 2,
 "cells": [
  {
   "cell_type": "markdown",
   "metadata": {},
   "source": [
    "# Google Search Console API (With Python)\n",
    "author:    Jean-Christophe Chouinard\n",
    "\n",
    "Role:      Sr. SEO Specialist at SEEK.com.au\n",
    "\n",
    "Website:   jcchouinard.com\n",
    "\n",
    "LinkedIn:  linkedin.com/in/jeanchristophechouinard/ \n",
    "\n",
    "Twitter:   twitter.com/@ChouinardJC\n",
    "\n",
    "## Why Use The Google Search Console API?\n",
    "\n",
    "Google limits the amount of data they report to the user. \n",
    "\n",
    "In the search performance report, you can only see **1000 rows** and **16 months** of data.\n",
    "\n",
    "With GSC UI, it is also not possible to get **keywords per page** as they are reported in separate pages.\n",
    "\n",
    "The Google Search Console API lets you extract a lot more than 1000 rows of data.\n",
    "\n",
    "## Get Started\n",
    "### Clone Github Repository\n",
    "`$ git clone https://github.com/jcchouinard/GoogleSearchConsole-Tutorial.git`\n",
    "\n",
    "### Install Requirements\n",
    "`pip install -r requirements.txt`\n",
    "\n",
    "### Learn Python for SEO\n",
    "[jcchouinard.com/python-for-seo](https://www.jcchouinard.com/python-for-seo)\n",
    "\n",
    "### Get API Keys\n",
    "[jcchouinard.com/how-to-get-google-search-console-api-keys/](https://www.jcchouinard.com/how-to-get-google-search-console-api-keys/)\n",
    "\n",
    "### How to format your request\n",
    "[jcchouinard.com/what-is-google-search-console-api/](https://www.jcchouinard.com/what-is-google-search-console-api/)"
   ]
  },
  {
   "cell_type": "code",
   "execution_count": 1,
   "metadata": {
    "tags": []
   },
   "outputs": [],
   "source": [
    "site = 'https://www.jcchouinard.com'\n",
    "creds = 'client_secrets.json'\n",
    "output = 'gsc_data.csv'\n",
    "start_date = '2020-07-15' \n",
    "end_date = '2020-07-25' # Default 3 days before today"
   ]
  },
  {
   "cell_type": "markdown",
   "metadata": {},
   "source": [
    "## Authorize Your Credentials"
   ]
  },
  {
   "cell_type": "code",
   "execution_count": 2,
   "metadata": {
    "tags": []
   },
   "outputs": [
    {
     "output_type": "stream",
     "name": "stdout",
     "text": "Authorizing Creds\nAuth Successful\n"
    }
   ],
   "source": [
    "from oauth import authorize_creds\n",
    "\n",
    "webmasters_service = authorize_creds(creds) "
   ]
  },
  {
   "cell_type": "markdown",
   "metadata": {},
   "source": [
    "## Extract GSC Data by URL"
   ]
  },
  {
   "cell_type": "code",
   "execution_count": null,
   "metadata": {},
   "outputs": [],
   "source": [
    "from gsc_by_url import gsc_by_url\n",
    "\n",
    "list_of_urls = [\n",
    "    '/chrome-devtools-commands-for-seo/',\n",
    "    '/learn-selenium-python-seo-automation/'\n",
    "    ]\n",
    "\n",
    "list_of_urls = [site + x for x in list_of_urls]\n",
    "args = webmasters_service,site,list_of_urls,creds,start_date,end_date\n",
    "\n",
    "gsc_by_url(*args)"
   ]
  },
  {
   "cell_type": "markdown",
   "metadata": {},
   "source": [
    "## Extract Filtered Data from Google Search Console\n",
    "\n",
    "Possible combinations:\n",
    "\n",
    "Dimension: query, page.\n",
    "\n",
    "Operator: contains, equals, notEquals, notContains\n"
   ]
  },
  {
   "cell_type": "code",
   "execution_count": null,
   "metadata": {
    "tags": []
   },
   "outputs": [],
   "source": [
    "from gsc_with_filters import gsc_with_filters\n",
    "\n",
    "# Filters\n",
    "dimension = 'query' \n",
    "operator = 'contains'\n",
    "expression = 'python'\n",
    "args = webmasters_service,site,creds,dimension,operator,expression,start_date,end_date\n",
    "\n",
    "gsc_with_filters(*args)"
   ]
  },
  {
   "cell_type": "markdown",
   "metadata": {},
   "source": [
    "## Extract 100% of the data from Google Search Console\n",
    "\n",
    "What the script does?\n",
    "\n",
    "1. Creates an output folder if it does not exist using my site.\n",
    "\n",
    "2. Checks output folder if dates are already extracted.\n",
    "\n",
    "3. Dates that are already extracted are skipped.\n",
    "\n",
    "4. Day by day, it requests lines by batch of 25K.\n",
    "\n",
    "5. It iterates until all lines are extracted for that day.\n",
    "\n",
    "6. New dates are appended to the existing CSV"
   ]
  },
  {
   "cell_type": "code",
   "execution_count": null,
   "metadata": {
    "tags": []
   },
   "outputs": [],
   "source": [
    "from gsc_to_csv_by_month import gsc_to_csv\n",
    "\n",
    "args = webmasters_service,site,output,creds,start_date\n",
    "gsc_to_csv(*args,end_date=end_date)"
   ]
  },
  {
   "cell_type": "markdown",
   "metadata": {},
   "source": [
    "### Extract up to the Latest Available Date\n",
    "Leave `end_date` empty to extract up to the latest possible date. By default `end_date` is set to three days in the past."
   ]
  },
  {
   "cell_type": "code",
   "execution_count": 3,
   "metadata": {
    "tags": []
   },
   "outputs": [
    {
     "output_type": "stream",
     "name": "stdout",
     "text": "gsc_to_csv gz: False\nCreate project: www_jcchouinard_com\nChecking CSVs in www_jcchouinard_com/\nNo CSV to read\nDone extracting DF from CSVs\nStart date at beginning: 2020-07-15 00:00:00\ndate = 2020-07-15\nsuccessful at 0\nNumrows at the start of loop: 0\nNumrows at the end of loop: 4446\nStart date at beginning: 2020-07-16 00:00:00\ndate = 2020-07-16\nsuccessful at 0\nNumrows at the start of loop: 0\nNumrows at the end of loop: 4313\nStart date at beginning: 2020-07-17 00:00:00\ndate = 2020-07-17\nsuccessful at 0\nNumrows at the start of loop: 0\nNumrows at the end of loop: 4102\nStart date at beginning: 2020-07-18 00:00:00\ndate = 2020-07-18\nsuccessful at 0\nNumrows at the start of loop: 0\nNumrows at the end of loop: 3711\nStart date at beginning: 2020-07-19 00:00:00\ndate = 2020-07-19\nsuccessful at 0\nNumrows at the start of loop: 0\nNumrows at the end of loop: 3920\nStart date at beginning: 2020-07-20 00:00:00\ndate = 2020-07-20\nsuccessful at 0\nNumrows at the start of loop: 0\nNumrows at the end of loop: 4534\nStart date at beginning: 2020-07-21 00:00:00\ndate = 2020-07-21\nsuccessful at 0\nNumrows at the start of loop: 0\nNumrows at the end of loop: 4564\nStart date at beginning: 2020-07-22 00:00:00\ndate = 2020-07-22\nsuccessful at 0\nNumrows at the start of loop: 0\nNumrows at the end of loop: 4766\nStart date at beginning: 2020-07-23 00:00:00\ndate = 2020-07-23\nsuccessful at 0\nNumrows at the start of loop: 0\nNumrows at the end of loop: 4813\nStart date at beginning: 2020-07-24 00:00:00\ndate = 2020-07-24\nsuccessful at 0\nNumrows at the start of loop: 0\nNumrows at the end of loop: 4267\nStart date at beginning: 2020-07-25 00:00:00\ndate = 2020-07-25\nsuccessful at 0\nNumrows at the start of loop: 0\nNumrows at the end of loop: 4038\nStart date at beginning: 2020-07-26 00:00:00\ndate = 2020-07-26\nsuccessful at 0\nNumrows at the start of loop: 0\nNumrows at the end of loop: 3894\nStart date at beginning: 2020-07-27 00:00:00\ndate = 2020-07-27\nsuccessful at 0\nNumrows at the start of loop: 0\nNumrows at the end of loop: 4665\nStart date at beginning: 2020-07-28 00:00:00\ndate = 2020-07-28\nsuccessful at 0\nNumrows at the start of loop: 0\nNumrows at the end of loop: 4559\nStart date at beginning: 2020-07-29 00:00:00\ndate = 2020-07-29\nsuccessful at 0\nNumrows at the start of loop: 0\nNumrows at the end of loop: 4584\nStart date at beginning: 2020-07-30 00:00:00\ndate = 2020-07-30\nsuccessful at 0\nNumrows at the start of loop: 0\nNumrows at the end of loop: 4526\nStart date at beginning: 2020-07-31 00:00:00\ndate = 2020-07-31\nsuccessful at 0\nNumrows at the start of loop: 0\nNumrows at the end of loop: 4323\nStart date at beginning: 2020-08-01 00:00:00\ndate = 2020-08-01\nsuccessful at 0\nNumrows at the start of loop: 0\nNumrows at the end of loop: 3957\nStart date at beginning: 2020-08-02 00:00:00\ndate = 2020-08-02\nsuccessful at 0\nNumrows at the start of loop: 0\nNumrows at the end of loop: 4303\nStart date at beginning: 2020-08-03 00:00:00\ndate = 2020-08-03\nsuccessful at 0\nNumrows at the start of loop: 0\nNumrows at the end of loop: 5230\nStart date at beginning: 2020-08-04 00:00:00\ndate = 2020-08-04\nsuccessful at 0\nNumrows at the start of loop: 0\nNumrows at the end of loop: 5509\nStart date at beginning: 2020-08-05 00:00:00\ndate = 2020-08-05\nsuccessful at 0\nNumrows at the start of loop: 0\nNumrows at the end of loop: 5581\nStart date at beginning: 2020-08-06 00:00:00\ndate = 2020-08-06\nsuccessful at 0\nNumrows at the start of loop: 0\nNumrows at the end of loop: 5259\nStart date at beginning: 2020-08-07 00:00:00\ndate = 2020-08-07\nsuccessful at 0\nNumrows at the start of loop: 0\nNumrows at the end of loop: 5421\nStart date at beginning: 2020-08-08 00:00:00\ndate = 2020-08-08\nsuccessful at 0\nNumrows at the start of loop: 0\nNumrows at the end of loop: 4660\nStart date at beginning: 2020-08-09 00:00:00\ndate = 2020-08-09\nsuccessful at 0\nNumrows at the start of loop: 0\nNumrows at the end of loop: 5061\nStart date at beginning: 2020-08-10 00:00:00\ndate = 2020-08-10\nsuccessful at 0\nNumrows at the start of loop: 0\nNumrows at the end of loop: 5713\nStart date at beginning: 2020-08-11 00:00:00\ndate = 2020-08-11\nsuccessful at 0\nNumrows at the start of loop: 0\nNumrows at the end of loop: 5702\nStart date at beginning: 2020-08-12 00:00:00\ndate = 2020-08-12\nsuccessful at 0\nNumrows at the start of loop: 0\nNumrows at the end of loop: 5367\nStart date at beginning: 2020-08-13 00:00:00\ndate = 2020-08-13\nsuccessful at 0\nNumrows at the start of loop: 0\nNumrows at the end of loop: 5444\nStart date at beginning: 2020-08-14 00:00:00\ndate = 2020-08-14\nsuccessful at 0\nNumrows at the start of loop: 0\nNumrows at the end of loop: 5134\nStart date at beginning: 2020-08-15 00:00:00\ndate = 2020-08-15\nsuccessful at 0\nNumrows at the start of loop: 0\nNumrows at the end of loop: 5101\nStart date at beginning: 2020-08-16 00:00:00\ndate = 2020-08-16\nsuccessful at 0\nNumrows at the start of loop: 0\nNumrows at the end of loop: 5124\nStart date at beginning: 2020-08-17 00:00:00\ndate = 2020-08-17\nsuccessful at 0\nNumrows at the start of loop: 0\nNumrows at the end of loop: 5850\nDone extracting https://www.jcchouinard.com\n"
    }
   ],
   "source": [
    "from gsc_to_csv_by_month import gsc_to_csv\n",
    "\n",
    "args = webmasters_service,site,output,creds,start_date\n",
    "gsc_to_csv(*args)"
   ]
  },
  {
   "cell_type": "markdown",
   "metadata": {},
   "source": [
    "### Enable Compression with the Optional gz Parameter\n",
    "By default `gz` is set to `False`."
   ]
  },
  {
   "cell_type": "code",
   "execution_count": null,
   "metadata": {
    "tags": []
   },
   "outputs": [],
   "source": [
    "from gsc_to_csv_by_month import gsc_to_csv\n",
    "\n",
    "start_date = '2020-07-15' \n",
    "end_date = '2020-07-25' \n",
    "args = webmasters_service,site,output,creds,start_date\n",
    "gsc_to_csv(*args,end_date=end_date,gz=True)"
   ]
  },
  {
   "cell_type": "markdown",
   "metadata": {},
   "source": [
    "## SEO Analysis"
   ]
  },
  {
   "cell_type": "markdown",
   "metadata": {},
   "source": [
    "## Branded VS Non-Branded"
   ]
  },
  {
   "cell_type": "code",
   "execution_count": 40,
   "metadata": {},
   "outputs": [],
   "source": [
    "import matplotlib.pyplot as plt\n",
    "import pandas as pd"
   ]
  },
  {
   "cell_type": "code",
   "execution_count": 65,
   "metadata": {
    "tags": []
   },
   "outputs": [
    {
     "output_type": "stream",
     "name": "stdout",
     "text": "Checking CSVs in www_jcchouinard_com/\nChecking 2020-07_gsc_data.csv\nChecking 2020-08_gsc_data.csv\nReading www_jcchouinard_com/2020-07_gsc_data.csv to CSV\nReading www_jcchouinard_com/2020-08_gsc_data.csv to CSV\nDone extracting DF from CSVs\n(162441, 7)\n"
    },
    {
     "output_type": "execute_result",
     "data": {
      "text/plain": "         date                                               page  \\\n0  2020-07-15  https://www.jcchouinard.com/clone-github-repos...   \n1  2020-07-15  https://www.jcchouinard.com/clone-github-repos...   \n2  2020-07-15  https://www.jcchouinard.com/google-analytics-a...   \n3  2020-07-15  https://www.jcchouinard.com/python-automation-...   \n4  2020-07-15  https://www.jcchouinard.com/python-automation-...   \n\n                                    query  clicks        ctr  impressions  \\\n0  how to clone git repository in windows      16  80.000000           20   \n1                     how to clone a repo       3  21.428571           14   \n2                 google analytics python       3  27.272727           11   \n3     automate python script to run daily       3  42.857143            7   \n4                  schedule python script       3  13.636364           22   \n\n   position  \n0      1.00  \n1      7.79  \n2      6.00  \n3      1.57  \n4      2.41  ",
      "text/html": "<div>\n<style scoped>\n    .dataframe tbody tr th:only-of-type {\n        vertical-align: middle;\n    }\n\n    .dataframe tbody tr th {\n        vertical-align: top;\n    }\n\n    .dataframe thead th {\n        text-align: right;\n    }\n</style>\n<table border=\"1\" class=\"dataframe\">\n  <thead>\n    <tr style=\"text-align: right;\">\n      <th></th>\n      <th>date</th>\n      <th>page</th>\n      <th>query</th>\n      <th>clicks</th>\n      <th>ctr</th>\n      <th>impressions</th>\n      <th>position</th>\n    </tr>\n  </thead>\n  <tbody>\n    <tr>\n      <th>0</th>\n      <td>2020-07-15</td>\n      <td>https://www.jcchouinard.com/clone-github-repos...</td>\n      <td>how to clone git repository in windows</td>\n      <td>16</td>\n      <td>80.000000</td>\n      <td>20</td>\n      <td>1.00</td>\n    </tr>\n    <tr>\n      <th>1</th>\n      <td>2020-07-15</td>\n      <td>https://www.jcchouinard.com/clone-github-repos...</td>\n      <td>how to clone a repo</td>\n      <td>3</td>\n      <td>21.428571</td>\n      <td>14</td>\n      <td>7.79</td>\n    </tr>\n    <tr>\n      <th>2</th>\n      <td>2020-07-15</td>\n      <td>https://www.jcchouinard.com/google-analytics-a...</td>\n      <td>google analytics python</td>\n      <td>3</td>\n      <td>27.272727</td>\n      <td>11</td>\n      <td>6.00</td>\n    </tr>\n    <tr>\n      <th>3</th>\n      <td>2020-07-15</td>\n      <td>https://www.jcchouinard.com/python-automation-...</td>\n      <td>automate python script to run daily</td>\n      <td>3</td>\n      <td>42.857143</td>\n      <td>7</td>\n      <td>1.57</td>\n    </tr>\n    <tr>\n      <th>4</th>\n      <td>2020-07-15</td>\n      <td>https://www.jcchouinard.com/python-automation-...</td>\n      <td>schedule python script</td>\n      <td>3</td>\n      <td>13.636364</td>\n      <td>22</td>\n      <td>2.41</td>\n    </tr>\n  </tbody>\n</table>\n</div>"
     },
     "metadata": {},
     "execution_count": 65
    }
   ],
   "source": [
    "from file_manip import csvs_to_df\n",
    "\n",
    "site = 'https://www.jcchouinard.com'\n",
    "filename = 'gsc_data.csv'\n",
    "\n",
    "df = csvs_to_df(site,filename,start_date,gz=False)\n",
    "print(df.shape)\n",
    "df.head()"
   ]
  },
  {
   "cell_type": "code",
   "execution_count": 66,
   "metadata": {},
   "outputs": [
    {
     "output_type": "execute_result",
     "data": {
      "text/plain": "0    Not-Python\n1    Not-Python\n2    Not-Python\n3    Not-Python\n4    Not-Python\nName: query_type, dtype: object"
     },
     "metadata": {},
     "execution_count": 66
    }
   ],
   "source": [
    "r = r'.*python.*'\n",
    "df['query_type'] = ''\n",
    "df['query_type'][df['query'].str.contains(r,regex=True)] = 'Python'\n",
    "df['query_type'][~df['query'].str.contains(r,regex=True)] = 'Not-Python'\n",
    "df['query_type'].head()"
   ]
  },
  {
   "cell_type": "code",
   "execution_count": 67,
   "metadata": {},
   "outputs": [
    {
     "output_type": "execute_result",
     "data": {
      "text/plain": "         date  query_type  clicks\n0  2020-07-15  Not-Python     163\n1  2020-07-15      Python       0\n2  2020-07-16  Not-Python     185\n3  2020-07-17  Not-Python     119\n4  2020-07-17      Python       0",
      "text/html": "<div>\n<style scoped>\n    .dataframe tbody tr th:only-of-type {\n        vertical-align: middle;\n    }\n\n    .dataframe tbody tr th {\n        vertical-align: top;\n    }\n\n    .dataframe thead th {\n        text-align: right;\n    }\n</style>\n<table border=\"1\" class=\"dataframe\">\n  <thead>\n    <tr style=\"text-align: right;\">\n      <th></th>\n      <th>date</th>\n      <th>query_type</th>\n      <th>clicks</th>\n    </tr>\n  </thead>\n  <tbody>\n    <tr>\n      <th>0</th>\n      <td>2020-07-15</td>\n      <td>Not-Python</td>\n      <td>163</td>\n    </tr>\n    <tr>\n      <th>1</th>\n      <td>2020-07-15</td>\n      <td>Python</td>\n      <td>0</td>\n    </tr>\n    <tr>\n      <th>2</th>\n      <td>2020-07-16</td>\n      <td>Not-Python</td>\n      <td>185</td>\n    </tr>\n    <tr>\n      <th>3</th>\n      <td>2020-07-17</td>\n      <td>Not-Python</td>\n      <td>119</td>\n    </tr>\n    <tr>\n      <th>4</th>\n      <td>2020-07-17</td>\n      <td>Python</td>\n      <td>0</td>\n    </tr>\n  </tbody>\n</table>\n</div>"
     },
     "metadata": {},
     "execution_count": 67
    }
   ],
   "source": [
    "df = df.groupby(['date','query_type'])['clicks'].sum().reset_index()\n",
    "df.head()"
   ]
  },
  {
   "cell_type": "code",
   "execution_count": 68,
   "metadata": {},
   "outputs": [
    {
     "output_type": "execute_result",
     "data": {
      "text/plain": "query_type  Not-Python  Python\ndate                          \n2020-07-15       163.0     0.0\n2020-07-16       185.0     NaN\n2020-07-17       119.0     0.0\n2020-07-18        76.0     0.0\n2020-07-19        81.0     NaN",
      "text/html": "<div>\n<style scoped>\n    .dataframe tbody tr th:only-of-type {\n        vertical-align: middle;\n    }\n\n    .dataframe tbody tr th {\n        vertical-align: top;\n    }\n\n    .dataframe thead th {\n        text-align: right;\n    }\n</style>\n<table border=\"1\" class=\"dataframe\">\n  <thead>\n    <tr style=\"text-align: right;\">\n      <th>query_type</th>\n      <th>Not-Python</th>\n      <th>Python</th>\n    </tr>\n    <tr>\n      <th>date</th>\n      <th></th>\n      <th></th>\n    </tr>\n  </thead>\n  <tbody>\n    <tr>\n      <th>2020-07-15</th>\n      <td>163.0</td>\n      <td>0.0</td>\n    </tr>\n    <tr>\n      <th>2020-07-16</th>\n      <td>185.0</td>\n      <td>NaN</td>\n    </tr>\n    <tr>\n      <th>2020-07-17</th>\n      <td>119.0</td>\n      <td>0.0</td>\n    </tr>\n    <tr>\n      <th>2020-07-18</th>\n      <td>76.0</td>\n      <td>0.0</td>\n    </tr>\n    <tr>\n      <th>2020-07-19</th>\n      <td>81.0</td>\n      <td>NaN</td>\n    </tr>\n  </tbody>\n</table>\n</div>"
     },
     "metadata": {},
     "execution_count": 68
    }
   ],
   "source": [
    "df = df.set_index(['date','query_type'])['clicks'].unstack()\n",
    "df.head()"
   ]
  },
  {
   "cell_type": "code",
   "execution_count": 69,
   "metadata": {},
   "outputs": [
    {
     "output_type": "execute_result",
     "data": {
      "text/plain": "         date  Not-Python  Python\n0  2020-07-15       163.0     0.0\n1  2020-07-16       185.0     NaN\n2  2020-07-17       119.0     0.0\n3  2020-07-18        76.0     0.0\n4  2020-07-19        81.0     NaN",
      "text/html": "<div>\n<style scoped>\n    .dataframe tbody tr th:only-of-type {\n        vertical-align: middle;\n    }\n\n    .dataframe tbody tr th {\n        vertical-align: top;\n    }\n\n    .dataframe thead th {\n        text-align: right;\n    }\n</style>\n<table border=\"1\" class=\"dataframe\">\n  <thead>\n    <tr style=\"text-align: right;\">\n      <th></th>\n      <th>date</th>\n      <th>Not-Python</th>\n      <th>Python</th>\n    </tr>\n  </thead>\n  <tbody>\n    <tr>\n      <th>0</th>\n      <td>2020-07-15</td>\n      <td>163.0</td>\n      <td>0.0</td>\n    </tr>\n    <tr>\n      <th>1</th>\n      <td>2020-07-16</td>\n      <td>185.0</td>\n      <td>NaN</td>\n    </tr>\n    <tr>\n      <th>2</th>\n      <td>2020-07-17</td>\n      <td>119.0</td>\n      <td>0.0</td>\n    </tr>\n    <tr>\n      <th>3</th>\n      <td>2020-07-18</td>\n      <td>76.0</td>\n      <td>0.0</td>\n    </tr>\n    <tr>\n      <th>4</th>\n      <td>2020-07-19</td>\n      <td>81.0</td>\n      <td>NaN</td>\n    </tr>\n  </tbody>\n</table>\n</div>"
     },
     "metadata": {},
     "execution_count": 69
    }
   ],
   "source": [
    "df = df.reset_index().rename_axis(None, axis=1)\n",
    "df.head()"
   ]
  },
  {
   "cell_type": "code",
   "execution_count": 70,
   "metadata": {},
   "outputs": [
    {
     "output_type": "execute_result",
     "data": {
      "text/plain": "            Not-Python  Python\ndate                          \n2020-07-15       163.0     0.0\n2020-07-16       185.0     NaN\n2020-07-17       119.0     0.0\n2020-07-18        76.0     0.0\n2020-07-19        81.0     NaN",
      "text/html": "<div>\n<style scoped>\n    .dataframe tbody tr th:only-of-type {\n        vertical-align: middle;\n    }\n\n    .dataframe tbody tr th {\n        vertical-align: top;\n    }\n\n    .dataframe thead th {\n        text-align: right;\n    }\n</style>\n<table border=\"1\" class=\"dataframe\">\n  <thead>\n    <tr style=\"text-align: right;\">\n      <th></th>\n      <th>Not-Python</th>\n      <th>Python</th>\n    </tr>\n    <tr>\n      <th>date</th>\n      <th></th>\n      <th></th>\n    </tr>\n  </thead>\n  <tbody>\n    <tr>\n      <th>2020-07-15</th>\n      <td>163.0</td>\n      <td>0.0</td>\n    </tr>\n    <tr>\n      <th>2020-07-16</th>\n      <td>185.0</td>\n      <td>NaN</td>\n    </tr>\n    <tr>\n      <th>2020-07-17</th>\n      <td>119.0</td>\n      <td>0.0</td>\n    </tr>\n    <tr>\n      <th>2020-07-18</th>\n      <td>76.0</td>\n      <td>0.0</td>\n    </tr>\n    <tr>\n      <th>2020-07-19</th>\n      <td>81.0</td>\n      <td>NaN</td>\n    </tr>\n  </tbody>\n</table>\n</div>"
     },
     "metadata": {},
     "execution_count": 70
    }
   ],
   "source": [
    "from file_manip import date_to_index\n",
    "\n",
    "df = date_to_index(df,'date')\n",
    "df.head()"
   ]
  },
  {
   "cell_type": "code",
   "execution_count": 71,
   "metadata": {},
   "outputs": [
    {
     "output_type": "display_data",
     "data": {
      "text/plain": "<Figure size 432x432 with 2 Axes>",
      "image/svg+xml": "<?xml version=\"1.0\" encoding=\"utf-8\" standalone=\"no\"?>\n<!DOCTYPE svg PUBLIC \"-//W3C//DTD SVG 1.1//EN\"\n  \"http://www.w3.org/Graphics/SVG/1.1/DTD/svg11.dtd\">\n<!-- Created with matplotlib (https://matplotlib.org/) -->\n<svg height=\"379.037397pt\" version=\"1.1\" viewBox=\"0 0 400.523437 379.037397\" width=\"400.523437pt\" xmlns=\"http://www.w3.org/2000/svg\" xmlns:xlink=\"http://www.w3.org/1999/xlink\">\n <defs>\n  <style type=\"text/css\">\n*{stroke-linecap:butt;stroke-linejoin:round;}\n  </style>\n </defs>\n <g id=\"figure_1\">\n  <g id=\"patch_1\">\n   <path d=\"M 0 379.037397 \nL 400.523437 379.037397 \nL 400.523437 0 \nL 0 0 \nz\n\" style=\"fill:none;\"/>\n  </g>\n  <g id=\"axes_1\">\n   <g id=\"patch_2\">\n    <path d=\"M 58.523438 140.727273 \nL 393.323438 140.727273 \nL 393.323438 7.2 \nL 58.523438 7.2 \nz\n\" style=\"fill:#ffffff;\"/>\n   </g>\n   <g id=\"matplotlib.axis_1\">\n    <g id=\"xtick_1\">\n     <g id=\"line2d_1\">\n      <defs>\n       <path d=\"M 0 0 \nL 0 3.5 \n\" id=\"mf9c5c2df92\" style=\"stroke:#000000;stroke-width:0.8;\"/>\n      </defs>\n      <g>\n       <use style=\"stroke:#000000;stroke-width:0.8;\" x=\"58.523438\" xlink:href=\"#mf9c5c2df92\" y=\"140.727273\"/>\n      </g>\n     </g>\n    </g>\n    <g id=\"xtick_2\">\n     <g id=\"line2d_2\">\n      <g>\n       <use style=\"stroke:#000000;stroke-width:0.8;\" x=\"230.996165\" xlink:href=\"#mf9c5c2df92\" y=\"140.727273\"/>\n      </g>\n     </g>\n    </g>\n    <g id=\"xtick_3\">\n     <g id=\"line2d_3\">\n      <g>\n       <use style=\"stroke:#000000;stroke-width:0.8;\" x=\"393.323437\" xlink:href=\"#mf9c5c2df92\" y=\"140.727273\"/>\n      </g>\n     </g>\n    </g>\n    <g id=\"xtick_4\">\n     <g id=\"line2d_4\">\n      <defs>\n       <path d=\"M 0 0 \nL 0 2 \n\" id=\"m41b2ff3409\" style=\"stroke:#000000;stroke-width:0.6;\"/>\n      </defs>\n      <g>\n       <use style=\"stroke:#000000;stroke-width:0.6;\" x=\"68.668892\" xlink:href=\"#m41b2ff3409\" y=\"140.727273\"/>\n      </g>\n     </g>\n    </g>\n    <g id=\"xtick_5\">\n     <g id=\"line2d_5\">\n      <g>\n       <use style=\"stroke:#000000;stroke-width:0.6;\" x=\"78.814347\" xlink:href=\"#m41b2ff3409\" y=\"140.727273\"/>\n      </g>\n     </g>\n    </g>\n    <g id=\"xtick_6\">\n     <g id=\"line2d_6\">\n      <g>\n       <use style=\"stroke:#000000;stroke-width:0.6;\" x=\"88.959801\" xlink:href=\"#m41b2ff3409\" y=\"140.727273\"/>\n      </g>\n     </g>\n    </g>\n    <g id=\"xtick_7\">\n     <g id=\"line2d_7\">\n      <g>\n       <use style=\"stroke:#000000;stroke-width:0.6;\" x=\"99.105256\" xlink:href=\"#m41b2ff3409\" y=\"140.727273\"/>\n      </g>\n     </g>\n    </g>\n    <g id=\"xtick_8\">\n     <g id=\"line2d_8\">\n      <g>\n       <use style=\"stroke:#000000;stroke-width:0.6;\" x=\"109.25071\" xlink:href=\"#m41b2ff3409\" y=\"140.727273\"/>\n      </g>\n     </g>\n    </g>\n    <g id=\"xtick_9\">\n     <g id=\"line2d_9\">\n      <g>\n       <use style=\"stroke:#000000;stroke-width:0.6;\" x=\"119.396165\" xlink:href=\"#m41b2ff3409\" y=\"140.727273\"/>\n      </g>\n     </g>\n    </g>\n    <g id=\"xtick_10\">\n     <g id=\"line2d_10\">\n      <g>\n       <use style=\"stroke:#000000;stroke-width:0.6;\" x=\"129.541619\" xlink:href=\"#m41b2ff3409\" y=\"140.727273\"/>\n      </g>\n     </g>\n    </g>\n    <g id=\"xtick_11\">\n     <g id=\"line2d_11\">\n      <g>\n       <use style=\"stroke:#000000;stroke-width:0.6;\" x=\"139.687074\" xlink:href=\"#m41b2ff3409\" y=\"140.727273\"/>\n      </g>\n     </g>\n    </g>\n    <g id=\"xtick_12\">\n     <g id=\"line2d_12\">\n      <g>\n       <use style=\"stroke:#000000;stroke-width:0.6;\" x=\"149.832528\" xlink:href=\"#m41b2ff3409\" y=\"140.727273\"/>\n      </g>\n     </g>\n    </g>\n    <g id=\"xtick_13\">\n     <g id=\"line2d_13\">\n      <g>\n       <use style=\"stroke:#000000;stroke-width:0.6;\" x=\"159.977983\" xlink:href=\"#m41b2ff3409\" y=\"140.727273\"/>\n      </g>\n     </g>\n    </g>\n    <g id=\"xtick_14\">\n     <g id=\"line2d_14\">\n      <g>\n       <use style=\"stroke:#000000;stroke-width:0.6;\" x=\"170.123438\" xlink:href=\"#m41b2ff3409\" y=\"140.727273\"/>\n      </g>\n     </g>\n    </g>\n    <g id=\"xtick_15\">\n     <g id=\"line2d_15\">\n      <g>\n       <use style=\"stroke:#000000;stroke-width:0.6;\" x=\"180.268892\" xlink:href=\"#m41b2ff3409\" y=\"140.727273\"/>\n      </g>\n     </g>\n    </g>\n    <g id=\"xtick_16\">\n     <g id=\"line2d_16\">\n      <g>\n       <use style=\"stroke:#000000;stroke-width:0.6;\" x=\"190.414347\" xlink:href=\"#m41b2ff3409\" y=\"140.727273\"/>\n      </g>\n     </g>\n    </g>\n    <g id=\"xtick_17\">\n     <g id=\"line2d_17\">\n      <g>\n       <use style=\"stroke:#000000;stroke-width:0.6;\" x=\"200.559801\" xlink:href=\"#m41b2ff3409\" y=\"140.727273\"/>\n      </g>\n     </g>\n    </g>\n    <g id=\"xtick_18\">\n     <g id=\"line2d_18\">\n      <g>\n       <use style=\"stroke:#000000;stroke-width:0.6;\" x=\"210.705256\" xlink:href=\"#m41b2ff3409\" y=\"140.727273\"/>\n      </g>\n     </g>\n    </g>\n    <g id=\"xtick_19\">\n     <g id=\"line2d_19\">\n      <g>\n       <use style=\"stroke:#000000;stroke-width:0.6;\" x=\"220.85071\" xlink:href=\"#m41b2ff3409\" y=\"140.727273\"/>\n      </g>\n     </g>\n    </g>\n    <g id=\"xtick_20\">\n     <g id=\"line2d_20\">\n      <g>\n       <use style=\"stroke:#000000;stroke-width:0.6;\" x=\"241.141619\" xlink:href=\"#m41b2ff3409\" y=\"140.727273\"/>\n      </g>\n     </g>\n    </g>\n    <g id=\"xtick_21\">\n     <g id=\"line2d_21\">\n      <g>\n       <use style=\"stroke:#000000;stroke-width:0.6;\" x=\"251.287074\" xlink:href=\"#m41b2ff3409\" y=\"140.727273\"/>\n      </g>\n     </g>\n    </g>\n    <g id=\"xtick_22\">\n     <g id=\"line2d_22\">\n      <g>\n       <use style=\"stroke:#000000;stroke-width:0.6;\" x=\"261.432528\" xlink:href=\"#m41b2ff3409\" y=\"140.727273\"/>\n      </g>\n     </g>\n    </g>\n    <g id=\"xtick_23\">\n     <g id=\"line2d_23\">\n      <g>\n       <use style=\"stroke:#000000;stroke-width:0.6;\" x=\"271.577983\" xlink:href=\"#m41b2ff3409\" y=\"140.727273\"/>\n      </g>\n     </g>\n    </g>\n    <g id=\"xtick_24\">\n     <g id=\"line2d_24\">\n      <g>\n       <use style=\"stroke:#000000;stroke-width:0.6;\" x=\"281.723438\" xlink:href=\"#m41b2ff3409\" y=\"140.727273\"/>\n      </g>\n     </g>\n    </g>\n    <g id=\"xtick_25\">\n     <g id=\"line2d_25\">\n      <g>\n       <use style=\"stroke:#000000;stroke-width:0.6;\" x=\"291.868892\" xlink:href=\"#m41b2ff3409\" y=\"140.727273\"/>\n      </g>\n     </g>\n    </g>\n    <g id=\"xtick_26\">\n     <g id=\"line2d_26\">\n      <g>\n       <use style=\"stroke:#000000;stroke-width:0.6;\" x=\"302.014347\" xlink:href=\"#m41b2ff3409\" y=\"140.727273\"/>\n      </g>\n     </g>\n    </g>\n    <g id=\"xtick_27\">\n     <g id=\"line2d_27\">\n      <g>\n       <use style=\"stroke:#000000;stroke-width:0.6;\" x=\"312.159801\" xlink:href=\"#m41b2ff3409\" y=\"140.727273\"/>\n      </g>\n     </g>\n    </g>\n    <g id=\"xtick_28\">\n     <g id=\"line2d_28\">\n      <g>\n       <use style=\"stroke:#000000;stroke-width:0.6;\" x=\"322.305256\" xlink:href=\"#m41b2ff3409\" y=\"140.727273\"/>\n      </g>\n     </g>\n    </g>\n    <g id=\"xtick_29\">\n     <g id=\"line2d_29\">\n      <g>\n       <use style=\"stroke:#000000;stroke-width:0.6;\" x=\"332.45071\" xlink:href=\"#m41b2ff3409\" y=\"140.727273\"/>\n      </g>\n     </g>\n    </g>\n    <g id=\"xtick_30\">\n     <g id=\"line2d_30\">\n      <g>\n       <use style=\"stroke:#000000;stroke-width:0.6;\" x=\"342.596165\" xlink:href=\"#m41b2ff3409\" y=\"140.727273\"/>\n      </g>\n     </g>\n    </g>\n    <g id=\"xtick_31\">\n     <g id=\"line2d_31\">\n      <g>\n       <use style=\"stroke:#000000;stroke-width:0.6;\" x=\"352.741619\" xlink:href=\"#m41b2ff3409\" y=\"140.727273\"/>\n      </g>\n     </g>\n    </g>\n    <g id=\"xtick_32\">\n     <g id=\"line2d_32\">\n      <g>\n       <use style=\"stroke:#000000;stroke-width:0.6;\" x=\"362.887074\" xlink:href=\"#m41b2ff3409\" y=\"140.727273\"/>\n      </g>\n     </g>\n    </g>\n    <g id=\"xtick_33\">\n     <g id=\"line2d_33\">\n      <g>\n       <use style=\"stroke:#000000;stroke-width:0.6;\" x=\"373.032528\" xlink:href=\"#m41b2ff3409\" y=\"140.727273\"/>\n      </g>\n     </g>\n    </g>\n    <g id=\"xtick_34\">\n     <g id=\"line2d_34\">\n      <g>\n       <use style=\"stroke:#000000;stroke-width:0.6;\" x=\"383.177983\" xlink:href=\"#m41b2ff3409\" y=\"140.727273\"/>\n      </g>\n     </g>\n    </g>\n   </g>\n   <g id=\"matplotlib.axis_2\">\n    <g id=\"ytick_1\">\n     <g id=\"line2d_35\">\n      <defs>\n       <path d=\"M 0 0 \nL -3.5 0 \n\" id=\"m17b8c9220c\" style=\"stroke:#000000;stroke-width:0.8;\"/>\n      </defs>\n      <g>\n       <use style=\"stroke:#000000;stroke-width:0.8;\" x=\"58.523438\" xlink:href=\"#m17b8c9220c\" y=\"119.404855\"/>\n      </g>\n     </g>\n     <g id=\"text_1\">\n      <!-- 100 -->\n      <defs>\n       <path d=\"M 12.40625 8.296875 \nL 28.515625 8.296875 \nL 28.515625 63.921875 \nL 10.984375 60.40625 \nL 10.984375 69.390625 \nL 28.421875 72.90625 \nL 38.28125 72.90625 \nL 38.28125 8.296875 \nL 54.390625 8.296875 \nL 54.390625 0 \nL 12.40625 0 \nz\n\" id=\"DejaVuSans-49\"/>\n       <path d=\"M 31.78125 66.40625 \nQ 24.171875 66.40625 20.328125 58.90625 \nQ 16.5 51.421875 16.5 36.375 \nQ 16.5 21.390625 20.328125 13.890625 \nQ 24.171875 6.390625 31.78125 6.390625 \nQ 39.453125 6.390625 43.28125 13.890625 \nQ 47.125 21.390625 47.125 36.375 \nQ 47.125 51.421875 43.28125 58.90625 \nQ 39.453125 66.40625 31.78125 66.40625 \nz\nM 31.78125 74.21875 \nQ 44.046875 74.21875 50.515625 64.515625 \nQ 56.984375 54.828125 56.984375 36.375 \nQ 56.984375 17.96875 50.515625 8.265625 \nQ 44.046875 -1.421875 31.78125 -1.421875 \nQ 19.53125 -1.421875 13.0625 8.265625 \nQ 6.59375 17.96875 6.59375 36.375 \nQ 6.59375 54.828125 13.0625 64.515625 \nQ 19.53125 74.21875 31.78125 74.21875 \nz\n\" id=\"DejaVuSans-48\"/>\n      </defs>\n      <g transform=\"translate(32.435938 123.204074)scale(0.1 -0.1)\">\n       <use xlink:href=\"#DejaVuSans-49\"/>\n       <use x=\"63.623047\" xlink:href=\"#DejaVuSans-48\"/>\n       <use x=\"127.246094\" xlink:href=\"#DejaVuSans-48\"/>\n      </g>\n     </g>\n    </g>\n    <g id=\"ytick_2\">\n     <g id=\"line2d_36\">\n      <g>\n       <use style=\"stroke:#000000;stroke-width:0.8;\" x=\"58.523438\" xlink:href=\"#m17b8c9220c\" y=\"87.627779\"/>\n      </g>\n     </g>\n     <g id=\"text_2\">\n      <!-- 150 -->\n      <defs>\n       <path d=\"M 10.796875 72.90625 \nL 49.515625 72.90625 \nL 49.515625 64.59375 \nL 19.828125 64.59375 \nL 19.828125 46.734375 \nQ 21.96875 47.46875 24.109375 47.828125 \nQ 26.265625 48.1875 28.421875 48.1875 \nQ 40.625 48.1875 47.75 41.5 \nQ 54.890625 34.8125 54.890625 23.390625 \nQ 54.890625 11.625 47.5625 5.09375 \nQ 40.234375 -1.421875 26.90625 -1.421875 \nQ 22.3125 -1.421875 17.546875 -0.640625 \nQ 12.796875 0.140625 7.71875 1.703125 \nL 7.71875 11.625 \nQ 12.109375 9.234375 16.796875 8.0625 \nQ 21.484375 6.890625 26.703125 6.890625 \nQ 35.15625 6.890625 40.078125 11.328125 \nQ 45.015625 15.765625 45.015625 23.390625 \nQ 45.015625 31 40.078125 35.4375 \nQ 35.15625 39.890625 26.703125 39.890625 \nQ 22.75 39.890625 18.8125 39.015625 \nQ 14.890625 38.140625 10.796875 36.28125 \nz\n\" id=\"DejaVuSans-53\"/>\n      </defs>\n      <g transform=\"translate(32.435938 91.426998)scale(0.1 -0.1)\">\n       <use xlink:href=\"#DejaVuSans-49\"/>\n       <use x=\"63.623047\" xlink:href=\"#DejaVuSans-53\"/>\n       <use x=\"127.246094\" xlink:href=\"#DejaVuSans-48\"/>\n      </g>\n     </g>\n    </g>\n    <g id=\"ytick_3\">\n     <g id=\"line2d_37\">\n      <g>\n       <use style=\"stroke:#000000;stroke-width:0.8;\" x=\"58.523438\" xlink:href=\"#m17b8c9220c\" y=\"55.850703\"/>\n      </g>\n     </g>\n     <g id=\"text_3\">\n      <!-- 200 -->\n      <defs>\n       <path d=\"M 19.1875 8.296875 \nL 53.609375 8.296875 \nL 53.609375 0 \nL 7.328125 0 \nL 7.328125 8.296875 \nQ 12.9375 14.109375 22.625 23.890625 \nQ 32.328125 33.6875 34.8125 36.53125 \nQ 39.546875 41.84375 41.421875 45.53125 \nQ 43.3125 49.21875 43.3125 52.78125 \nQ 43.3125 58.59375 39.234375 62.25 \nQ 35.15625 65.921875 28.609375 65.921875 \nQ 23.96875 65.921875 18.8125 64.3125 \nQ 13.671875 62.703125 7.8125 59.421875 \nL 7.8125 69.390625 \nQ 13.765625 71.78125 18.9375 73 \nQ 24.125 74.21875 28.421875 74.21875 \nQ 39.75 74.21875 46.484375 68.546875 \nQ 53.21875 62.890625 53.21875 53.421875 \nQ 53.21875 48.921875 51.53125 44.890625 \nQ 49.859375 40.875 45.40625 35.40625 \nQ 44.1875 33.984375 37.640625 27.21875 \nQ 31.109375 20.453125 19.1875 8.296875 \nz\n\" id=\"DejaVuSans-50\"/>\n      </defs>\n      <g transform=\"translate(32.435938 59.649922)scale(0.1 -0.1)\">\n       <use xlink:href=\"#DejaVuSans-50\"/>\n       <use x=\"63.623047\" xlink:href=\"#DejaVuSans-48\"/>\n       <use x=\"127.246094\" xlink:href=\"#DejaVuSans-48\"/>\n      </g>\n     </g>\n    </g>\n    <g id=\"ytick_4\">\n     <g id=\"line2d_38\">\n      <g>\n       <use style=\"stroke:#000000;stroke-width:0.8;\" x=\"58.523438\" xlink:href=\"#m17b8c9220c\" y=\"24.073627\"/>\n      </g>\n     </g>\n     <g id=\"text_4\">\n      <!-- 250 -->\n      <g transform=\"translate(32.435938 27.872846)scale(0.1 -0.1)\">\n       <use xlink:href=\"#DejaVuSans-50\"/>\n       <use x=\"63.623047\" xlink:href=\"#DejaVuSans-53\"/>\n       <use x=\"127.246094\" xlink:href=\"#DejaVuSans-48\"/>\n      </g>\n     </g>\n    </g>\n   </g>\n   <g id=\"line2d_39\">\n    <path clip-path=\"url(#p863a8189d0)\" d=\"M 58.523438 79.365739 \nL 68.668892 65.383826 \nL 78.814347 107.329566 \nL 88.959801 134.657851 \nL 99.105256 131.480144 \nL 109.25071 76.823573 \nL 119.396165 62.206118 \nL 129.541619 74.916949 \nL 139.687074 92.07657 \nL 149.832528 104.151858 \nL 159.977983 132.115685 \nL 170.123438 109.871732 \nL 180.268892 64.748284 \nL 190.414347 66.654909 \nL 200.559801 81.907905 \nL 210.705256 91.441028 \nL 220.85071 84.450071 \nL 230.996165 122.582562 \nL 241.141619 105.422941 \nL 251.287074 53.308537 \nL 261.432528 41.86879 \nL 271.577983 59.028411 \nL 281.723438 52.672996 \nL 291.868892 78.094656 \nL 302.014347 118.133772 \nL 312.159801 101.609692 \nL 322.305256 50.766371 \nL 332.45071 48.859746 \nL 342.596165 67.925992 \nL 352.741619 39.326624 \nL 362.887074 62.84166 \nL 373.032528 111.778357 \nL 383.177983 94.618736 \nL 393.323437 13.269421 \n\" style=\"fill:none;stroke:#1f77b4;stroke-linecap:square;stroke-width:1.5;\"/>\n   </g>\n   <g id=\"patch_3\">\n    <path d=\"M 58.523438 140.727273 \nL 58.523438 7.2 \n\" style=\"fill:none;stroke:#000000;stroke-linecap:square;stroke-linejoin:miter;stroke-width:0.8;\"/>\n   </g>\n   <g id=\"patch_4\">\n    <path d=\"M 393.323438 140.727273 \nL 393.323438 7.2 \n\" style=\"fill:none;stroke:#000000;stroke-linecap:square;stroke-linejoin:miter;stroke-width:0.8;\"/>\n   </g>\n   <g id=\"patch_5\">\n    <path d=\"M 58.523438 140.727273 \nL 393.323437 140.727273 \n\" style=\"fill:none;stroke:#000000;stroke-linecap:square;stroke-linejoin:miter;stroke-width:0.8;\"/>\n   </g>\n   <g id=\"patch_6\">\n    <path d=\"M 58.523438 7.2 \nL 393.323437 7.2 \n\" style=\"fill:none;stroke:#000000;stroke-linecap:square;stroke-linejoin:miter;stroke-width:0.8;\"/>\n   </g>\n   <g id=\"legend_1\">\n    <g id=\"patch_7\">\n     <path d=\"M 298.532813 29.878125 \nL 386.323438 29.878125 \nQ 388.323438 29.878125 388.323438 27.878125 \nL 388.323438 14.2 \nQ 388.323438 12.2 386.323438 12.2 \nL 298.532813 12.2 \nQ 296.532813 12.2 296.532813 14.2 \nL 296.532813 27.878125 \nQ 296.532813 29.878125 298.532813 29.878125 \nz\n\" style=\"fill:#ffffff;opacity:0.8;stroke:#cccccc;stroke-linejoin:miter;\"/>\n    </g>\n    <g id=\"line2d_40\">\n     <path d=\"M 300.532813 20.298437 \nL 320.532813 20.298437 \n\" style=\"fill:none;stroke:#1f77b4;stroke-linecap:square;stroke-width:1.5;\"/>\n    </g>\n    <g id=\"line2d_41\"/>\n    <g id=\"text_5\">\n     <!-- Not-Python -->\n     <defs>\n      <path d=\"M 9.8125 72.90625 \nL 23.09375 72.90625 \nL 55.421875 11.921875 \nL 55.421875 72.90625 \nL 64.984375 72.90625 \nL 64.984375 0 \nL 51.703125 0 \nL 19.390625 60.984375 \nL 19.390625 0 \nL 9.8125 0 \nz\n\" id=\"DejaVuSans-78\"/>\n      <path d=\"M 30.609375 48.390625 \nQ 23.390625 48.390625 19.1875 42.75 \nQ 14.984375 37.109375 14.984375 27.296875 \nQ 14.984375 17.484375 19.15625 11.84375 \nQ 23.34375 6.203125 30.609375 6.203125 \nQ 37.796875 6.203125 41.984375 11.859375 \nQ 46.1875 17.53125 46.1875 27.296875 \nQ 46.1875 37.015625 41.984375 42.703125 \nQ 37.796875 48.390625 30.609375 48.390625 \nz\nM 30.609375 56 \nQ 42.328125 56 49.015625 48.375 \nQ 55.71875 40.765625 55.71875 27.296875 \nQ 55.71875 13.875 49.015625 6.21875 \nQ 42.328125 -1.421875 30.609375 -1.421875 \nQ 18.84375 -1.421875 12.171875 6.21875 \nQ 5.515625 13.875 5.515625 27.296875 \nQ 5.515625 40.765625 12.171875 48.375 \nQ 18.84375 56 30.609375 56 \nz\n\" id=\"DejaVuSans-111\"/>\n      <path d=\"M 18.3125 70.21875 \nL 18.3125 54.6875 \nL 36.8125 54.6875 \nL 36.8125 47.703125 \nL 18.3125 47.703125 \nL 18.3125 18.015625 \nQ 18.3125 11.328125 20.140625 9.421875 \nQ 21.96875 7.515625 27.59375 7.515625 \nL 36.8125 7.515625 \nL 36.8125 0 \nL 27.59375 0 \nQ 17.1875 0 13.234375 3.875 \nQ 9.28125 7.765625 9.28125 18.015625 \nL 9.28125 47.703125 \nL 2.6875 47.703125 \nL 2.6875 54.6875 \nL 9.28125 54.6875 \nL 9.28125 70.21875 \nz\n\" id=\"DejaVuSans-116\"/>\n      <path d=\"M 4.890625 31.390625 \nL 31.203125 31.390625 \nL 31.203125 23.390625 \nL 4.890625 23.390625 \nz\n\" id=\"DejaVuSans-45\"/>\n      <path d=\"M 19.671875 64.796875 \nL 19.671875 37.40625 \nL 32.078125 37.40625 \nQ 38.96875 37.40625 42.71875 40.96875 \nQ 46.484375 44.53125 46.484375 51.125 \nQ 46.484375 57.671875 42.71875 61.234375 \nQ 38.96875 64.796875 32.078125 64.796875 \nz\nM 9.8125 72.90625 \nL 32.078125 72.90625 \nQ 44.34375 72.90625 50.609375 67.359375 \nQ 56.890625 61.8125 56.890625 51.125 \nQ 56.890625 40.328125 50.609375 34.8125 \nQ 44.34375 29.296875 32.078125 29.296875 \nL 19.671875 29.296875 \nL 19.671875 0 \nL 9.8125 0 \nz\n\" id=\"DejaVuSans-80\"/>\n      <path d=\"M 32.171875 -5.078125 \nQ 28.375 -14.84375 24.75 -17.8125 \nQ 21.140625 -20.796875 15.09375 -20.796875 \nL 7.90625 -20.796875 \nL 7.90625 -13.28125 \nL 13.1875 -13.28125 \nQ 16.890625 -13.28125 18.9375 -11.515625 \nQ 21 -9.765625 23.484375 -3.21875 \nL 25.09375 0.875 \nL 2.984375 54.6875 \nL 12.5 54.6875 \nL 29.59375 11.921875 \nL 46.6875 54.6875 \nL 56.203125 54.6875 \nz\n\" id=\"DejaVuSans-121\"/>\n      <path d=\"M 54.890625 33.015625 \nL 54.890625 0 \nL 45.90625 0 \nL 45.90625 32.71875 \nQ 45.90625 40.484375 42.875 44.328125 \nQ 39.84375 48.1875 33.796875 48.1875 \nQ 26.515625 48.1875 22.3125 43.546875 \nQ 18.109375 38.921875 18.109375 30.90625 \nL 18.109375 0 \nL 9.078125 0 \nL 9.078125 75.984375 \nL 18.109375 75.984375 \nL 18.109375 46.1875 \nQ 21.34375 51.125 25.703125 53.5625 \nQ 30.078125 56 35.796875 56 \nQ 45.21875 56 50.046875 50.171875 \nQ 54.890625 44.34375 54.890625 33.015625 \nz\n\" id=\"DejaVuSans-104\"/>\n      <path d=\"M 54.890625 33.015625 \nL 54.890625 0 \nL 45.90625 0 \nL 45.90625 32.71875 \nQ 45.90625 40.484375 42.875 44.328125 \nQ 39.84375 48.1875 33.796875 48.1875 \nQ 26.515625 48.1875 22.3125 43.546875 \nQ 18.109375 38.921875 18.109375 30.90625 \nL 18.109375 0 \nL 9.078125 0 \nL 9.078125 54.6875 \nL 18.109375 54.6875 \nL 18.109375 46.1875 \nQ 21.34375 51.125 25.703125 53.5625 \nQ 30.078125 56 35.796875 56 \nQ 45.21875 56 50.046875 50.171875 \nQ 54.890625 44.34375 54.890625 33.015625 \nz\n\" id=\"DejaVuSans-110\"/>\n     </defs>\n     <g transform=\"translate(328.532813 23.798437)scale(0.1 -0.1)\">\n      <use xlink:href=\"#DejaVuSans-78\"/>\n      <use x=\"74.804688\" xlink:href=\"#DejaVuSans-111\"/>\n      <use x=\"135.986328\" xlink:href=\"#DejaVuSans-116\"/>\n      <use x=\"175.195312\" xlink:href=\"#DejaVuSans-45\"/>\n      <use x=\"211.279297\" xlink:href=\"#DejaVuSans-80\"/>\n      <use x=\"271.582031\" xlink:href=\"#DejaVuSans-121\"/>\n      <use x=\"330.761719\" xlink:href=\"#DejaVuSans-116\"/>\n      <use x=\"369.970703\" xlink:href=\"#DejaVuSans-104\"/>\n      <use x=\"433.349609\" xlink:href=\"#DejaVuSans-111\"/>\n      <use x=\"494.53125\" xlink:href=\"#DejaVuSans-110\"/>\n     </g>\n    </g>\n   </g>\n  </g>\n  <g id=\"axes_2\">\n   <g id=\"patch_8\">\n    <path d=\"M 58.523438 300.96 \nL 393.323438 300.96 \nL 393.323438 167.432727 \nL 58.523438 167.432727 \nz\n\" style=\"fill:#ffffff;\"/>\n   </g>\n   <g id=\"matplotlib.axis_3\">\n    <g id=\"xtick_35\">\n     <g id=\"line2d_42\">\n      <g>\n       <use style=\"stroke:#000000;stroke-width:0.8;\" x=\"58.523438\" xlink:href=\"#mf9c5c2df92\" y=\"300.96\"/>\n      </g>\n     </g>\n    </g>\n    <g id=\"xtick_36\">\n     <g id=\"line2d_43\">\n      <g>\n       <use style=\"stroke:#000000;stroke-width:0.8;\" x=\"230.996165\" xlink:href=\"#mf9c5c2df92\" y=\"300.96\"/>\n      </g>\n     </g>\n     <g id=\"text_6\">\n      <!--  -->\n      <g transform=\"translate(213.159602 314.54044)rotate(-30)scale(0.1 -0.1)\"/>\n      <!--  -->\n      <g transform=\"translate(218.758509 324.23803)rotate(-30)scale(0.1 -0.1)\"/>\n      <!-- Aug -->\n      <defs>\n       <path d=\"M 34.1875 63.1875 \nL 20.796875 26.90625 \nL 47.609375 26.90625 \nz\nM 28.609375 72.90625 \nL 39.796875 72.90625 \nL 67.578125 0 \nL 57.328125 0 \nL 50.6875 18.703125 \nL 17.828125 18.703125 \nL 11.1875 0 \nL 0.78125 0 \nz\n\" id=\"DejaVuSans-65\"/>\n       <path d=\"M 8.5 21.578125 \nL 8.5 54.6875 \nL 17.484375 54.6875 \nL 17.484375 21.921875 \nQ 17.484375 14.15625 20.5 10.265625 \nQ 23.53125 6.390625 29.59375 6.390625 \nQ 36.859375 6.390625 41.078125 11.03125 \nQ 45.3125 15.671875 45.3125 23.6875 \nL 45.3125 54.6875 \nL 54.296875 54.6875 \nL 54.296875 0 \nL 45.3125 0 \nL 45.3125 8.40625 \nQ 42.046875 3.421875 37.71875 1 \nQ 33.40625 -1.421875 27.6875 -1.421875 \nQ 18.265625 -1.421875 13.375 4.4375 \nQ 8.5 10.296875 8.5 21.578125 \nz\nM 31.109375 56 \nz\n\" id=\"DejaVuSans-117\"/>\n       <path d=\"M 45.40625 27.984375 \nQ 45.40625 37.75 41.375 43.109375 \nQ 37.359375 48.484375 30.078125 48.484375 \nQ 22.859375 48.484375 18.828125 43.109375 \nQ 14.796875 37.75 14.796875 27.984375 \nQ 14.796875 18.265625 18.828125 12.890625 \nQ 22.859375 7.515625 30.078125 7.515625 \nQ 37.359375 7.515625 41.375 12.890625 \nQ 45.40625 18.265625 45.40625 27.984375 \nz\nM 54.390625 6.78125 \nQ 54.390625 -7.171875 48.1875 -13.984375 \nQ 42 -20.796875 29.203125 -20.796875 \nQ 24.46875 -20.796875 20.265625 -20.09375 \nQ 16.0625 -19.390625 12.109375 -17.921875 \nL 12.109375 -9.1875 \nQ 16.0625 -11.328125 19.921875 -12.34375 \nQ 23.78125 -13.375 27.78125 -13.375 \nQ 36.625 -13.375 41.015625 -8.765625 \nQ 45.40625 -4.15625 45.40625 5.171875 \nL 45.40625 9.625 \nQ 42.625 4.78125 38.28125 2.390625 \nQ 33.9375 0 27.875 0 \nQ 17.828125 0 11.671875 7.65625 \nQ 5.515625 15.328125 5.515625 27.984375 \nQ 5.515625 40.671875 11.671875 48.328125 \nQ 17.828125 56 27.875 56 \nQ 33.9375 56 38.28125 53.609375 \nQ 42.625 51.21875 45.40625 46.390625 \nL 45.40625 54.6875 \nL 54.390625 54.6875 \nz\n\" id=\"DejaVuSans-103\"/>\n      </defs>\n      <g transform=\"translate(207.446916 343.698901)rotate(-30)scale(0.1 -0.1)\">\n       <use xlink:href=\"#DejaVuSans-65\"/>\n       <use x=\"68.408203\" xlink:href=\"#DejaVuSans-117\"/>\n       <use x=\"131.787109\" xlink:href=\"#DejaVuSans-103\"/>\n      </g>\n      <!-- 2020 -->\n      <g transform=\"translate(207.915974 356.35821)rotate(-30)scale(0.1 -0.1)\">\n       <use xlink:href=\"#DejaVuSans-50\"/>\n       <use x=\"63.623047\" xlink:href=\"#DejaVuSans-48\"/>\n       <use x=\"127.246094\" xlink:href=\"#DejaVuSans-50\"/>\n       <use x=\"190.869141\" xlink:href=\"#DejaVuSans-48\"/>\n      </g>\n     </g>\n    </g>\n    <g id=\"xtick_37\">\n     <g id=\"line2d_44\">\n      <g>\n       <use style=\"stroke:#000000;stroke-width:0.8;\" x=\"393.323437\" xlink:href=\"#mf9c5c2df92\" y=\"300.96\"/>\n      </g>\n     </g>\n     <g id=\"text_7\">\n      <!-- 17 -->\n      <defs>\n       <path d=\"M 8.203125 72.90625 \nL 55.078125 72.90625 \nL 55.078125 68.703125 \nL 28.609375 0 \nL 18.3125 0 \nL 43.21875 64.59375 \nL 8.203125 64.59375 \nz\n\" id=\"DejaVuSans-55\"/>\n      </defs>\n      <g transform=\"translate(381.26342 320.90294)rotate(-30)scale(0.1 -0.1)\">\n       <use xlink:href=\"#DejaVuSans-49\"/>\n       <use x=\"63.623047\" xlink:href=\"#DejaVuSans-55\"/>\n      </g>\n     </g>\n    </g>\n    <g id=\"xtick_38\">\n     <g id=\"line2d_45\">\n      <g>\n       <use style=\"stroke:#000000;stroke-width:0.6;\" x=\"68.668892\" xlink:href=\"#m41b2ff3409\" y=\"300.96\"/>\n      </g>\n     </g>\n    </g>\n    <g id=\"xtick_39\">\n     <g id=\"line2d_46\">\n      <g>\n       <use style=\"stroke:#000000;stroke-width:0.6;\" x=\"78.814347\" xlink:href=\"#m41b2ff3409\" y=\"300.96\"/>\n      </g>\n     </g>\n    </g>\n    <g id=\"xtick_40\">\n     <g id=\"line2d_47\">\n      <g>\n       <use style=\"stroke:#000000;stroke-width:0.6;\" x=\"88.959801\" xlink:href=\"#m41b2ff3409\" y=\"300.96\"/>\n      </g>\n     </g>\n    </g>\n    <g id=\"xtick_41\">\n     <g id=\"line2d_48\">\n      <g>\n       <use style=\"stroke:#000000;stroke-width:0.6;\" x=\"99.105256\" xlink:href=\"#m41b2ff3409\" y=\"300.96\"/>\n      </g>\n     </g>\n    </g>\n    <g id=\"xtick_42\">\n     <g id=\"line2d_49\">\n      <g>\n       <use style=\"stroke:#000000;stroke-width:0.6;\" x=\"109.25071\" xlink:href=\"#m41b2ff3409\" y=\"300.96\"/>\n      </g>\n     </g>\n     <g id=\"text_8\">\n      <!-- 20 -->\n      <g transform=\"translate(105.120311 319.30294)rotate(-30)scale(0.1 -0.1)\">\n       <use xlink:href=\"#DejaVuSans-50\"/>\n       <use x=\"63.623047\" xlink:href=\"#DejaVuSans-48\"/>\n      </g>\n     </g>\n    </g>\n    <g id=\"xtick_43\">\n     <g id=\"line2d_50\">\n      <g>\n       <use style=\"stroke:#000000;stroke-width:0.6;\" x=\"119.396165\" xlink:href=\"#m41b2ff3409\" y=\"300.96\"/>\n      </g>\n     </g>\n    </g>\n    <g id=\"xtick_44\">\n     <g id=\"line2d_51\">\n      <g>\n       <use style=\"stroke:#000000;stroke-width:0.6;\" x=\"129.541619\" xlink:href=\"#m41b2ff3409\" y=\"300.96\"/>\n      </g>\n     </g>\n    </g>\n    <g id=\"xtick_45\">\n     <g id=\"line2d_52\">\n      <g>\n       <use style=\"stroke:#000000;stroke-width:0.6;\" x=\"139.687074\" xlink:href=\"#m41b2ff3409\" y=\"300.96\"/>\n      </g>\n     </g>\n    </g>\n    <g id=\"xtick_46\">\n     <g id=\"line2d_53\">\n      <g>\n       <use style=\"stroke:#000000;stroke-width:0.6;\" x=\"149.832528\" xlink:href=\"#m41b2ff3409\" y=\"300.96\"/>\n      </g>\n     </g>\n    </g>\n    <g id=\"xtick_47\">\n     <g id=\"line2d_54\">\n      <g>\n       <use style=\"stroke:#000000;stroke-width:0.6;\" x=\"159.977983\" xlink:href=\"#m41b2ff3409\" y=\"300.96\"/>\n      </g>\n     </g>\n    </g>\n    <g id=\"xtick_48\">\n     <g id=\"line2d_55\">\n      <g>\n       <use style=\"stroke:#000000;stroke-width:0.6;\" x=\"170.123438\" xlink:href=\"#m41b2ff3409\" y=\"300.96\"/>\n      </g>\n     </g>\n    </g>\n    <g id=\"xtick_49\">\n     <g id=\"line2d_56\">\n      <g>\n       <use style=\"stroke:#000000;stroke-width:0.6;\" x=\"180.268892\" xlink:href=\"#m41b2ff3409\" y=\"300.96\"/>\n      </g>\n     </g>\n     <g id=\"text_9\">\n      <!-- 27 -->\n      <g transform=\"translate(176.138493 319.30294)rotate(-30)scale(0.1 -0.1)\">\n       <use xlink:href=\"#DejaVuSans-50\"/>\n       <use x=\"63.623047\" xlink:href=\"#DejaVuSans-55\"/>\n      </g>\n     </g>\n    </g>\n    <g id=\"xtick_50\">\n     <g id=\"line2d_57\">\n      <g>\n       <use style=\"stroke:#000000;stroke-width:0.6;\" x=\"190.414347\" xlink:href=\"#m41b2ff3409\" y=\"300.96\"/>\n      </g>\n     </g>\n    </g>\n    <g id=\"xtick_51\">\n     <g id=\"line2d_58\">\n      <g>\n       <use style=\"stroke:#000000;stroke-width:0.6;\" x=\"200.559801\" xlink:href=\"#m41b2ff3409\" y=\"300.96\"/>\n      </g>\n     </g>\n    </g>\n    <g id=\"xtick_52\">\n     <g id=\"line2d_59\">\n      <g>\n       <use style=\"stroke:#000000;stroke-width:0.6;\" x=\"210.705256\" xlink:href=\"#m41b2ff3409\" y=\"300.96\"/>\n      </g>\n     </g>\n    </g>\n    <g id=\"xtick_53\">\n     <g id=\"line2d_60\">\n      <g>\n       <use style=\"stroke:#000000;stroke-width:0.6;\" x=\"220.85071\" xlink:href=\"#m41b2ff3409\" y=\"300.96\"/>\n      </g>\n     </g>\n    </g>\n    <g id=\"xtick_54\">\n     <g id=\"line2d_61\">\n      <g>\n       <use style=\"stroke:#000000;stroke-width:0.6;\" x=\"241.141619\" xlink:href=\"#m41b2ff3409\" y=\"300.96\"/>\n      </g>\n     </g>\n    </g>\n    <g id=\"xtick_55\">\n     <g id=\"line2d_62\">\n      <g>\n       <use style=\"stroke:#000000;stroke-width:0.6;\" x=\"251.287074\" xlink:href=\"#m41b2ff3409\" y=\"300.96\"/>\n      </g>\n     </g>\n     <g id=\"text_10\">\n      <!-- 03 -->\n      <defs>\n       <path d=\"M 40.578125 39.3125 \nQ 47.65625 37.796875 51.625 33 \nQ 55.609375 28.21875 55.609375 21.1875 \nQ 55.609375 10.40625 48.1875 4.484375 \nQ 40.765625 -1.421875 27.09375 -1.421875 \nQ 22.515625 -1.421875 17.65625 -0.515625 \nQ 12.796875 0.390625 7.625 2.203125 \nL 7.625 11.71875 \nQ 11.71875 9.328125 16.59375 8.109375 \nQ 21.484375 6.890625 26.8125 6.890625 \nQ 36.078125 6.890625 40.9375 10.546875 \nQ 45.796875 14.203125 45.796875 21.1875 \nQ 45.796875 27.640625 41.28125 31.265625 \nQ 36.765625 34.90625 28.71875 34.90625 \nL 20.21875 34.90625 \nL 20.21875 43.015625 \nL 29.109375 43.015625 \nQ 36.375 43.015625 40.234375 45.921875 \nQ 44.09375 48.828125 44.09375 54.296875 \nQ 44.09375 59.90625 40.109375 62.90625 \nQ 36.140625 65.921875 28.71875 65.921875 \nQ 24.65625 65.921875 20.015625 65.03125 \nQ 15.375 64.15625 9.8125 62.3125 \nL 9.8125 71.09375 \nQ 15.4375 72.65625 20.34375 73.4375 \nQ 25.25 74.21875 29.59375 74.21875 \nQ 40.828125 74.21875 47.359375 69.109375 \nQ 53.90625 64.015625 53.90625 55.328125 \nQ 53.90625 49.265625 50.4375 45.09375 \nQ 46.96875 40.921875 40.578125 39.3125 \nz\n\" id=\"DejaVuSans-51\"/>\n      </defs>\n      <g transform=\"translate(247.156675 319.30294)rotate(-30)scale(0.1 -0.1)\">\n       <use xlink:href=\"#DejaVuSans-48\"/>\n       <use x=\"63.623047\" xlink:href=\"#DejaVuSans-51\"/>\n      </g>\n     </g>\n    </g>\n    <g id=\"xtick_56\">\n     <g id=\"line2d_63\">\n      <g>\n       <use style=\"stroke:#000000;stroke-width:0.6;\" x=\"261.432528\" xlink:href=\"#m41b2ff3409\" y=\"300.96\"/>\n      </g>\n     </g>\n    </g>\n    <g id=\"xtick_57\">\n     <g id=\"line2d_64\">\n      <g>\n       <use style=\"stroke:#000000;stroke-width:0.6;\" x=\"271.577983\" xlink:href=\"#m41b2ff3409\" y=\"300.96\"/>\n      </g>\n     </g>\n    </g>\n    <g id=\"xtick_58\">\n     <g id=\"line2d_65\">\n      <g>\n       <use style=\"stroke:#000000;stroke-width:0.6;\" x=\"281.723438\" xlink:href=\"#m41b2ff3409\" y=\"300.96\"/>\n      </g>\n     </g>\n    </g>\n    <g id=\"xtick_59\">\n     <g id=\"line2d_66\">\n      <g>\n       <use style=\"stroke:#000000;stroke-width:0.6;\" x=\"291.868892\" xlink:href=\"#m41b2ff3409\" y=\"300.96\"/>\n      </g>\n     </g>\n    </g>\n    <g id=\"xtick_60\">\n     <g id=\"line2d_67\">\n      <g>\n       <use style=\"stroke:#000000;stroke-width:0.6;\" x=\"302.014347\" xlink:href=\"#m41b2ff3409\" y=\"300.96\"/>\n      </g>\n     </g>\n    </g>\n    <g id=\"xtick_61\">\n     <g id=\"line2d_68\">\n      <g>\n       <use style=\"stroke:#000000;stroke-width:0.6;\" x=\"312.159801\" xlink:href=\"#m41b2ff3409\" y=\"300.96\"/>\n      </g>\n     </g>\n    </g>\n    <g id=\"xtick_62\">\n     <g id=\"line2d_69\">\n      <g>\n       <use style=\"stroke:#000000;stroke-width:0.6;\" x=\"322.305256\" xlink:href=\"#m41b2ff3409\" y=\"300.96\"/>\n      </g>\n     </g>\n     <g id=\"text_11\">\n      <!-- 10 -->\n      <g transform=\"translate(318.174857 319.30294)rotate(-30)scale(0.1 -0.1)\">\n       <use xlink:href=\"#DejaVuSans-49\"/>\n       <use x=\"63.623047\" xlink:href=\"#DejaVuSans-48\"/>\n      </g>\n     </g>\n    </g>\n    <g id=\"xtick_63\">\n     <g id=\"line2d_70\">\n      <g>\n       <use style=\"stroke:#000000;stroke-width:0.6;\" x=\"332.45071\" xlink:href=\"#m41b2ff3409\" y=\"300.96\"/>\n      </g>\n     </g>\n    </g>\n    <g id=\"xtick_64\">\n     <g id=\"line2d_71\">\n      <g>\n       <use style=\"stroke:#000000;stroke-width:0.6;\" x=\"342.596165\" xlink:href=\"#m41b2ff3409\" y=\"300.96\"/>\n      </g>\n     </g>\n    </g>\n    <g id=\"xtick_65\">\n     <g id=\"line2d_72\">\n      <g>\n       <use style=\"stroke:#000000;stroke-width:0.6;\" x=\"352.741619\" xlink:href=\"#m41b2ff3409\" y=\"300.96\"/>\n      </g>\n     </g>\n    </g>\n    <g id=\"xtick_66\">\n     <g id=\"line2d_73\">\n      <g>\n       <use style=\"stroke:#000000;stroke-width:0.6;\" x=\"362.887074\" xlink:href=\"#m41b2ff3409\" y=\"300.96\"/>\n      </g>\n     </g>\n    </g>\n    <g id=\"xtick_67\">\n     <g id=\"line2d_74\">\n      <g>\n       <use style=\"stroke:#000000;stroke-width:0.6;\" x=\"373.032528\" xlink:href=\"#m41b2ff3409\" y=\"300.96\"/>\n      </g>\n     </g>\n    </g>\n    <g id=\"xtick_68\">\n     <g id=\"line2d_75\">\n      <g>\n       <use style=\"stroke:#000000;stroke-width:0.6;\" x=\"383.177983\" xlink:href=\"#m41b2ff3409\" y=\"300.96\"/>\n      </g>\n     </g>\n    </g>\n    <g id=\"text_12\">\n     <!-- Date -->\n     <defs>\n      <path d=\"M 19.671875 64.796875 \nL 19.671875 8.109375 \nL 31.59375 8.109375 \nQ 46.6875 8.109375 53.6875 14.9375 \nQ 60.6875 21.78125 60.6875 36.53125 \nQ 60.6875 51.171875 53.6875 57.984375 \nQ 46.6875 64.796875 31.59375 64.796875 \nz\nM 9.8125 72.90625 \nL 30.078125 72.90625 \nQ 51.265625 72.90625 61.171875 64.09375 \nQ 71.09375 55.28125 71.09375 36.53125 \nQ 71.09375 17.671875 61.125 8.828125 \nQ 51.171875 0 30.078125 0 \nL 9.8125 0 \nz\n\" id=\"DejaVuSans-68\"/>\n      <path d=\"M 34.28125 27.484375 \nQ 23.390625 27.484375 19.1875 25 \nQ 14.984375 22.515625 14.984375 16.5 \nQ 14.984375 11.71875 18.140625 8.90625 \nQ 21.296875 6.109375 26.703125 6.109375 \nQ 34.1875 6.109375 38.703125 11.40625 \nQ 43.21875 16.703125 43.21875 25.484375 \nL 43.21875 27.484375 \nz\nM 52.203125 31.203125 \nL 52.203125 0 \nL 43.21875 0 \nL 43.21875 8.296875 \nQ 40.140625 3.328125 35.546875 0.953125 \nQ 30.953125 -1.421875 24.3125 -1.421875 \nQ 15.921875 -1.421875 10.953125 3.296875 \nQ 6 8.015625 6 15.921875 \nQ 6 25.140625 12.171875 29.828125 \nQ 18.359375 34.515625 30.609375 34.515625 \nL 43.21875 34.515625 \nL 43.21875 35.40625 \nQ 43.21875 41.609375 39.140625 45 \nQ 35.0625 48.390625 27.6875 48.390625 \nQ 23 48.390625 18.546875 47.265625 \nQ 14.109375 46.140625 10.015625 43.890625 \nL 10.015625 52.203125 \nQ 14.9375 54.109375 19.578125 55.046875 \nQ 24.21875 56 28.609375 56 \nQ 40.484375 56 46.34375 49.84375 \nQ 52.203125 43.703125 52.203125 31.203125 \nz\n\" id=\"DejaVuSans-97\"/>\n      <path d=\"M 56.203125 29.59375 \nL 56.203125 25.203125 \nL 14.890625 25.203125 \nQ 15.484375 15.921875 20.484375 11.0625 \nQ 25.484375 6.203125 34.421875 6.203125 \nQ 39.59375 6.203125 44.453125 7.46875 \nQ 49.3125 8.734375 54.109375 11.28125 \nL 54.109375 2.78125 \nQ 49.265625 0.734375 44.1875 -0.34375 \nQ 39.109375 -1.421875 33.890625 -1.421875 \nQ 20.796875 -1.421875 13.15625 6.1875 \nQ 5.515625 13.8125 5.515625 26.8125 \nQ 5.515625 40.234375 12.765625 48.109375 \nQ 20.015625 56 32.328125 56 \nQ 43.359375 56 49.78125 48.890625 \nQ 56.203125 41.796875 56.203125 29.59375 \nz\nM 47.21875 32.234375 \nQ 47.125 39.59375 43.09375 43.984375 \nQ 39.0625 48.390625 32.421875 48.390625 \nQ 24.90625 48.390625 20.390625 44.140625 \nQ 15.875 39.890625 15.1875 32.171875 \nz\n\" id=\"DejaVuSans-101\"/>\n     </defs>\n     <g transform=\"translate(213.972656 369.75771)scale(0.1 -0.1)\">\n      <use xlink:href=\"#DejaVuSans-68\"/>\n      <use x=\"77.001953\" xlink:href=\"#DejaVuSans-97\"/>\n      <use x=\"138.28125\" xlink:href=\"#DejaVuSans-116\"/>\n      <use x=\"177.490234\" xlink:href=\"#DejaVuSans-101\"/>\n     </g>\n    </g>\n   </g>\n   <g id=\"matplotlib.axis_4\">\n    <g id=\"ytick_5\">\n     <g id=\"line2d_76\">\n      <g>\n       <use style=\"stroke:#000000;stroke-width:0.8;\" x=\"58.523438\" xlink:href=\"#m17b8c9220c\" y=\"282.751736\"/>\n      </g>\n     </g>\n     <g id=\"text_13\">\n      <!-- −0.04 -->\n      <defs>\n       <path d=\"M 10.59375 35.5 \nL 73.1875 35.5 \nL 73.1875 27.203125 \nL 10.59375 27.203125 \nz\n\" id=\"DejaVuSans-8722\"/>\n       <path d=\"M 10.6875 12.40625 \nL 21 12.40625 \nL 21 0 \nL 10.6875 0 \nz\n\" id=\"DejaVuSans-46\"/>\n       <path d=\"M 37.796875 64.3125 \nL 12.890625 25.390625 \nL 37.796875 25.390625 \nz\nM 35.203125 72.90625 \nL 47.609375 72.90625 \nL 47.609375 25.390625 \nL 58.015625 25.390625 \nL 58.015625 17.1875 \nL 47.609375 17.1875 \nL 47.609375 0 \nL 37.796875 0 \nL 37.796875 17.1875 \nL 4.890625 17.1875 \nL 4.890625 26.703125 \nz\n\" id=\"DejaVuSans-52\"/>\n      </defs>\n      <g transform=\"translate(20.878125 286.550954)scale(0.1 -0.1)\">\n       <use xlink:href=\"#DejaVuSans-8722\"/>\n       <use x=\"83.789062\" xlink:href=\"#DejaVuSans-48\"/>\n       <use x=\"147.412109\" xlink:href=\"#DejaVuSans-46\"/>\n       <use x=\"179.199219\" xlink:href=\"#DejaVuSans-48\"/>\n       <use x=\"242.822266\" xlink:href=\"#DejaVuSans-52\"/>\n      </g>\n     </g>\n    </g>\n    <g id=\"ytick_6\">\n     <g id=\"line2d_77\">\n      <g>\n       <use style=\"stroke:#000000;stroke-width:0.8;\" x=\"58.523438\" xlink:href=\"#m17b8c9220c\" y=\"258.47405\"/>\n      </g>\n     </g>\n     <g id=\"text_14\">\n      <!-- −0.02 -->\n      <g transform=\"translate(20.878125 262.273268)scale(0.1 -0.1)\">\n       <use xlink:href=\"#DejaVuSans-8722\"/>\n       <use x=\"83.789062\" xlink:href=\"#DejaVuSans-48\"/>\n       <use x=\"147.412109\" xlink:href=\"#DejaVuSans-46\"/>\n       <use x=\"179.199219\" xlink:href=\"#DejaVuSans-48\"/>\n       <use x=\"242.822266\" xlink:href=\"#DejaVuSans-50\"/>\n      </g>\n     </g>\n    </g>\n    <g id=\"ytick_7\">\n     <g id=\"line2d_78\">\n      <g>\n       <use style=\"stroke:#000000;stroke-width:0.8;\" x=\"58.523438\" xlink:href=\"#m17b8c9220c\" y=\"234.196364\"/>\n      </g>\n     </g>\n     <g id=\"text_15\">\n      <!-- 0.00 -->\n      <g transform=\"translate(29.257813 237.995582)scale(0.1 -0.1)\">\n       <use xlink:href=\"#DejaVuSans-48\"/>\n       <use x=\"63.623047\" xlink:href=\"#DejaVuSans-46\"/>\n       <use x=\"95.410156\" xlink:href=\"#DejaVuSans-48\"/>\n       <use x=\"159.033203\" xlink:href=\"#DejaVuSans-48\"/>\n      </g>\n     </g>\n    </g>\n    <g id=\"ytick_8\">\n     <g id=\"line2d_79\">\n      <g>\n       <use style=\"stroke:#000000;stroke-width:0.8;\" x=\"58.523438\" xlink:href=\"#m17b8c9220c\" y=\"209.918678\"/>\n      </g>\n     </g>\n     <g id=\"text_16\">\n      <!-- 0.02 -->\n      <g transform=\"translate(29.257813 213.717896)scale(0.1 -0.1)\">\n       <use xlink:href=\"#DejaVuSans-48\"/>\n       <use x=\"63.623047\" xlink:href=\"#DejaVuSans-46\"/>\n       <use x=\"95.410156\" xlink:href=\"#DejaVuSans-48\"/>\n       <use x=\"159.033203\" xlink:href=\"#DejaVuSans-50\"/>\n      </g>\n     </g>\n    </g>\n    <g id=\"ytick_9\">\n     <g id=\"line2d_80\">\n      <g>\n       <use style=\"stroke:#000000;stroke-width:0.8;\" x=\"58.523438\" xlink:href=\"#m17b8c9220c\" y=\"185.640992\"/>\n      </g>\n     </g>\n     <g id=\"text_17\">\n      <!-- 0.04 -->\n      <g transform=\"translate(29.257813 189.44021)scale(0.1 -0.1)\">\n       <use xlink:href=\"#DejaVuSans-48\"/>\n       <use x=\"63.623047\" xlink:href=\"#DejaVuSans-46\"/>\n       <use x=\"95.410156\" xlink:href=\"#DejaVuSans-48\"/>\n       <use x=\"159.033203\" xlink:href=\"#DejaVuSans-52\"/>\n      </g>\n     </g>\n    </g>\n    <g id=\"text_18\">\n     <!-- Clicks -->\n     <defs>\n      <path d=\"M 64.40625 67.28125 \nL 64.40625 56.890625 \nQ 59.421875 61.53125 53.78125 63.8125 \nQ 48.140625 66.109375 41.796875 66.109375 \nQ 29.296875 66.109375 22.65625 58.46875 \nQ 16.015625 50.828125 16.015625 36.375 \nQ 16.015625 21.96875 22.65625 14.328125 \nQ 29.296875 6.6875 41.796875 6.6875 \nQ 48.140625 6.6875 53.78125 8.984375 \nQ 59.421875 11.28125 64.40625 15.921875 \nL 64.40625 5.609375 \nQ 59.234375 2.09375 53.4375 0.328125 \nQ 47.65625 -1.421875 41.21875 -1.421875 \nQ 24.65625 -1.421875 15.125 8.703125 \nQ 5.609375 18.84375 5.609375 36.375 \nQ 5.609375 53.953125 15.125 64.078125 \nQ 24.65625 74.21875 41.21875 74.21875 \nQ 47.75 74.21875 53.53125 72.484375 \nQ 59.328125 70.75 64.40625 67.28125 \nz\n\" id=\"DejaVuSans-67\"/>\n      <path d=\"M 9.421875 75.984375 \nL 18.40625 75.984375 \nL 18.40625 0 \nL 9.421875 0 \nz\n\" id=\"DejaVuSans-108\"/>\n      <path d=\"M 9.421875 54.6875 \nL 18.40625 54.6875 \nL 18.40625 0 \nL 9.421875 0 \nz\nM 9.421875 75.984375 \nL 18.40625 75.984375 \nL 18.40625 64.59375 \nL 9.421875 64.59375 \nz\n\" id=\"DejaVuSans-105\"/>\n      <path d=\"M 48.78125 52.59375 \nL 48.78125 44.1875 \nQ 44.96875 46.296875 41.140625 47.34375 \nQ 37.3125 48.390625 33.40625 48.390625 \nQ 24.65625 48.390625 19.8125 42.84375 \nQ 14.984375 37.3125 14.984375 27.296875 \nQ 14.984375 17.28125 19.8125 11.734375 \nQ 24.65625 6.203125 33.40625 6.203125 \nQ 37.3125 6.203125 41.140625 7.25 \nQ 44.96875 8.296875 48.78125 10.40625 \nL 48.78125 2.09375 \nQ 45.015625 0.34375 40.984375 -0.53125 \nQ 36.96875 -1.421875 32.421875 -1.421875 \nQ 20.0625 -1.421875 12.78125 6.34375 \nQ 5.515625 14.109375 5.515625 27.296875 \nQ 5.515625 40.671875 12.859375 48.328125 \nQ 20.21875 56 33.015625 56 \nQ 37.15625 56 41.109375 55.140625 \nQ 45.0625 54.296875 48.78125 52.59375 \nz\n\" id=\"DejaVuSans-99\"/>\n      <path d=\"M 9.078125 75.984375 \nL 18.109375 75.984375 \nL 18.109375 31.109375 \nL 44.921875 54.6875 \nL 56.390625 54.6875 \nL 27.390625 29.109375 \nL 57.625 0 \nL 45.90625 0 \nL 18.109375 26.703125 \nL 18.109375 0 \nL 9.078125 0 \nz\n\" id=\"DejaVuSans-107\"/>\n      <path d=\"M 44.28125 53.078125 \nL 44.28125 44.578125 \nQ 40.484375 46.53125 36.375 47.5 \nQ 32.28125 48.484375 27.875 48.484375 \nQ 21.1875 48.484375 17.84375 46.4375 \nQ 14.5 44.390625 14.5 40.28125 \nQ 14.5 37.15625 16.890625 35.375 \nQ 19.28125 33.59375 26.515625 31.984375 \nL 29.59375 31.296875 \nQ 39.15625 29.25 43.1875 25.515625 \nQ 47.21875 21.78125 47.21875 15.09375 \nQ 47.21875 7.46875 41.1875 3.015625 \nQ 35.15625 -1.421875 24.609375 -1.421875 \nQ 20.21875 -1.421875 15.453125 -0.5625 \nQ 10.6875 0.296875 5.421875 2 \nL 5.421875 11.28125 \nQ 10.40625 8.6875 15.234375 7.390625 \nQ 20.0625 6.109375 24.8125 6.109375 \nQ 31.15625 6.109375 34.5625 8.28125 \nQ 37.984375 10.453125 37.984375 14.40625 \nQ 37.984375 18.0625 35.515625 20.015625 \nQ 33.0625 21.96875 24.703125 23.78125 \nL 21.578125 24.515625 \nQ 13.234375 26.265625 9.515625 29.90625 \nQ 5.8125 33.546875 5.8125 39.890625 \nQ 5.8125 47.609375 11.28125 51.796875 \nQ 16.75 56 26.8125 56 \nQ 31.78125 56 36.171875 55.265625 \nQ 40.578125 54.546875 44.28125 53.078125 \nz\n\" id=\"DejaVuSans-115\"/>\n     </defs>\n     <g transform=\"translate(14.798438 248.715114)rotate(-90)scale(0.1 -0.1)\">\n      <use xlink:href=\"#DejaVuSans-67\"/>\n      <use x=\"69.824219\" xlink:href=\"#DejaVuSans-108\"/>\n      <use x=\"97.607422\" xlink:href=\"#DejaVuSans-105\"/>\n      <use x=\"125.390625\" xlink:href=\"#DejaVuSans-99\"/>\n      <use x=\"180.371094\" xlink:href=\"#DejaVuSans-107\"/>\n      <use x=\"238.28125\" xlink:href=\"#DejaVuSans-115\"/>\n     </g>\n    </g>\n   </g>\n   <g id=\"line2d_81\">\n    <path clip-path=\"url(#p7cb0b41642)\" d=\"M 58.523438 234.196364 \nM 78.814347 234.196364 \nL 88.959801 234.196364 \nM 109.25071 234.196364 \nL 119.396165 234.196364 \nL 129.541619 234.196364 \nL 139.687074 234.196364 \nL 149.832528 234.196364 \nL 159.977983 234.196364 \nL 170.123438 234.196364 \nL 180.268892 234.196364 \nL 190.414347 234.196364 \nL 200.559801 234.196364 \nM 241.141619 234.196364 \nL 251.287074 234.196364 \nL 261.432528 234.196364 \nL 271.577983 234.196364 \nL 281.723438 234.196364 \nL 291.868892 234.196364 \nL 302.014347 234.196364 \nL 312.159801 234.196364 \nL 322.305256 234.196364 \nL 332.45071 234.196364 \nL 342.596165 234.196364 \nM 362.887074 234.196364 \nL 373.032528 234.196364 \nL 383.177983 234.196364 \nL 393.323437 234.196364 \n\" style=\"fill:none;stroke:#ff7f0e;stroke-linecap:square;stroke-width:1.5;\"/>\n   </g>\n   <g id=\"patch_9\">\n    <path d=\"M 58.523438 300.96 \nL 58.523438 167.432727 \n\" style=\"fill:none;stroke:#000000;stroke-linecap:square;stroke-linejoin:miter;stroke-width:0.8;\"/>\n   </g>\n   <g id=\"patch_10\">\n    <path d=\"M 393.323438 300.96 \nL 393.323438 167.432727 \n\" style=\"fill:none;stroke:#000000;stroke-linecap:square;stroke-linejoin:miter;stroke-width:0.8;\"/>\n   </g>\n   <g id=\"patch_11\">\n    <path d=\"M 58.523438 300.96 \nL 393.323437 300.96 \n\" style=\"fill:none;stroke:#000000;stroke-linecap:square;stroke-linejoin:miter;stroke-width:0.8;\"/>\n   </g>\n   <g id=\"patch_12\">\n    <path d=\"M 58.523438 167.432727 \nL 393.323437 167.432727 \n\" style=\"fill:none;stroke:#000000;stroke-linecap:square;stroke-linejoin:miter;stroke-width:0.8;\"/>\n   </g>\n   <g id=\"text_19\">\n    <!-- Python VS Non-python Related Keywords -->\n    <defs>\n     <path id=\"DejaVuSans-32\"/>\n     <path d=\"M 28.609375 0 \nL 0.78125 72.90625 \nL 11.078125 72.90625 \nL 34.1875 11.53125 \nL 57.328125 72.90625 \nL 67.578125 72.90625 \nL 39.796875 0 \nz\n\" id=\"DejaVuSans-86\"/>\n     <path d=\"M 53.515625 70.515625 \nL 53.515625 60.890625 \nQ 47.90625 63.578125 42.921875 64.890625 \nQ 37.9375 66.21875 33.296875 66.21875 \nQ 25.25 66.21875 20.875 63.09375 \nQ 16.5 59.96875 16.5 54.203125 \nQ 16.5 49.359375 19.40625 46.890625 \nQ 22.3125 44.4375 30.421875 42.921875 \nL 36.375 41.703125 \nQ 47.40625 39.59375 52.65625 34.296875 \nQ 57.90625 29 57.90625 20.125 \nQ 57.90625 9.515625 50.796875 4.046875 \nQ 43.703125 -1.421875 29.984375 -1.421875 \nQ 24.8125 -1.421875 18.96875 -0.25 \nQ 13.140625 0.921875 6.890625 3.21875 \nL 6.890625 13.375 \nQ 12.890625 10.015625 18.65625 8.296875 \nQ 24.421875 6.59375 29.984375 6.59375 \nQ 38.421875 6.59375 43.015625 9.90625 \nQ 47.609375 13.234375 47.609375 19.390625 \nQ 47.609375 24.75 44.3125 27.78125 \nQ 41.015625 30.8125 33.5 32.328125 \nL 27.484375 33.5 \nQ 16.453125 35.6875 11.515625 40.375 \nQ 6.59375 45.0625 6.59375 53.421875 \nQ 6.59375 63.09375 13.40625 68.65625 \nQ 20.21875 74.21875 32.171875 74.21875 \nQ 37.3125 74.21875 42.625 73.28125 \nQ 47.953125 72.359375 53.515625 70.515625 \nz\n\" id=\"DejaVuSans-83\"/>\n     <path d=\"M 18.109375 8.203125 \nL 18.109375 -20.796875 \nL 9.078125 -20.796875 \nL 9.078125 54.6875 \nL 18.109375 54.6875 \nL 18.109375 46.390625 \nQ 20.953125 51.265625 25.265625 53.625 \nQ 29.59375 56 35.59375 56 \nQ 45.5625 56 51.78125 48.09375 \nQ 58.015625 40.1875 58.015625 27.296875 \nQ 58.015625 14.40625 51.78125 6.484375 \nQ 45.5625 -1.421875 35.59375 -1.421875 \nQ 29.59375 -1.421875 25.265625 0.953125 \nQ 20.953125 3.328125 18.109375 8.203125 \nz\nM 48.6875 27.296875 \nQ 48.6875 37.203125 44.609375 42.84375 \nQ 40.53125 48.484375 33.40625 48.484375 \nQ 26.265625 48.484375 22.1875 42.84375 \nQ 18.109375 37.203125 18.109375 27.296875 \nQ 18.109375 17.390625 22.1875 11.75 \nQ 26.265625 6.109375 33.40625 6.109375 \nQ 40.53125 6.109375 44.609375 11.75 \nQ 48.6875 17.390625 48.6875 27.296875 \nz\n\" id=\"DejaVuSans-112\"/>\n     <path d=\"M 44.390625 34.1875 \nQ 47.5625 33.109375 50.5625 29.59375 \nQ 53.5625 26.078125 56.59375 19.921875 \nL 66.609375 0 \nL 56 0 \nL 46.6875 18.703125 \nQ 43.0625 26.03125 39.671875 28.421875 \nQ 36.28125 30.8125 30.421875 30.8125 \nL 19.671875 30.8125 \nL 19.671875 0 \nL 9.8125 0 \nL 9.8125 72.90625 \nL 32.078125 72.90625 \nQ 44.578125 72.90625 50.734375 67.671875 \nQ 56.890625 62.453125 56.890625 51.90625 \nQ 56.890625 45.015625 53.6875 40.46875 \nQ 50.484375 35.9375 44.390625 34.1875 \nz\nM 19.671875 64.796875 \nL 19.671875 38.921875 \nL 32.078125 38.921875 \nQ 39.203125 38.921875 42.84375 42.21875 \nQ 46.484375 45.515625 46.484375 51.90625 \nQ 46.484375 58.296875 42.84375 61.546875 \nQ 39.203125 64.796875 32.078125 64.796875 \nz\n\" id=\"DejaVuSans-82\"/>\n     <path d=\"M 45.40625 46.390625 \nL 45.40625 75.984375 \nL 54.390625 75.984375 \nL 54.390625 0 \nL 45.40625 0 \nL 45.40625 8.203125 \nQ 42.578125 3.328125 38.25 0.953125 \nQ 33.9375 -1.421875 27.875 -1.421875 \nQ 17.96875 -1.421875 11.734375 6.484375 \nQ 5.515625 14.40625 5.515625 27.296875 \nQ 5.515625 40.1875 11.734375 48.09375 \nQ 17.96875 56 27.875 56 \nQ 33.9375 56 38.25 53.625 \nQ 42.578125 51.265625 45.40625 46.390625 \nz\nM 14.796875 27.296875 \nQ 14.796875 17.390625 18.875 11.75 \nQ 22.953125 6.109375 30.078125 6.109375 \nQ 37.203125 6.109375 41.296875 11.75 \nQ 45.40625 17.390625 45.40625 27.296875 \nQ 45.40625 37.203125 41.296875 42.84375 \nQ 37.203125 48.484375 30.078125 48.484375 \nQ 22.953125 48.484375 18.875 42.84375 \nQ 14.796875 37.203125 14.796875 27.296875 \nz\n\" id=\"DejaVuSans-100\"/>\n     <path d=\"M 9.8125 72.90625 \nL 19.671875 72.90625 \nL 19.671875 42.09375 \nL 52.390625 72.90625 \nL 65.09375 72.90625 \nL 28.90625 38.921875 \nL 67.671875 0 \nL 54.6875 0 \nL 19.671875 35.109375 \nL 19.671875 0 \nL 9.8125 0 \nz\n\" id=\"DejaVuSans-75\"/>\n     <path d=\"M 4.203125 54.6875 \nL 13.1875 54.6875 \nL 24.421875 12.015625 \nL 35.59375 54.6875 \nL 46.1875 54.6875 \nL 57.421875 12.015625 \nL 68.609375 54.6875 \nL 77.59375 54.6875 \nL 63.28125 0 \nL 52.6875 0 \nL 40.921875 44.828125 \nL 29.109375 0 \nL 18.5 0 \nz\n\" id=\"DejaVuSans-119\"/>\n     <path d=\"M 41.109375 46.296875 \nQ 39.59375 47.171875 37.8125 47.578125 \nQ 36.03125 48 33.890625 48 \nQ 26.265625 48 22.1875 43.046875 \nQ 18.109375 38.09375 18.109375 28.8125 \nL 18.109375 0 \nL 9.078125 0 \nL 9.078125 54.6875 \nL 18.109375 54.6875 \nL 18.109375 46.1875 \nQ 20.953125 51.171875 25.484375 53.578125 \nQ 30.03125 56 36.53125 56 \nQ 37.453125 56 38.578125 55.875 \nQ 39.703125 55.765625 41.0625 55.515625 \nz\n\" id=\"DejaVuSans-114\"/>\n    </defs>\n    <g transform=\"translate(102.263438 161.432727)scale(0.12 -0.12)\">\n     <use xlink:href=\"#DejaVuSans-80\"/>\n     <use x=\"60.302734\" xlink:href=\"#DejaVuSans-121\"/>\n     <use x=\"119.482422\" xlink:href=\"#DejaVuSans-116\"/>\n     <use x=\"158.691406\" xlink:href=\"#DejaVuSans-104\"/>\n     <use x=\"222.070312\" xlink:href=\"#DejaVuSans-111\"/>\n     <use x=\"283.251953\" xlink:href=\"#DejaVuSans-110\"/>\n     <use x=\"346.630859\" xlink:href=\"#DejaVuSans-32\"/>\n     <use x=\"378.417969\" xlink:href=\"#DejaVuSans-86\"/>\n     <use x=\"446.826172\" xlink:href=\"#DejaVuSans-83\"/>\n     <use x=\"510.302734\" xlink:href=\"#DejaVuSans-32\"/>\n     <use x=\"542.089844\" xlink:href=\"#DejaVuSans-78\"/>\n     <use x=\"616.894531\" xlink:href=\"#DejaVuSans-111\"/>\n     <use x=\"678.076172\" xlink:href=\"#DejaVuSans-110\"/>\n     <use x=\"741.455078\" xlink:href=\"#DejaVuSans-45\"/>\n     <use x=\"777.539062\" xlink:href=\"#DejaVuSans-112\"/>\n     <use x=\"841.015625\" xlink:href=\"#DejaVuSans-121\"/>\n     <use x=\"900.195312\" xlink:href=\"#DejaVuSans-116\"/>\n     <use x=\"939.404297\" xlink:href=\"#DejaVuSans-104\"/>\n     <use x=\"1002.783203\" xlink:href=\"#DejaVuSans-111\"/>\n     <use x=\"1063.964844\" xlink:href=\"#DejaVuSans-110\"/>\n     <use x=\"1127.34375\" xlink:href=\"#DejaVuSans-32\"/>\n     <use x=\"1159.130859\" xlink:href=\"#DejaVuSans-82\"/>\n     <use x=\"1228.550781\" xlink:href=\"#DejaVuSans-101\"/>\n     <use x=\"1290.074219\" xlink:href=\"#DejaVuSans-108\"/>\n     <use x=\"1317.857422\" xlink:href=\"#DejaVuSans-97\"/>\n     <use x=\"1379.136719\" xlink:href=\"#DejaVuSans-116\"/>\n     <use x=\"1418.345703\" xlink:href=\"#DejaVuSans-101\"/>\n     <use x=\"1479.869141\" xlink:href=\"#DejaVuSans-100\"/>\n     <use x=\"1543.345703\" xlink:href=\"#DejaVuSans-32\"/>\n     <use x=\"1575.132812\" xlink:href=\"#DejaVuSans-75\"/>\n     <use x=\"1640.630859\" xlink:href=\"#DejaVuSans-101\"/>\n     <use x=\"1702.154297\" xlink:href=\"#DejaVuSans-121\"/>\n     <use x=\"1761.333984\" xlink:href=\"#DejaVuSans-119\"/>\n     <use x=\"1843.121094\" xlink:href=\"#DejaVuSans-111\"/>\n     <use x=\"1904.302734\" xlink:href=\"#DejaVuSans-114\"/>\n     <use x=\"1945.400391\" xlink:href=\"#DejaVuSans-100\"/>\n     <use x=\"2008.876953\" xlink:href=\"#DejaVuSans-115\"/>\n    </g>\n   </g>\n   <g id=\"legend_2\">\n    <g id=\"patch_13\">\n     <path d=\"M 319.660938 190.110852 \nL 386.323438 190.110852 \nQ 388.323438 190.110852 388.323438 188.110852 \nL 388.323438 174.432727 \nQ 388.323438 172.432727 386.323438 172.432727 \nL 319.660938 172.432727 \nQ 317.660938 172.432727 317.660938 174.432727 \nL 317.660938 188.110852 \nQ 317.660938 190.110852 319.660938 190.110852 \nz\n\" style=\"fill:#ffffff;opacity:0.8;stroke:#cccccc;stroke-linejoin:miter;\"/>\n    </g>\n    <g id=\"line2d_82\">\n     <path d=\"M 321.660938 180.531165 \nL 341.660938 180.531165 \n\" style=\"fill:none;stroke:#ff7f0e;stroke-linecap:square;stroke-width:1.5;\"/>\n    </g>\n    <g id=\"line2d_83\"/>\n    <g id=\"text_20\">\n     <!-- Python -->\n     <g transform=\"translate(349.660938 184.031165)scale(0.1 -0.1)\">\n      <use xlink:href=\"#DejaVuSans-80\"/>\n      <use x=\"60.302734\" xlink:href=\"#DejaVuSans-121\"/>\n      <use x=\"119.482422\" xlink:href=\"#DejaVuSans-116\"/>\n      <use x=\"158.691406\" xlink:href=\"#DejaVuSans-104\"/>\n      <use x=\"222.070312\" xlink:href=\"#DejaVuSans-111\"/>\n      <use x=\"283.251953\" xlink:href=\"#DejaVuSans-110\"/>\n     </g>\n    </g>\n   </g>\n  </g>\n </g>\n <defs>\n  <clipPath id=\"p863a8189d0\">\n   <rect height=\"133.527273\" width=\"334.8\" x=\"58.523438\" y=\"7.2\"/>\n  </clipPath>\n  <clipPath id=\"p7cb0b41642\">\n   <rect height=\"133.527273\" width=\"334.8\" x=\"58.523438\" y=\"167.432727\"/>\n  </clipPath>\n </defs>\n</svg>\n",
      "image/png": "[encoded data removed]"
     },
     "metadata": {
      "needs_background": "light"
     }
    }
   ],
   "source": [
    "df.plot(subplots=True,\n",
    "        sharex=True,\n",
    "        figsize=(6,6))\n",
    "plt.title('Python VS Non-python Related Keywords')\n",
    "plt.xlabel('Date')\n",
    "plt.ylabel('Clicks')\n",
    "plt.show()"
   ]
  },
  {
   "cell_type": "markdown",
   "metadata": {},
   "source": [
    "## Rankings"
   ]
  },
  {
   "cell_type": "code",
   "execution_count": 27,
   "metadata": {},
   "outputs": [],
   "source": [
    "df['ranking'] = 'Page 2, Pos 15+'\n",
    "df['ranking'][df['position'] <= 3] = 'Page 1, Pos 1-3'\n",
    "df['ranking'][(df['position'] > 3) & (df['position'] <= 7)] = 'Page 1, Pos 4-7'\n",
    "df['ranking'][(df['position'] > 7) & (df['position'] <= 10)] = 'Page 1, Pos 8-10'\n",
    "df['ranking'][(df['position'] > 10) & (df['position'] <= 14)] = 'Page 2, Pos 11-14'"
   ]
  },
  {
   "cell_type": "markdown",
   "metadata": {},
   "source": [
    "### Clicks by position"
   ]
  },
  {
   "cell_type": "code",
   "execution_count": 28,
   "metadata": {},
   "outputs": [
    {
     "output_type": "display_data",
     "data": {
      "application/vnd.plotly.v1+json": {
       "config": {
        "plotlyServerURL": "https://plot.ly"
       },
       "data": [
        {
         "hovertemplate": "<b>%{hovertext}</b><br><br>ranking=Page 1, Pos 1-3<br>date=%{x}<br>clicks=%{y}<extra></extra>",
         "hovertext": [
          "Page 1, Pos 1-3",
          "Page 1, Pos 1-3",
          "Page 1, Pos 1-3",
          "Page 1, Pos 1-3",
          "Page 1, Pos 1-3",
          "Page 1, Pos 1-3",
          "Page 1, Pos 1-3",
          "Page 1, Pos 1-3",
          "Page 1, Pos 1-3",
          "Page 1, Pos 1-3",
          "Page 1, Pos 1-3",
          "Page 1, Pos 1-3",
          "Page 1, Pos 1-3",
          "Page 1, Pos 1-3",
          "Page 1, Pos 1-3",
          "Page 1, Pos 1-3",
          "Page 1, Pos 1-3",
          "Page 1, Pos 1-3",
          "Page 1, Pos 1-3",
          "Page 1, Pos 1-3",
          "Page 1, Pos 1-3",
          "Page 1, Pos 1-3",
          "Page 1, Pos 1-3",
          "Page 1, Pos 1-3",
          "Page 1, Pos 1-3",
          "Page 1, Pos 1-3",
          "Page 1, Pos 1-3",
          "Page 1, Pos 1-3",
          "Page 1, Pos 1-3",
          "Page 1, Pos 1-3",
          "Page 1, Pos 1-3",
          "Page 1, Pos 1-3",
          "Page 1, Pos 1-3",
          "Page 1, Pos 1-3"
         ],
         "legendgroup": "Page 1, Pos 1-3",
         "line": {
          "color": "#636efa",
          "shape": "spline"
         },
         "mode": "lines",
         "name": "Page 1, Pos 1-3",
         "orientation": "v",
         "showlegend": true,
         "stackgroup": "1",
         "type": "scatter",
         "x": [
          "2020-07-15",
          "2020-07-16",
          "2020-07-17",
          "2020-07-18",
          "2020-07-19",
          "2020-07-20",
          "2020-07-21",
          "2020-07-22",
          "2020-07-23",
          "2020-07-24",
          "2020-07-25",
          "2020-07-26",
          "2020-07-27",
          "2020-07-28",
          "2020-07-29",
          "2020-07-30",
          "2020-07-31",
          "2020-08-01",
          "2020-08-02",
          "2020-08-03",
          "2020-08-04",
          "2020-08-05",
          "2020-08-06",
          "2020-08-07",
          "2020-08-08",
          "2020-08-09",
          "2020-08-10",
          "2020-08-11",
          "2020-08-12",
          "2020-08-13",
          "2020-08-14",
          "2020-08-15",
          "2020-08-16",
          "2020-08-17"
         ],
         "xaxis": "x",
         "y": [
          94,
          102,
          78,
          43,
          43,
          88,
          95,
          82,
          62,
          67,
          40,
          58,
          108,
          115,
          88,
          74,
          76,
          58,
          64,
          116,
          143,
          111,
          115,
          96,
          66,
          82,
          127,
          126,
          109,
          142,
          123,
          70,
          99,
          166
         ],
         "yaxis": "y"
        },
        {
         "hovertemplate": "<b>%{hovertext}</b><br><br>ranking=Page 1, Pos 4-7<br>date=%{x}<br>clicks=%{y}<extra></extra>",
         "hovertext": [
          "Page 1, Pos 4-7",
          "Page 1, Pos 4-7",
          "Page 1, Pos 4-7",
          "Page 1, Pos 4-7",
          "Page 1, Pos 4-7",
          "Page 1, Pos 4-7",
          "Page 1, Pos 4-7",
          "Page 1, Pos 4-7",
          "Page 1, Pos 4-7",
          "Page 1, Pos 4-7",
          "Page 1, Pos 4-7",
          "Page 1, Pos 4-7",
          "Page 1, Pos 4-7",
          "Page 1, Pos 4-7",
          "Page 1, Pos 4-7",
          "Page 1, Pos 4-7",
          "Page 1, Pos 4-7",
          "Page 1, Pos 4-7",
          "Page 1, Pos 4-7",
          "Page 1, Pos 4-7",
          "Page 1, Pos 4-7",
          "Page 1, Pos 4-7",
          "Page 1, Pos 4-7",
          "Page 1, Pos 4-7",
          "Page 1, Pos 4-7",
          "Page 1, Pos 4-7",
          "Page 1, Pos 4-7",
          "Page 1, Pos 4-7",
          "Page 1, Pos 4-7",
          "Page 1, Pos 4-7",
          "Page 1, Pos 4-7",
          "Page 1, Pos 4-7",
          "Page 1, Pos 4-7",
          "Page 1, Pos 4-7"
         ],
         "legendgroup": "Page 1, Pos 4-7",
         "line": {
          "color": "#EF553B",
          "shape": "spline"
         },
         "mode": "lines",
         "name": "Page 1, Pos 4-7",
         "orientation": "v",
         "showlegend": true,
         "stackgroup": "1",
         "type": "scatter",
         "x": [
          "2020-07-15",
          "2020-07-16",
          "2020-07-17",
          "2020-07-18",
          "2020-07-19",
          "2020-07-20",
          "2020-07-21",
          "2020-07-22",
          "2020-07-23",
          "2020-07-24",
          "2020-07-25",
          "2020-07-26",
          "2020-07-27",
          "2020-07-28",
          "2020-07-29",
          "2020-07-30",
          "2020-07-31",
          "2020-08-01",
          "2020-08-02",
          "2020-08-03",
          "2020-08-04",
          "2020-08-05",
          "2020-08-06",
          "2020-08-07",
          "2020-08-08",
          "2020-08-09",
          "2020-08-10",
          "2020-08-11",
          "2020-08-12",
          "2020-08-13",
          "2020-08-14",
          "2020-08-15",
          "2020-08-16",
          "2020-08-17"
         ],
         "xaxis": "x",
         "y": [
          47,
          50,
          27,
          23,
          28,
          55,
          62,
          64,
          55,
          40,
          25,
          41,
          62,
          46,
          53,
          49,
          51,
          25,
          40,
          63,
          51,
          66,
          65,
          46,
          23,
          28,
          58,
          57,
          62,
          58,
          47,
          28,
          27,
          71
         ],
         "yaxis": "y"
        },
        {
         "hovertemplate": "<b>%{hovertext}</b><br><br>ranking=Page 1, Pos 8-10<br>date=%{x}<br>clicks=%{y}<extra></extra>",
         "hovertext": [
          "Page 1, Pos 8-10",
          "Page 1, Pos 8-10",
          "Page 1, Pos 8-10",
          "Page 1, Pos 8-10",
          "Page 1, Pos 8-10",
          "Page 1, Pos 8-10",
          "Page 1, Pos 8-10",
          "Page 1, Pos 8-10",
          "Page 1, Pos 8-10",
          "Page 1, Pos 8-10",
          "Page 1, Pos 8-10",
          "Page 1, Pos 8-10",
          "Page 1, Pos 8-10",
          "Page 1, Pos 8-10",
          "Page 1, Pos 8-10",
          "Page 1, Pos 8-10",
          "Page 1, Pos 8-10",
          "Page 1, Pos 8-10",
          "Page 1, Pos 8-10",
          "Page 1, Pos 8-10",
          "Page 1, Pos 8-10",
          "Page 1, Pos 8-10",
          "Page 1, Pos 8-10",
          "Page 1, Pos 8-10",
          "Page 1, Pos 8-10",
          "Page 1, Pos 8-10",
          "Page 1, Pos 8-10",
          "Page 1, Pos 8-10",
          "Page 1, Pos 8-10",
          "Page 1, Pos 8-10",
          "Page 1, Pos 8-10",
          "Page 1, Pos 8-10",
          "Page 1, Pos 8-10",
          "Page 1, Pos 8-10"
         ],
         "legendgroup": "Page 1, Pos 8-10",
         "line": {
          "color": "#00cc96",
          "shape": "spline"
         },
         "mode": "lines",
         "name": "Page 1, Pos 8-10",
         "orientation": "v",
         "showlegend": true,
         "stackgroup": "1",
         "type": "scatter",
         "x": [
          "2020-07-15",
          "2020-07-16",
          "2020-07-17",
          "2020-07-18",
          "2020-07-19",
          "2020-07-20",
          "2020-07-21",
          "2020-07-22",
          "2020-07-23",
          "2020-07-24",
          "2020-07-25",
          "2020-07-26",
          "2020-07-27",
          "2020-07-28",
          "2020-07-29",
          "2020-07-30",
          "2020-07-31",
          "2020-08-01",
          "2020-08-02",
          "2020-08-03",
          "2020-08-04",
          "2020-08-05",
          "2020-08-06",
          "2020-08-07",
          "2020-08-08",
          "2020-08-09",
          "2020-08-10",
          "2020-08-11",
          "2020-08-12",
          "2020-08-13",
          "2020-08-14",
          "2020-08-15",
          "2020-08-16",
          "2020-08-17"
         ],
         "xaxis": "x",
         "y": [
          18,
          29,
          13,
          8,
          5,
          16,
          27,
          21,
          18,
          14,
          8,
          10,
          13,
          14,
          13,
          15,
          19,
          8,
          12,
          20,
          22,
          13,
          17,
          12,
          8,
          11,
          18,
          17,
          7,
          19,
          13,
          8,
          10,
          22
         ],
         "yaxis": "y"
        },
        {
         "hovertemplate": "<b>%{hovertext}</b><br><br>ranking=Page 2, Pos 11-14<br>date=%{x}<br>clicks=%{y}<extra></extra>",
         "hovertext": [
          "Page 2, Pos 11-14",
          "Page 2, Pos 11-14",
          "Page 2, Pos 11-14",
          "Page 2, Pos 11-14",
          "Page 2, Pos 11-14",
          "Page 2, Pos 11-14",
          "Page 2, Pos 11-14",
          "Page 2, Pos 11-14",
          "Page 2, Pos 11-14",
          "Page 2, Pos 11-14",
          "Page 2, Pos 11-14",
          "Page 2, Pos 11-14",
          "Page 2, Pos 11-14",
          "Page 2, Pos 11-14",
          "Page 2, Pos 11-14",
          "Page 2, Pos 11-14",
          "Page 2, Pos 11-14",
          "Page 2, Pos 11-14",
          "Page 2, Pos 11-14",
          "Page 2, Pos 11-14",
          "Page 2, Pos 11-14",
          "Page 2, Pos 11-14",
          "Page 2, Pos 11-14",
          "Page 2, Pos 11-14",
          "Page 2, Pos 11-14",
          "Page 2, Pos 11-14",
          "Page 2, Pos 11-14",
          "Page 2, Pos 11-14",
          "Page 2, Pos 11-14",
          "Page 2, Pos 11-14",
          "Page 2, Pos 11-14",
          "Page 2, Pos 11-14",
          "Page 2, Pos 11-14",
          "Page 2, Pos 11-14"
         ],
         "legendgroup": "Page 2, Pos 11-14",
         "line": {
          "color": "#ab63fa",
          "shape": "spline"
         },
         "mode": "lines",
         "name": "Page 2, Pos 11-14",
         "orientation": "v",
         "showlegend": true,
         "stackgroup": "1",
         "type": "scatter",
         "x": [
          "2020-07-15",
          "2020-07-16",
          "2020-07-17",
          "2020-07-18",
          "2020-07-19",
          "2020-07-20",
          "2020-07-21",
          "2020-07-22",
          "2020-07-23",
          "2020-07-24",
          "2020-07-25",
          "2020-07-26",
          "2020-07-27",
          "2020-07-28",
          "2020-07-29",
          "2020-07-30",
          "2020-07-31",
          "2020-08-01",
          "2020-08-02",
          "2020-08-03",
          "2020-08-04",
          "2020-08-05",
          "2020-08-06",
          "2020-08-07",
          "2020-08-08",
          "2020-08-09",
          "2020-08-10",
          "2020-08-11",
          "2020-08-12",
          "2020-08-13",
          "2020-08-14",
          "2020-08-15",
          "2020-08-16",
          "2020-08-17"
         ],
         "xaxis": "x",
         "y": [
          4,
          3,
          1,
          0,
          1,
          4,
          4,
          3,
          4,
          2,
          4,
          2,
          2,
          6,
          3,
          4,
          7,
          0,
          5,
          3,
          2,
          3,
          3,
          8,
          4,
          4,
          2,
          8,
          2,
          3,
          4,
          4,
          3,
          3
         ],
         "yaxis": "y"
        },
        {
         "hovertemplate": "<b>%{hovertext}</b><br><br>ranking=Page 2, Pos 15+<br>date=%{x}<br>clicks=%{y}<extra></extra>",
         "hovertext": [
          "Page 2, Pos 15+",
          "Page 2, Pos 15+",
          "Page 2, Pos 15+",
          "Page 2, Pos 15+",
          "Page 2, Pos 15+",
          "Page 2, Pos 15+",
          "Page 2, Pos 15+",
          "Page 2, Pos 15+",
          "Page 2, Pos 15+",
          "Page 2, Pos 15+",
          "Page 2, Pos 15+",
          "Page 2, Pos 15+",
          "Page 2, Pos 15+",
          "Page 2, Pos 15+",
          "Page 2, Pos 15+",
          "Page 2, Pos 15+",
          "Page 2, Pos 15+",
          "Page 2, Pos 15+",
          "Page 2, Pos 15+",
          "Page 2, Pos 15+",
          "Page 2, Pos 15+",
          "Page 2, Pos 15+",
          "Page 2, Pos 15+",
          "Page 2, Pos 15+",
          "Page 2, Pos 15+",
          "Page 2, Pos 15+",
          "Page 2, Pos 15+",
          "Page 2, Pos 15+",
          "Page 2, Pos 15+",
          "Page 2, Pos 15+",
          "Page 2, Pos 15+",
          "Page 2, Pos 15+",
          "Page 2, Pos 15+",
          "Page 2, Pos 15+"
         ],
         "legendgroup": "Page 2, Pos 15+",
         "line": {
          "color": "#FFA15A",
          "shape": "spline"
         },
         "mode": "lines",
         "name": "Page 2, Pos 15+",
         "orientation": "v",
         "showlegend": true,
         "stackgroup": "1",
         "type": "scatter",
         "x": [
          "2020-07-15",
          "2020-07-16",
          "2020-07-17",
          "2020-07-18",
          "2020-07-19",
          "2020-07-20",
          "2020-07-21",
          "2020-07-22",
          "2020-07-23",
          "2020-07-24",
          "2020-07-25",
          "2020-07-26",
          "2020-07-27",
          "2020-07-28",
          "2020-07-29",
          "2020-07-30",
          "2020-07-31",
          "2020-08-01",
          "2020-08-02",
          "2020-08-03",
          "2020-08-04",
          "2020-08-05",
          "2020-08-06",
          "2020-08-07",
          "2020-08-08",
          "2020-08-09",
          "2020-08-10",
          "2020-08-11",
          "2020-08-12",
          "2020-08-13",
          "2020-08-14",
          "2020-08-15",
          "2020-08-16",
          "2020-08-17"
         ],
         "xaxis": "x",
         "y": [
          0,
          1,
          0,
          2,
          4,
          4,
          2,
          0,
          4,
          1,
          3,
          4,
          1,
          2,
          2,
          2,
          2,
          4,
          1,
          2,
          4,
          2,
          5,
          3,
          1,
          3,
          3,
          3,
          1,
          4,
          2,
          2,
          0,
          5
         ],
         "yaxis": "y"
        }
       ],
       "layout": {
        "legend": {
         "title": {
          "text": "ranking"
         },
         "tracegroupgap": 0
        },
        "margin": {
         "t": 60
        },
        "template": {
         "data": {
          "bar": [
           {
            "error_x": {
             "color": "#2a3f5f"
            },
            "error_y": {
             "color": "#2a3f5f"
            },
            "marker": {
             "line": {
              "color": "#E5ECF6",
              "width": 0.5
             }
            },
            "type": "bar"
           }
          ],
          "barpolar": [
           {
            "marker": {
             "line": {
              "color": "#E5ECF6",
              "width": 0.5
             }
            },
            "type": "barpolar"
           }
          ],
          "carpet": [
           {
            "aaxis": {
             "endlinecolor": "#2a3f5f",
             "gridcolor": "white",
             "linecolor": "white",
             "minorgridcolor": "white",
             "startlinecolor": "#2a3f5f"
            },
            "baxis": {
             "endlinecolor": "#2a3f5f",
             "gridcolor": "white",
             "linecolor": "white",
             "minorgridcolor": "white",
             "startlinecolor": "#2a3f5f"
            },
            "type": "carpet"
           }
          ],
          "choropleth": [
           {
            "colorbar": {
             "outlinewidth": 0,
             "ticks": ""
            },
            "type": "choropleth"
           }
          ],
          "contour": [
           {
            "colorbar": {
             "outlinewidth": 0,
             "ticks": ""
            },
            "colorscale": [
             [
              0,
              "#0d0887"
             ],
             [
              0.1111111111111111,
              "#46039f"
             ],
             [
              0.2222222222222222,
              "#7201a8"
             ],
             [
              0.3333333333333333,
              "#9c179e"
             ],
             [
              0.4444444444444444,
              "#bd3786"
             ],
             [
              0.5555555555555556,
              "#d8576b"
             ],
             [
              0.6666666666666666,
              "#ed7953"
             ],
             [
              0.7777777777777778,
              "#fb9f3a"
             ],
             [
              0.8888888888888888,
              "#fdca26"
             ],
             [
              1,
              "#f0f921"
             ]
            ],
            "type": "contour"
           }
          ],
          "contourcarpet": [
           {
            "colorbar": {
             "outlinewidth": 0,
             "ticks": ""
            },
            "type": "contourcarpet"
           }
          ],
          "heatmap": [
           {
            "colorbar": {
             "outlinewidth": 0,
             "ticks": ""
            },
            "colorscale": [
             [
              0,
              "#0d0887"
             ],
             [
              0.1111111111111111,
              "#46039f"
             ],
             [
              0.2222222222222222,
              "#7201a8"
             ],
             [
              0.3333333333333333,
              "#9c179e"
             ],
             [
              0.4444444444444444,
              "#bd3786"
             ],
             [
              0.5555555555555556,
              "#d8576b"
             ],
             [
              0.6666666666666666,
              "#ed7953"
             ],
             [
              0.7777777777777778,
              "#fb9f3a"
             ],
             [
              0.8888888888888888,
              "#fdca26"
             ],
             [
              1,
              "#f0f921"
             ]
            ],
            "type": "heatmap"
           }
          ],
          "heatmapgl": [
           {
            "colorbar": {
             "outlinewidth": 0,
             "ticks": ""
            },
            "colorscale": [
             [
              0,
              "#0d0887"
             ],
             [
              0.1111111111111111,
              "#46039f"
             ],
             [
              0.2222222222222222,
              "#7201a8"
             ],
             [
              0.3333333333333333,
              "#9c179e"
             ],
             [
              0.4444444444444444,
              "#bd3786"
             ],
             [
              0.5555555555555556,
              "#d8576b"
             ],
             [
              0.6666666666666666,
              "#ed7953"
             ],
             [
              0.7777777777777778,
              "#fb9f3a"
             ],
             [
              0.8888888888888888,
              "#fdca26"
             ],
             [
              1,
              "#f0f921"
             ]
            ],
            "type": "heatmapgl"
           }
          ],
          "histogram": [
           {
            "marker": {
             "colorbar": {
              "outlinewidth": 0,
              "ticks": ""
             }
            },
            "type": "histogram"
           }
          ],
          "histogram2d": [
           {
            "colorbar": {
             "outlinewidth": 0,
             "ticks": ""
            },
            "colorscale": [
             [
              0,
              "#0d0887"
             ],
             [
              0.1111111111111111,
              "#46039f"
             ],
             [
              0.2222222222222222,
              "#7201a8"
             ],
             [
              0.3333333333333333,
              "#9c179e"
             ],
             [
              0.4444444444444444,
              "#bd3786"
             ],
             [
              0.5555555555555556,
              "#d8576b"
             ],
             [
              0.6666666666666666,
              "#ed7953"
             ],
             [
              0.7777777777777778,
              "#fb9f3a"
             ],
             [
              0.8888888888888888,
              "#fdca26"
             ],
             [
              1,
              "#f0f921"
             ]
            ],
            "type": "histogram2d"
           }
          ],
          "histogram2dcontour": [
           {
            "colorbar": {
             "outlinewidth": 0,
             "ticks": ""
            },
            "colorscale": [
             [
              0,
              "#0d0887"
             ],
             [
              0.1111111111111111,
              "#46039f"
             ],
             [
              0.2222222222222222,
              "#7201a8"
             ],
             [
              0.3333333333333333,
              "#9c179e"
             ],
             [
              0.4444444444444444,
              "#bd3786"
             ],
             [
              0.5555555555555556,
              "#d8576b"
             ],
             [
              0.6666666666666666,
              "#ed7953"
             ],
             [
              0.7777777777777778,
              "#fb9f3a"
             ],
             [
              0.8888888888888888,
              "#fdca26"
             ],
             [
              1,
              "#f0f921"
             ]
            ],
            "type": "histogram2dcontour"
           }
          ],
          "mesh3d": [
           {
            "colorbar": {
             "outlinewidth": 0,
             "ticks": ""
            },
            "type": "mesh3d"
           }
          ],
          "parcoords": [
           {
            "line": {
             "colorbar": {
              "outlinewidth": 0,
              "ticks": ""
             }
            },
            "type": "parcoords"
           }
          ],
          "pie": [
           {
            "automargin": true,
            "type": "pie"
           }
          ],
          "scatter": [
           {
            "marker": {
             "colorbar": {
              "outlinewidth": 0,
              "ticks": ""
             }
            },
            "type": "scatter"
           }
          ],
          "scatter3d": [
           {
            "line": {
             "colorbar": {
              "outlinewidth": 0,
              "ticks": ""
             }
            },
            "marker": {
             "colorbar": {
              "outlinewidth": 0,
              "ticks": ""
             }
            },
            "type": "scatter3d"
           }
          ],
          "scattercarpet": [
           {
            "marker": {
             "colorbar": {
              "outlinewidth": 0,
              "ticks": ""
             }
            },
            "type": "scattercarpet"
           }
          ],
          "scattergeo": [
           {
            "marker": {
             "colorbar": {
              "outlinewidth": 0,
              "ticks": ""
             }
            },
            "type": "scattergeo"
           }
          ],
          "scattergl": [
           {
            "marker": {
             "colorbar": {
              "outlinewidth": 0,
              "ticks": ""
             }
            },
            "type": "scattergl"
           }
          ],
          "scattermapbox": [
           {
            "marker": {
             "colorbar": {
              "outlinewidth": 0,
              "ticks": ""
             }
            },
            "type": "scattermapbox"
           }
          ],
          "scatterpolar": [
           {
            "marker": {
             "colorbar": {
              "outlinewidth": 0,
              "ticks": ""
             }
            },
            "type": "scatterpolar"
           }
          ],
          "scatterpolargl": [
           {
            "marker": {
             "colorbar": {
              "outlinewidth": 0,
              "ticks": ""
             }
            },
            "type": "scatterpolargl"
           }
          ],
          "scatterternary": [
           {
            "marker": {
             "colorbar": {
              "outlinewidth": 0,
              "ticks": ""
             }
            },
            "type": "scatterternary"
           }
          ],
          "surface": [
           {
            "colorbar": {
             "outlinewidth": 0,
             "ticks": ""
            },
            "colorscale": [
             [
              0,
              "#0d0887"
             ],
             [
              0.1111111111111111,
              "#46039f"
             ],
             [
              0.2222222222222222,
              "#7201a8"
             ],
             [
              0.3333333333333333,
              "#9c179e"
             ],
             [
              0.4444444444444444,
              "#bd3786"
             ],
             [
              0.5555555555555556,
              "#d8576b"
             ],
             [
              0.6666666666666666,
              "#ed7953"
             ],
             [
              0.7777777777777778,
              "#fb9f3a"
             ],
             [
              0.8888888888888888,
              "#fdca26"
             ],
             [
              1,
              "#f0f921"
             ]
            ],
            "type": "surface"
           }
          ],
          "table": [
           {
            "cells": {
             "fill": {
              "color": "#EBF0F8"
             },
             "line": {
              "color": "white"
             }
            },
            "header": {
             "fill": {
              "color": "#C8D4E3"
             },
             "line": {
              "color": "white"
             }
            },
            "type": "table"
           }
          ]
         },
         "layout": {
          "annotationdefaults": {
           "arrowcolor": "#2a3f5f",
           "arrowhead": 0,
           "arrowwidth": 1
          },
          "coloraxis": {
           "colorbar": {
            "outlinewidth": 0,
            "ticks": ""
           }
          },
          "colorscale": {
           "diverging": [
            [
             0,
             "#8e0152"
            ],
            [
             0.1,
             "#c51b7d"
            ],
            [
             0.2,
             "#de77ae"
            ],
            [
             0.3,
             "#f1b6da"
            ],
            [
             0.4,
             "#fde0ef"
            ],
            [
             0.5,
             "#f7f7f7"
            ],
            [
             0.6,
             "#e6f5d0"
            ],
            [
             0.7,
             "#b8e186"
            ],
            [
             0.8,
             "#7fbc41"
            ],
            [
             0.9,
             "#4d9221"
            ],
            [
             1,
             "#276419"
            ]
           ],
           "sequential": [
            [
             0,
             "#0d0887"
            ],
            [
             0.1111111111111111,
             "#46039f"
            ],
            [
             0.2222222222222222,
             "#7201a8"
            ],
            [
             0.3333333333333333,
             "#9c179e"
            ],
            [
             0.4444444444444444,
             "#bd3786"
            ],
            [
             0.5555555555555556,
             "#d8576b"
            ],
            [
             0.6666666666666666,
             "#ed7953"
            ],
            [
             0.7777777777777778,
             "#fb9f3a"
            ],
            [
             0.8888888888888888,
             "#fdca26"
            ],
            [
             1,
             "#f0f921"
            ]
           ],
           "sequentialminus": [
            [
             0,
             "#0d0887"
            ],
            [
             0.1111111111111111,
             "#46039f"
            ],
            [
             0.2222222222222222,
             "#7201a8"
            ],
            [
             0.3333333333333333,
             "#9c179e"
            ],
            [
             0.4444444444444444,
             "#bd3786"
            ],
            [
             0.5555555555555556,
             "#d8576b"
            ],
            [
             0.6666666666666666,
             "#ed7953"
            ],
            [
             0.7777777777777778,
             "#fb9f3a"
            ],
            [
             0.8888888888888888,
             "#fdca26"
            ],
            [
             1,
             "#f0f921"
            ]
           ]
          },
          "colorway": [
           "#636efa",
           "#EF553B",
           "#00cc96",
           "#ab63fa",
           "#FFA15A",
           "#19d3f3",
           "#FF6692",
           "#B6E880",
           "#FF97FF",
           "#FECB52"
          ],
          "font": {
           "color": "#2a3f5f"
          },
          "geo": {
           "bgcolor": "white",
           "lakecolor": "white",
           "landcolor": "#E5ECF6",
           "showlakes": true,
           "showland": true,
           "subunitcolor": "white"
          },
          "hoverlabel": {
           "align": "left"
          },
          "hovermode": "closest",
          "mapbox": {
           "style": "light"
          },
          "paper_bgcolor": "white",
          "plot_bgcolor": "#E5ECF6",
          "polar": {
           "angularaxis": {
            "gridcolor": "white",
            "linecolor": "white",
            "ticks": ""
           },
           "bgcolor": "#E5ECF6",
           "radialaxis": {
            "gridcolor": "white",
            "linecolor": "white",
            "ticks": ""
           }
          },
          "scene": {
           "xaxis": {
            "backgroundcolor": "#E5ECF6",
            "gridcolor": "white",
            "gridwidth": 2,
            "linecolor": "white",
            "showbackground": true,
            "ticks": "",
            "zerolinecolor": "white"
           },
           "yaxis": {
            "backgroundcolor": "#E5ECF6",
            "gridcolor": "white",
            "gridwidth": 2,
            "linecolor": "white",
            "showbackground": true,
            "ticks": "",
            "zerolinecolor": "white"
           },
           "zaxis": {
            "backgroundcolor": "#E5ECF6",
            "gridcolor": "white",
            "gridwidth": 2,
            "linecolor": "white",
            "showbackground": true,
            "ticks": "",
            "zerolinecolor": "white"
           }
          },
          "shapedefaults": {
           "line": {
            "color": "#2a3f5f"
           }
          },
          "ternary": {
           "aaxis": {
            "gridcolor": "white",
            "linecolor": "white",
            "ticks": ""
           },
           "baxis": {
            "gridcolor": "white",
            "linecolor": "white",
            "ticks": ""
           },
           "bgcolor": "#E5ECF6",
           "caxis": {
            "gridcolor": "white",
            "linecolor": "white",
            "ticks": ""
           }
          },
          "title": {
           "x": 0.05
          },
          "xaxis": {
           "automargin": true,
           "gridcolor": "white",
           "linecolor": "white",
           "ticks": "",
           "title": {
            "standoff": 15
           },
           "zerolinecolor": "white",
           "zerolinewidth": 2
          },
          "yaxis": {
           "automargin": true,
           "gridcolor": "white",
           "linecolor": "white",
           "ticks": "",
           "title": {
            "standoff": 15
           },
           "zerolinecolor": "white",
           "zerolinewidth": 2
          }
         }
        },
        "xaxis": {
         "anchor": "y",
         "domain": [
          0,
          1
         ],
         "title": {
          "text": "date"
         }
        },
        "yaxis": {
         "anchor": "x",
         "domain": [
          0,
          1
         ],
         "title": {
          "text": "clicks"
         }
        }
       }
      }
     },
     "metadata": {}
    }
   ],
   "source": [
    "import plotly.express as px\n",
    "\n",
    "plot_df = df.groupby(['date','ranking']).agg({'query':'count','clicks':'sum'}).reset_index()\n",
    "\n",
    "fig = px.area(plot_df, x='date', y='clicks', color='ranking', line_group='ranking', hover_name='ranking',\n",
    "        line_shape='spline')\n",
    "fig.show()"
   ]
  },
  {
   "cell_type": "markdown",
   "metadata": {},
   "source": [
    "### Number of Queries by Position"
   ]
  },
  {
   "cell_type": "code",
   "execution_count": 29,
   "metadata": {},
   "outputs": [
    {
     "output_type": "display_data",
     "data": {
      "application/vnd.plotly.v1+json": {
       "config": {
        "plotlyServerURL": "https://plot.ly"
       },
       "data": [
        {
         "hovertemplate": "<b>%{hovertext}</b><br><br>ranking=Page 1, Pos 1-3<br>date=%{x}<br>query=%{y}<extra></extra>",
         "hovertext": [
          "Page 1, Pos 1-3",
          "Page 1, Pos 1-3",
          "Page 1, Pos 1-3",
          "Page 1, Pos 1-3",
          "Page 1, Pos 1-3",
          "Page 1, Pos 1-3",
          "Page 1, Pos 1-3",
          "Page 1, Pos 1-3",
          "Page 1, Pos 1-3",
          "Page 1, Pos 1-3",
          "Page 1, Pos 1-3",
          "Page 1, Pos 1-3",
          "Page 1, Pos 1-3",
          "Page 1, Pos 1-3",
          "Page 1, Pos 1-3",
          "Page 1, Pos 1-3",
          "Page 1, Pos 1-3",
          "Page 1, Pos 1-3",
          "Page 1, Pos 1-3",
          "Page 1, Pos 1-3",
          "Page 1, Pos 1-3",
          "Page 1, Pos 1-3",
          "Page 1, Pos 1-3",
          "Page 1, Pos 1-3",
          "Page 1, Pos 1-3",
          "Page 1, Pos 1-3",
          "Page 1, Pos 1-3",
          "Page 1, Pos 1-3",
          "Page 1, Pos 1-3",
          "Page 1, Pos 1-3",
          "Page 1, Pos 1-3",
          "Page 1, Pos 1-3",
          "Page 1, Pos 1-3",
          "Page 1, Pos 1-3"
         ],
         "legendgroup": "Page 1, Pos 1-3",
         "line": {
          "color": "#636efa",
          "shape": "spline"
         },
         "mode": "lines",
         "name": "Page 1, Pos 1-3",
         "orientation": "v",
         "showlegend": true,
         "stackgroup": "1",
         "type": "scatter",
         "x": [
          "2020-07-15",
          "2020-07-16",
          "2020-07-17",
          "2020-07-18",
          "2020-07-19",
          "2020-07-20",
          "2020-07-21",
          "2020-07-22",
          "2020-07-23",
          "2020-07-24",
          "2020-07-25",
          "2020-07-26",
          "2020-07-27",
          "2020-07-28",
          "2020-07-29",
          "2020-07-30",
          "2020-07-31",
          "2020-08-01",
          "2020-08-02",
          "2020-08-03",
          "2020-08-04",
          "2020-08-05",
          "2020-08-06",
          "2020-08-07",
          "2020-08-08",
          "2020-08-09",
          "2020-08-10",
          "2020-08-11",
          "2020-08-12",
          "2020-08-13",
          "2020-08-14",
          "2020-08-15",
          "2020-08-16",
          "2020-08-17"
         ],
         "xaxis": "x",
         "y": [
          170,
          177,
          156,
          135,
          114,
          199,
          191,
          174,
          163,
          156,
          118,
          136,
          192,
          198,
          166,
          166,
          174,
          132,
          165,
          199,
          229,
          211,
          230,
          185,
          126,
          183,
          208,
          253,
          232,
          237,
          217,
          174,
          197,
          237
         ],
         "yaxis": "y"
        },
        {
         "hovertemplate": "<b>%{hovertext}</b><br><br>ranking=Page 1, Pos 4-7<br>date=%{x}<br>query=%{y}<extra></extra>",
         "hovertext": [
          "Page 1, Pos 4-7",
          "Page 1, Pos 4-7",
          "Page 1, Pos 4-7",
          "Page 1, Pos 4-7",
          "Page 1, Pos 4-7",
          "Page 1, Pos 4-7",
          "Page 1, Pos 4-7",
          "Page 1, Pos 4-7",
          "Page 1, Pos 4-7",
          "Page 1, Pos 4-7",
          "Page 1, Pos 4-7",
          "Page 1, Pos 4-7",
          "Page 1, Pos 4-7",
          "Page 1, Pos 4-7",
          "Page 1, Pos 4-7",
          "Page 1, Pos 4-7",
          "Page 1, Pos 4-7",
          "Page 1, Pos 4-7",
          "Page 1, Pos 4-7",
          "Page 1, Pos 4-7",
          "Page 1, Pos 4-7",
          "Page 1, Pos 4-7",
          "Page 1, Pos 4-7",
          "Page 1, Pos 4-7",
          "Page 1, Pos 4-7",
          "Page 1, Pos 4-7",
          "Page 1, Pos 4-7",
          "Page 1, Pos 4-7",
          "Page 1, Pos 4-7",
          "Page 1, Pos 4-7",
          "Page 1, Pos 4-7",
          "Page 1, Pos 4-7",
          "Page 1, Pos 4-7",
          "Page 1, Pos 4-7"
         ],
         "legendgroup": "Page 1, Pos 4-7",
         "line": {
          "color": "#EF553B",
          "shape": "spline"
         },
         "mode": "lines",
         "name": "Page 1, Pos 4-7",
         "orientation": "v",
         "showlegend": true,
         "stackgroup": "1",
         "type": "scatter",
         "x": [
          "2020-07-15",
          "2020-07-16",
          "2020-07-17",
          "2020-07-18",
          "2020-07-19",
          "2020-07-20",
          "2020-07-21",
          "2020-07-22",
          "2020-07-23",
          "2020-07-24",
          "2020-07-25",
          "2020-07-26",
          "2020-07-27",
          "2020-07-28",
          "2020-07-29",
          "2020-07-30",
          "2020-07-31",
          "2020-08-01",
          "2020-08-02",
          "2020-08-03",
          "2020-08-04",
          "2020-08-05",
          "2020-08-06",
          "2020-08-07",
          "2020-08-08",
          "2020-08-09",
          "2020-08-10",
          "2020-08-11",
          "2020-08-12",
          "2020-08-13",
          "2020-08-14",
          "2020-08-15",
          "2020-08-16",
          "2020-08-17"
         ],
         "xaxis": "x",
         "y": [
          369,
          336,
          329,
          247,
          289,
          377,
          384,
          415,
          407,
          373,
          304,
          322,
          409,
          387,
          425,
          419,
          377,
          294,
          338,
          442,
          465,
          457,
          439,
          380,
          304,
          339,
          419,
          465,
          415,
          401,
          370,
          306,
          331,
          442
         ],
         "yaxis": "y"
        },
        {
         "hovertemplate": "<b>%{hovertext}</b><br><br>ranking=Page 1, Pos 8-10<br>date=%{x}<br>query=%{y}<extra></extra>",
         "hovertext": [
          "Page 1, Pos 8-10",
          "Page 1, Pos 8-10",
          "Page 1, Pos 8-10",
          "Page 1, Pos 8-10",
          "Page 1, Pos 8-10",
          "Page 1, Pos 8-10",
          "Page 1, Pos 8-10",
          "Page 1, Pos 8-10",
          "Page 1, Pos 8-10",
          "Page 1, Pos 8-10",
          "Page 1, Pos 8-10",
          "Page 1, Pos 8-10",
          "Page 1, Pos 8-10",
          "Page 1, Pos 8-10",
          "Page 1, Pos 8-10",
          "Page 1, Pos 8-10",
          "Page 1, Pos 8-10",
          "Page 1, Pos 8-10",
          "Page 1, Pos 8-10",
          "Page 1, Pos 8-10",
          "Page 1, Pos 8-10",
          "Page 1, Pos 8-10",
          "Page 1, Pos 8-10",
          "Page 1, Pos 8-10",
          "Page 1, Pos 8-10",
          "Page 1, Pos 8-10",
          "Page 1, Pos 8-10",
          "Page 1, Pos 8-10",
          "Page 1, Pos 8-10",
          "Page 1, Pos 8-10",
          "Page 1, Pos 8-10",
          "Page 1, Pos 8-10",
          "Page 1, Pos 8-10",
          "Page 1, Pos 8-10"
         ],
         "legendgroup": "Page 1, Pos 8-10",
         "line": {
          "color": "#00cc96",
          "shape": "spline"
         },
         "mode": "lines",
         "name": "Page 1, Pos 8-10",
         "orientation": "v",
         "showlegend": true,
         "stackgroup": "1",
         "type": "scatter",
         "x": [
          "2020-07-15",
          "2020-07-16",
          "2020-07-17",
          "2020-07-18",
          "2020-07-19",
          "2020-07-20",
          "2020-07-21",
          "2020-07-22",
          "2020-07-23",
          "2020-07-24",
          "2020-07-25",
          "2020-07-26",
          "2020-07-27",
          "2020-07-28",
          "2020-07-29",
          "2020-07-30",
          "2020-07-31",
          "2020-08-01",
          "2020-08-02",
          "2020-08-03",
          "2020-08-04",
          "2020-08-05",
          "2020-08-06",
          "2020-08-07",
          "2020-08-08",
          "2020-08-09",
          "2020-08-10",
          "2020-08-11",
          "2020-08-12",
          "2020-08-13",
          "2020-08-14",
          "2020-08-15",
          "2020-08-16",
          "2020-08-17"
         ],
         "xaxis": "x",
         "y": [
          759,
          742,
          670,
          510,
          601,
          755,
          796,
          831,
          826,
          684,
          555,
          582,
          787,
          785,
          783,
          740,
          699,
          570,
          653,
          867,
          888,
          853,
          856,
          770,
          635,
          669,
          842,
          899,
          817,
          871,
          772,
          621,
          725,
          958
         ],
         "yaxis": "y"
        },
        {
         "hovertemplate": "<b>%{hovertext}</b><br><br>ranking=Page 2, Pos 11-14<br>date=%{x}<br>query=%{y}<extra></extra>",
         "hovertext": [
          "Page 2, Pos 11-14",
          "Page 2, Pos 11-14",
          "Page 2, Pos 11-14",
          "Page 2, Pos 11-14",
          "Page 2, Pos 11-14",
          "Page 2, Pos 11-14",
          "Page 2, Pos 11-14",
          "Page 2, Pos 11-14",
          "Page 2, Pos 11-14",
          "Page 2, Pos 11-14",
          "Page 2, Pos 11-14",
          "Page 2, Pos 11-14",
          "Page 2, Pos 11-14",
          "Page 2, Pos 11-14",
          "Page 2, Pos 11-14",
          "Page 2, Pos 11-14",
          "Page 2, Pos 11-14",
          "Page 2, Pos 11-14",
          "Page 2, Pos 11-14",
          "Page 2, Pos 11-14",
          "Page 2, Pos 11-14",
          "Page 2, Pos 11-14",
          "Page 2, Pos 11-14",
          "Page 2, Pos 11-14",
          "Page 2, Pos 11-14",
          "Page 2, Pos 11-14",
          "Page 2, Pos 11-14",
          "Page 2, Pos 11-14",
          "Page 2, Pos 11-14",
          "Page 2, Pos 11-14",
          "Page 2, Pos 11-14",
          "Page 2, Pos 11-14",
          "Page 2, Pos 11-14",
          "Page 2, Pos 11-14"
         ],
         "legendgroup": "Page 2, Pos 11-14",
         "line": {
          "color": "#ab63fa",
          "shape": "spline"
         },
         "mode": "lines",
         "name": "Page 2, Pos 11-14",
         "orientation": "v",
         "showlegend": true,
         "stackgroup": "1",
         "type": "scatter",
         "x": [
          "2020-07-15",
          "2020-07-16",
          "2020-07-17",
          "2020-07-18",
          "2020-07-19",
          "2020-07-20",
          "2020-07-21",
          "2020-07-22",
          "2020-07-23",
          "2020-07-24",
          "2020-07-25",
          "2020-07-26",
          "2020-07-27",
          "2020-07-28",
          "2020-07-29",
          "2020-07-30",
          "2020-07-31",
          "2020-08-01",
          "2020-08-02",
          "2020-08-03",
          "2020-08-04",
          "2020-08-05",
          "2020-08-06",
          "2020-08-07",
          "2020-08-08",
          "2020-08-09",
          "2020-08-10",
          "2020-08-11",
          "2020-08-12",
          "2020-08-13",
          "2020-08-14",
          "2020-08-15",
          "2020-08-16",
          "2020-08-17"
         ],
         "xaxis": "x",
         "y": [
          306,
          361,
          327,
          265,
          287,
          401,
          384,
          406,
          392,
          330,
          307,
          303,
          378,
          365,
          353,
          378,
          327,
          306,
          325,
          377,
          433,
          456,
          418,
          426,
          362,
          371,
          441,
          472,
          480,
          463,
          408,
          329,
          406,
          503
         ],
         "yaxis": "y"
        },
        {
         "hovertemplate": "<b>%{hovertext}</b><br><br>ranking=Page 2, Pos 15+<br>date=%{x}<br>query=%{y}<extra></extra>",
         "hovertext": [
          "Page 2, Pos 15+",
          "Page 2, Pos 15+",
          "Page 2, Pos 15+",
          "Page 2, Pos 15+",
          "Page 2, Pos 15+",
          "Page 2, Pos 15+",
          "Page 2, Pos 15+",
          "Page 2, Pos 15+",
          "Page 2, Pos 15+",
          "Page 2, Pos 15+",
          "Page 2, Pos 15+",
          "Page 2, Pos 15+",
          "Page 2, Pos 15+",
          "Page 2, Pos 15+",
          "Page 2, Pos 15+",
          "Page 2, Pos 15+",
          "Page 2, Pos 15+",
          "Page 2, Pos 15+",
          "Page 2, Pos 15+",
          "Page 2, Pos 15+",
          "Page 2, Pos 15+",
          "Page 2, Pos 15+",
          "Page 2, Pos 15+",
          "Page 2, Pos 15+",
          "Page 2, Pos 15+",
          "Page 2, Pos 15+",
          "Page 2, Pos 15+",
          "Page 2, Pos 15+",
          "Page 2, Pos 15+",
          "Page 2, Pos 15+",
          "Page 2, Pos 15+",
          "Page 2, Pos 15+",
          "Page 2, Pos 15+",
          "Page 2, Pos 15+"
         ],
         "legendgroup": "Page 2, Pos 15+",
         "line": {
          "color": "#FFA15A",
          "shape": "spline"
         },
         "mode": "lines",
         "name": "Page 2, Pos 15+",
         "orientation": "v",
         "showlegend": true,
         "stackgroup": "1",
         "type": "scatter",
         "x": [
          "2020-07-15",
          "2020-07-16",
          "2020-07-17",
          "2020-07-18",
          "2020-07-19",
          "2020-07-20",
          "2020-07-21",
          "2020-07-22",
          "2020-07-23",
          "2020-07-24",
          "2020-07-25",
          "2020-07-26",
          "2020-07-27",
          "2020-07-28",
          "2020-07-29",
          "2020-07-30",
          "2020-07-31",
          "2020-08-01",
          "2020-08-02",
          "2020-08-03",
          "2020-08-04",
          "2020-08-05",
          "2020-08-06",
          "2020-08-07",
          "2020-08-08",
          "2020-08-09",
          "2020-08-10",
          "2020-08-11",
          "2020-08-12",
          "2020-08-13",
          "2020-08-14",
          "2020-08-15",
          "2020-08-16",
          "2020-08-17"
         ],
         "xaxis": "x",
         "y": [
          2842,
          2697,
          2620,
          2554,
          2629,
          2802,
          2809,
          2940,
          3025,
          2724,
          2754,
          2551,
          2899,
          2824,
          2857,
          2823,
          2746,
          2655,
          2822,
          3345,
          3494,
          3604,
          3316,
          3660,
          3233,
          3499,
          3803,
          3613,
          3423,
          3472,
          3367,
          3671,
          3465,
          3710
         ],
         "yaxis": "y"
        }
       ],
       "layout": {
        "legend": {
         "title": {
          "text": "ranking"
         },
         "tracegroupgap": 0
        },
        "margin": {
         "t": 60
        },
        "template": {
         "data": {
          "bar": [
           {
            "error_x": {
             "color": "#2a3f5f"
            },
            "error_y": {
             "color": "#2a3f5f"
            },
            "marker": {
             "line": {
              "color": "#E5ECF6",
              "width": 0.5
             }
            },
            "type": "bar"
           }
          ],
          "barpolar": [
           {
            "marker": {
             "line": {
              "color": "#E5ECF6",
              "width": 0.5
             }
            },
            "type": "barpolar"
           }
          ],
          "carpet": [
           {
            "aaxis": {
             "endlinecolor": "#2a3f5f",
             "gridcolor": "white",
             "linecolor": "white",
             "minorgridcolor": "white",
             "startlinecolor": "#2a3f5f"
            },
            "baxis": {
             "endlinecolor": "#2a3f5f",
             "gridcolor": "white",
             "linecolor": "white",
             "minorgridcolor": "white",
             "startlinecolor": "#2a3f5f"
            },
            "type": "carpet"
           }
          ],
          "choropleth": [
           {
            "colorbar": {
             "outlinewidth": 0,
             "ticks": ""
            },
            "type": "choropleth"
           }
          ],
          "contour": [
           {
            "colorbar": {
             "outlinewidth": 0,
             "ticks": ""
            },
            "colorscale": [
             [
              0,
              "#0d0887"
             ],
             [
              0.1111111111111111,
              "#46039f"
             ],
             [
              0.2222222222222222,
              "#7201a8"
             ],
             [
              0.3333333333333333,
              "#9c179e"
             ],
             [
              0.4444444444444444,
              "#bd3786"
             ],
             [
              0.5555555555555556,
              "#d8576b"
             ],
             [
              0.6666666666666666,
              "#ed7953"
             ],
             [
              0.7777777777777778,
              "#fb9f3a"
             ],
             [
              0.8888888888888888,
              "#fdca26"
             ],
             [
              1,
              "#f0f921"
             ]
            ],
            "type": "contour"
           }
          ],
          "contourcarpet": [
           {
            "colorbar": {
             "outlinewidth": 0,
             "ticks": ""
            },
            "type": "contourcarpet"
           }
          ],
          "heatmap": [
           {
            "colorbar": {
             "outlinewidth": 0,
             "ticks": ""
            },
            "colorscale": [
             [
              0,
              "#0d0887"
             ],
             [
              0.1111111111111111,
              "#46039f"
             ],
             [
              0.2222222222222222,
              "#7201a8"
             ],
             [
              0.3333333333333333,
              "#9c179e"
             ],
             [
              0.4444444444444444,
              "#bd3786"
             ],
             [
              0.5555555555555556,
              "#d8576b"
             ],
             [
              0.6666666666666666,
              "#ed7953"
             ],
             [
              0.7777777777777778,
              "#fb9f3a"
             ],
             [
              0.8888888888888888,
              "#fdca26"
             ],
             [
              1,
              "#f0f921"
             ]
            ],
            "type": "heatmap"
           }
          ],
          "heatmapgl": [
           {
            "colorbar": {
             "outlinewidth": 0,
             "ticks": ""
            },
            "colorscale": [
             [
              0,
              "#0d0887"
             ],
             [
              0.1111111111111111,
              "#46039f"
             ],
             [
              0.2222222222222222,
              "#7201a8"
             ],
             [
              0.3333333333333333,
              "#9c179e"
             ],
             [
              0.4444444444444444,
              "#bd3786"
             ],
             [
              0.5555555555555556,
              "#d8576b"
             ],
             [
              0.6666666666666666,
              "#ed7953"
             ],
             [
              0.7777777777777778,
              "#fb9f3a"
             ],
             [
              0.8888888888888888,
              "#fdca26"
             ],
             [
              1,
              "#f0f921"
             ]
            ],
            "type": "heatmapgl"
           }
          ],
          "histogram": [
           {
            "marker": {
             "colorbar": {
              "outlinewidth": 0,
              "ticks": ""
             }
            },
            "type": "histogram"
           }
          ],
          "histogram2d": [
           {
            "colorbar": {
             "outlinewidth": 0,
             "ticks": ""
            },
            "colorscale": [
             [
              0,
              "#0d0887"
             ],
             [
              0.1111111111111111,
              "#46039f"
             ],
             [
              0.2222222222222222,
              "#7201a8"
             ],
             [
              0.3333333333333333,
              "#9c179e"
             ],
             [
              0.4444444444444444,
              "#bd3786"
             ],
             [
              0.5555555555555556,
              "#d8576b"
             ],
             [
              0.6666666666666666,
              "#ed7953"
             ],
             [
              0.7777777777777778,
              "#fb9f3a"
             ],
             [
              0.8888888888888888,
              "#fdca26"
             ],
             [
              1,
              "#f0f921"
             ]
            ],
            "type": "histogram2d"
           }
          ],
          "histogram2dcontour": [
           {
            "colorbar": {
             "outlinewidth": 0,
             "ticks": ""
            },
            "colorscale": [
             [
              0,
              "#0d0887"
             ],
             [
              0.1111111111111111,
              "#46039f"
             ],
             [
              0.2222222222222222,
              "#7201a8"
             ],
             [
              0.3333333333333333,
              "#9c179e"
             ],
             [
              0.4444444444444444,
              "#bd3786"
             ],
             [
              0.5555555555555556,
              "#d8576b"
             ],
             [
              0.6666666666666666,
              "#ed7953"
             ],
             [
              0.7777777777777778,
              "#fb9f3a"
             ],
             [
              0.8888888888888888,
              "#fdca26"
             ],
             [
              1,
              "#f0f921"
             ]
            ],
            "type": "histogram2dcontour"
           }
          ],
          "mesh3d": [
           {
            "colorbar": {
             "outlinewidth": 0,
             "ticks": ""
            },
            "type": "mesh3d"
           }
          ],
          "parcoords": [
           {
            "line": {
             "colorbar": {
              "outlinewidth": 0,
              "ticks": ""
             }
            },
            "type": "parcoords"
           }
          ],
          "pie": [
           {
            "automargin": true,
            "type": "pie"
           }
          ],
          "scatter": [
           {
            "marker": {
             "colorbar": {
              "outlinewidth": 0,
              "ticks": ""
             }
            },
            "type": "scatter"
           }
          ],
          "scatter3d": [
           {
            "line": {
             "colorbar": {
              "outlinewidth": 0,
              "ticks": ""
             }
            },
            "marker": {
             "colorbar": {
              "outlinewidth": 0,
              "ticks": ""
             }
            },
            "type": "scatter3d"
           }
          ],
          "scattercarpet": [
           {
            "marker": {
             "colorbar": {
              "outlinewidth": 0,
              "ticks": ""
             }
            },
            "type": "scattercarpet"
           }
          ],
          "scattergeo": [
           {
            "marker": {
             "colorbar": {
              "outlinewidth": 0,
              "ticks": ""
             }
            },
            "type": "scattergeo"
           }
          ],
          "scattergl": [
           {
            "marker": {
             "colorbar": {
              "outlinewidth": 0,
              "ticks": ""
             }
            },
            "type": "scattergl"
           }
          ],
          "scattermapbox": [
           {
            "marker": {
             "colorbar": {
              "outlinewidth": 0,
              "ticks": ""
             }
            },
            "type": "scattermapbox"
           }
          ],
          "scatterpolar": [
           {
            "marker": {
             "colorbar": {
              "outlinewidth": 0,
              "ticks": ""
             }
            },
            "type": "scatterpolar"
           }
          ],
          "scatterpolargl": [
           {
            "marker": {
             "colorbar": {
              "outlinewidth": 0,
              "ticks": ""
             }
            },
            "type": "scatterpolargl"
           }
          ],
          "scatterternary": [
           {
            "marker": {
             "colorbar": {
              "outlinewidth": 0,
              "ticks": ""
             }
            },
            "type": "scatterternary"
           }
          ],
          "surface": [
           {
            "colorbar": {
             "outlinewidth": 0,
             "ticks": ""
            },
            "colorscale": [
             [
              0,
              "#0d0887"
             ],
             [
              0.1111111111111111,
              "#46039f"
             ],
             [
              0.2222222222222222,
              "#7201a8"
             ],
             [
              0.3333333333333333,
              "#9c179e"
             ],
             [
              0.4444444444444444,
              "#bd3786"
             ],
             [
              0.5555555555555556,
              "#d8576b"
             ],
             [
              0.6666666666666666,
              "#ed7953"
             ],
             [
              0.7777777777777778,
              "#fb9f3a"
             ],
             [
              0.8888888888888888,
              "#fdca26"
             ],
             [
              1,
              "#f0f921"
             ]
            ],
            "type": "surface"
           }
          ],
          "table": [
           {
            "cells": {
             "fill": {
              "color": "#EBF0F8"
             },
             "line": {
              "color": "white"
             }
            },
            "header": {
             "fill": {
              "color": "#C8D4E3"
             },
             "line": {
              "color": "white"
             }
            },
            "type": "table"
           }
          ]
         },
         "layout": {
          "annotationdefaults": {
           "arrowcolor": "#2a3f5f",
           "arrowhead": 0,
           "arrowwidth": 1
          },
          "coloraxis": {
           "colorbar": {
            "outlinewidth": 0,
            "ticks": ""
           }
          },
          "colorscale": {
           "diverging": [
            [
             0,
             "#8e0152"
            ],
            [
             0.1,
             "#c51b7d"
            ],
            [
             0.2,
             "#de77ae"
            ],
            [
             0.3,
             "#f1b6da"
            ],
            [
             0.4,
             "#fde0ef"
            ],
            [
             0.5,
             "#f7f7f7"
            ],
            [
             0.6,
             "#e6f5d0"
            ],
            [
             0.7,
             "#b8e186"
            ],
            [
             0.8,
             "#7fbc41"
            ],
            [
             0.9,
             "#4d9221"
            ],
            [
             1,
             "#276419"
            ]
           ],
           "sequential": [
            [
             0,
             "#0d0887"
            ],
            [
             0.1111111111111111,
             "#46039f"
            ],
            [
             0.2222222222222222,
             "#7201a8"
            ],
            [
             0.3333333333333333,
             "#9c179e"
            ],
            [
             0.4444444444444444,
             "#bd3786"
            ],
            [
             0.5555555555555556,
             "#d8576b"
            ],
            [
             0.6666666666666666,
             "#ed7953"
            ],
            [
             0.7777777777777778,
             "#fb9f3a"
            ],
            [
             0.8888888888888888,
             "#fdca26"
            ],
            [
             1,
             "#f0f921"
            ]
           ],
           "sequentialminus": [
            [
             0,
             "#0d0887"
            ],
            [
             0.1111111111111111,
             "#46039f"
            ],
            [
             0.2222222222222222,
             "#7201a8"
            ],
            [
             0.3333333333333333,
             "#9c179e"
            ],
            [
             0.4444444444444444,
             "#bd3786"
            ],
            [
             0.5555555555555556,
             "#d8576b"
            ],
            [
             0.6666666666666666,
             "#ed7953"
            ],
            [
             0.7777777777777778,
             "#fb9f3a"
            ],
            [
             0.8888888888888888,
             "#fdca26"
            ],
            [
             1,
             "#f0f921"
            ]
           ]
          },
          "colorway": [
           "#636efa",
           "#EF553B",
           "#00cc96",
           "#ab63fa",
           "#FFA15A",
           "#19d3f3",
           "#FF6692",
           "#B6E880",
           "#FF97FF",
           "#FECB52"
          ],
          "font": {
           "color": "#2a3f5f"
          },
          "geo": {
           "bgcolor": "white",
           "lakecolor": "white",
           "landcolor": "#E5ECF6",
           "showlakes": true,
           "showland": true,
           "subunitcolor": "white"
          },
          "hoverlabel": {
           "align": "left"
          },
          "hovermode": "closest",
          "mapbox": {
           "style": "light"
          },
          "paper_bgcolor": "white",
          "plot_bgcolor": "#E5ECF6",
          "polar": {
           "angularaxis": {
            "gridcolor": "white",
            "linecolor": "white",
            "ticks": ""
           },
           "bgcolor": "#E5ECF6",
           "radialaxis": {
            "gridcolor": "white",
            "linecolor": "white",
            "ticks": ""
           }
          },
          "scene": {
           "xaxis": {
            "backgroundcolor": "#E5ECF6",
            "gridcolor": "white",
            "gridwidth": 2,
            "linecolor": "white",
            "showbackground": true,
            "ticks": "",
            "zerolinecolor": "white"
           },
           "yaxis": {
            "backgroundcolor": "#E5ECF6",
            "gridcolor": "white",
            "gridwidth": 2,
            "linecolor": "white",
            "showbackground": true,
            "ticks": "",
            "zerolinecolor": "white"
           },
           "zaxis": {
            "backgroundcolor": "#E5ECF6",
            "gridcolor": "white",
            "gridwidth": 2,
            "linecolor": "white",
            "showbackground": true,
            "ticks": "",
            "zerolinecolor": "white"
           }
          },
          "shapedefaults": {
           "line": {
            "color": "#2a3f5f"
           }
          },
          "ternary": {
           "aaxis": {
            "gridcolor": "white",
            "linecolor": "white",
            "ticks": ""
           },
           "baxis": {
            "gridcolor": "white",
            "linecolor": "white",
            "ticks": ""
           },
           "bgcolor": "#E5ECF6",
           "caxis": {
            "gridcolor": "white",
            "linecolor": "white",
            "ticks": ""
           }
          },
          "title": {
           "x": 0.05
          },
          "xaxis": {
           "automargin": true,
           "gridcolor": "white",
           "linecolor": "white",
           "ticks": "",
           "title": {
            "standoff": 15
           },
           "zerolinecolor": "white",
           "zerolinewidth": 2
          },
          "yaxis": {
           "automargin": true,
           "gridcolor": "white",
           "linecolor": "white",
           "ticks": "",
           "title": {
            "standoff": 15
           },
           "zerolinecolor": "white",
           "zerolinewidth": 2
          }
         }
        },
        "xaxis": {
         "anchor": "y",
         "domain": [
          0,
          1
         ],
         "title": {
          "text": "date"
         }
        },
        "yaxis": {
         "anchor": "x",
         "domain": [
          0,
          1
         ],
         "title": {
          "text": "query"
         }
        }
       }
      }
     },
     "metadata": {}
    }
   ],
   "source": [
    "fig = px.area(plot_df, x='date', y='query', color='ranking', line_group='ranking', hover_name='ranking',\n",
    "        line_shape='spline')\n",
    "fig.show()"
   ]
  },
  {
   "cell_type": "code",
   "execution_count": 72,
   "metadata": {
    "tags": []
   },
   "outputs": [
    {
     "output_type": "error",
     "ename": "SpecificationError",
     "evalue": "nested renamer is not supported",
     "traceback": [
      "\u001b[0;31m---------------------------------------------------------------------------\u001b[0m",
      "\u001b[0;31mSpecificationError\u001b[0m                        Traceback (most recent call last)",
      "\u001b[0;32m<ipython-input-72-84699f175365>\u001b[0m in \u001b[0;36m<module>\u001b[0;34m\u001b[0m\n\u001b[0;32m----> 1\u001b[0;31m \u001b[0mplot_df\u001b[0m \u001b[0;34m=\u001b[0m \u001b[0mdf\u001b[0m\u001b[0;34m.\u001b[0m\u001b[0mgroupby\u001b[0m\u001b[0;34m(\u001b[0m\u001b[0;34m[\u001b[0m\u001b[0;34m'date'\u001b[0m\u001b[0;34m]\u001b[0m\u001b[0;34m)\u001b[0m\u001b[0;34m.\u001b[0m\u001b[0magg\u001b[0m\u001b[0;34m(\u001b[0m\u001b[0;34m{\u001b[0m\u001b[0;34m'query'\u001b[0m\u001b[0;34m:\u001b[0m\u001b[0;34m'count'\u001b[0m\u001b[0;34m,\u001b[0m\u001b[0;34m'clicks'\u001b[0m\u001b[0;34m:\u001b[0m\u001b[0;34m'sum'\u001b[0m\u001b[0;34m}\u001b[0m\u001b[0;34m)\u001b[0m\u001b[0;34m.\u001b[0m\u001b[0mreset_index\u001b[0m\u001b[0;34m(\u001b[0m\u001b[0;34m)\u001b[0m\u001b[0;34m\u001b[0m\u001b[0;34m\u001b[0m\u001b[0m\n\u001b[0m\u001b[1;32m      2\u001b[0m \u001b[0;34m\u001b[0m\u001b[0m\n\u001b[1;32m      3\u001b[0m \u001b[0mfig\u001b[0m \u001b[0;34m=\u001b[0m \u001b[0mpx\u001b[0m\u001b[0;34m.\u001b[0m\u001b[0mline\u001b[0m\u001b[0;34m(\u001b[0m\u001b[0mplot_df\u001b[0m\u001b[0;34m,\u001b[0m \u001b[0mx\u001b[0m\u001b[0;34m=\u001b[0m\u001b[0;34m'date'\u001b[0m\u001b[0;34m,\u001b[0m \u001b[0my\u001b[0m\u001b[0;34m=\u001b[0m\u001b[0;34m[\u001b[0m\u001b[0;34m'query'\u001b[0m\u001b[0;34m,\u001b[0m\u001b[0;34m'clicks'\u001b[0m\u001b[0;34m]\u001b[0m\u001b[0;34m)\u001b[0m\u001b[0;34m\u001b[0m\u001b[0;34m\u001b[0m\u001b[0m\n\u001b[1;32m      4\u001b[0m \u001b[0mfig\u001b[0m\u001b[0;34m.\u001b[0m\u001b[0mshow\u001b[0m\u001b[0;34m(\u001b[0m\u001b[0;34m)\u001b[0m\u001b[0;34m\u001b[0m\u001b[0;34m\u001b[0m\u001b[0m\n",
      "\u001b[0;32m~/opt/anaconda3/lib/python3.7/site-packages/pandas/core/groupby/generic.py\u001b[0m in \u001b[0;36maggregate\u001b[0;34m(self, func, *args, **kwargs)\u001b[0m\n\u001b[1;32m    938\u001b[0m         \u001b[0mfunc\u001b[0m \u001b[0;34m=\u001b[0m \u001b[0m_maybe_mangle_lambdas\u001b[0m\u001b[0;34m(\u001b[0m\u001b[0mfunc\u001b[0m\u001b[0;34m)\u001b[0m\u001b[0;34m\u001b[0m\u001b[0;34m\u001b[0m\u001b[0m\n\u001b[1;32m    939\u001b[0m \u001b[0;34m\u001b[0m\u001b[0m\n\u001b[0;32m--> 940\u001b[0;31m         \u001b[0mresult\u001b[0m\u001b[0;34m,\u001b[0m \u001b[0mhow\u001b[0m \u001b[0;34m=\u001b[0m \u001b[0mself\u001b[0m\u001b[0;34m.\u001b[0m\u001b[0m_aggregate\u001b[0m\u001b[0;34m(\u001b[0m\u001b[0mfunc\u001b[0m\u001b[0;34m,\u001b[0m \u001b[0;34m*\u001b[0m\u001b[0margs\u001b[0m\u001b[0;34m,\u001b[0m \u001b[0;34m**\u001b[0m\u001b[0mkwargs\u001b[0m\u001b[0;34m)\u001b[0m\u001b[0;34m\u001b[0m\u001b[0;34m\u001b[0m\u001b[0m\n\u001b[0m\u001b[1;32m    941\u001b[0m         \u001b[0;32mif\u001b[0m \u001b[0mhow\u001b[0m \u001b[0;32mis\u001b[0m \u001b[0;32mNone\u001b[0m\u001b[0;34m:\u001b[0m\u001b[0;34m\u001b[0m\u001b[0;34m\u001b[0m\u001b[0m\n\u001b[1;32m    942\u001b[0m             \u001b[0;32mreturn\u001b[0m \u001b[0mresult\u001b[0m\u001b[0;34m\u001b[0m\u001b[0;34m\u001b[0m\u001b[0m\n",
      "\u001b[0;32m~/opt/anaconda3/lib/python3.7/site-packages/pandas/core/base.py\u001b[0m in \u001b[0;36m_aggregate\u001b[0;34m(self, arg, *args, **kwargs)\u001b[0m\n\u001b[1;32m    364\u001b[0m                     \u001b[0mobj\u001b[0m\u001b[0;34m.\u001b[0m\u001b[0mcolumns\u001b[0m\u001b[0;34m.\u001b[0m\u001b[0mintersection\u001b[0m\u001b[0;34m(\u001b[0m\u001b[0mkeys\u001b[0m\u001b[0;34m)\u001b[0m\u001b[0;34m\u001b[0m\u001b[0;34m\u001b[0m\u001b[0m\n\u001b[1;32m    365\u001b[0m                 ) != len(keys):\n\u001b[0;32m--> 366\u001b[0;31m                     \u001b[0;32mraise\u001b[0m \u001b[0mSpecificationError\u001b[0m\u001b[0;34m(\u001b[0m\u001b[0;34m\"nested renamer is not supported\"\u001b[0m\u001b[0;34m)\u001b[0m\u001b[0;34m\u001b[0m\u001b[0;34m\u001b[0m\u001b[0m\n\u001b[0m\u001b[1;32m    367\u001b[0m \u001b[0;34m\u001b[0m\u001b[0m\n\u001b[1;32m    368\u001b[0m             \u001b[0;32mfrom\u001b[0m \u001b[0mpandas\u001b[0m\u001b[0;34m.\u001b[0m\u001b[0mcore\u001b[0m\u001b[0;34m.\u001b[0m\u001b[0mreshape\u001b[0m\u001b[0;34m.\u001b[0m\u001b[0mconcat\u001b[0m \u001b[0;32mimport\u001b[0m \u001b[0mconcat\u001b[0m\u001b[0;34m\u001b[0m\u001b[0;34m\u001b[0m\u001b[0m\n",
      "\u001b[0;31mSpecificationError\u001b[0m: nested renamer is not supported"
     ]
    }
   ],
   "source": [
    "plot_df = df.groupby(['date']).agg({'query':'count','clicks':'sum'}).reset_index()\n",
    "\n",
    "fig = px.line(plot_df, x='date', y=['query','clicks'])\n",
    "fig.show()"
   ]
  },
  {
   "cell_type": "code",
   "execution_count": null,
   "metadata": {},
   "outputs": [],
   "source": []
  }
 ]
}