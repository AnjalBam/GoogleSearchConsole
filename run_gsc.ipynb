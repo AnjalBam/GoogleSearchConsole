{
 "metadata": {
  "language_info": {
   "codemirror_mode": {
    "name": "ipython",
    "version": 3
   },
   "file_extension": ".py",
   "mimetype": "text/x-python",
   "name": "python",
   "nbconvert_exporter": "python",
   "pygments_lexer": "ipython3",
   "version": 3
  },
  "orig_nbformat": 2,
  "kernelspec": {
   "name": "python_defaultSpec_1597208228875",
   "display_name": "Python 3.7.6 64-bit ('base': conda)"
  }
 },
 "nbformat": 4,
 "nbformat_minor": 2,
 "cells": [
  {
   "cell_type": "markdown",
   "metadata": {},
   "source": [
    "# Extract GSC Data\n",
    "author:    Jean-Christophe Chouinard\n",
    "\n",
    "Role:      Sr. SEO Specialist at SEEK.com.au\n",
    "\n",
    "Website:   jcchouinard.com\n",
    "\n",
    "LinkedIn:  linkedin.com/in/jeanchristophechouinard/ \n",
    "\n",
    "Twitter:   twitter.com/@ChouinardJC\n",
    "\n",
    "## Get Started\n",
    "### Clone Github Repository\n",
    "`$ git clone https://github.com/jcchouinard/GoogleSearchConsole-Tutorial.git`\n",
    "\n",
    "### Install Requirements\n",
    "`pip install -r requirements.txt`\n",
    "\n",
    "### Learn Python for SEO\n",
    "[jcchouinard.com/python-for-seo](https://www.jcchouinard.com/python-for-seo)\n",
    "\n",
    "### Get API Keys\n",
    "[jcchouinard.com/how-to-get-google-search-console-api-keys/](https://www.jcchouinard.com/how-to-get-google-search-console-api-keys/)\n",
    "\n",
    "### How to format your request\n",
    "[jcchouinard.com/what-is-google-search-console-api/](https://www.jcchouinard.com/what-is-google-search-console-api/)"
   ]
  },
  {
   "cell_type": "code",
   "execution_count": 2,
   "metadata": {
    "tags": []
   },
   "outputs": [],
   "source": [
    "site = 'https://www.jcchouinard.com'\n",
    "creds = 'client_secrets.json'\n",
    "output = 'gsc_data.csv'\n",
    "start_date = '2020-07-01' \n",
    "end_date = '2020-07-15' # Default 3 days before today"
   ]
  },
  {
   "cell_type": "markdown",
   "metadata": {},
   "source": [
    "## Authorize Your Credentials"
   ]
  },
  {
   "cell_type": "code",
   "execution_count": 3,
   "metadata": {
    "tags": []
   },
   "outputs": [
    {
     "output_type": "stream",
     "name": "stdout",
     "text": "Authorizing Creds\nAuth Successful\n"
    }
   ],
   "source": [
    "from oauth import authorize_creds\n",
    "\n",
    "webmasters_service = authorize_creds(creds) "
   ]
  },
  {
   "cell_type": "markdown",
   "metadata": {},
   "source": [
    "## Extract GSC Data by URL"
   ]
  },
  {
   "cell_type": "code",
   "execution_count": 3,
   "metadata": {},
   "outputs": [
    {
     "output_type": "execute_result",
     "data": {
      "text/plain": "                                                page  clicks  impressions\n0  https://www.jcchouinard.com/chrome-devtools-co...       4         1520\n1  https://www.jcchouinard.com/learn-selenium-pyt...      79         7601",
      "text/html": "<div>\n<style scoped>\n    .dataframe tbody tr th:only-of-type {\n        vertical-align: middle;\n    }\n\n    .dataframe tbody tr th {\n        vertical-align: top;\n    }\n\n    .dataframe thead th {\n        text-align: right;\n    }\n</style>\n<table border=\"1\" class=\"dataframe\">\n  <thead>\n    <tr style=\"text-align: right;\">\n      <th></th>\n      <th>page</th>\n      <th>clicks</th>\n      <th>impressions</th>\n    </tr>\n  </thead>\n  <tbody>\n    <tr>\n      <th>0</th>\n      <td>https://www.jcchouinard.com/chrome-devtools-co...</td>\n      <td>4</td>\n      <td>1520</td>\n    </tr>\n    <tr>\n      <th>1</th>\n      <td>https://www.jcchouinard.com/learn-selenium-pyt...</td>\n      <td>79</td>\n      <td>7601</td>\n    </tr>\n  </tbody>\n</table>\n</div>"
     },
     "metadata": {},
     "execution_count": 3
    }
   ],
   "source": [
    "from gsc_by_url import gsc_by_url\n",
    "\n",
    "list_of_urls = [\n",
    "    '/chrome-devtools-commands-for-seo/',\n",
    "    '/learn-selenium-python-seo-automation/'\n",
    "    ]\n",
    "\n",
    "list_of_urls = [site + x for x in list_of_urls]\n",
    "args = webmasters_service,site,list_of_urls,creds,start_date,end_date\n",
    "\n",
    "gsc_by_url(*args)"
   ]
  },
  {
   "cell_type": "markdown",
   "metadata": {},
   "source": [
    "## Extract Filtered Data from Google Search Console\n",
    "\n",
    "Possible combinations:\n",
    "\n",
    "Dimension: query, page.\n",
    "\n",
    "Operator: contains, equals, notEquals, notContains\n"
   ]
  },
  {
   "cell_type": "code",
   "execution_count": 4,
   "metadata": {
    "tags": [
     "outputPrepend"
    ]
   },
   "outputs": [
    {
     "output_type": "stream",
     "name": "stdout",
     "text": "using-python/', 'python report'], 'clicks': 0, 'impressions': 1, 'ctr': 0, 'position': 31}, {'keys': ['2020-07-01', 'https://www.jcchouinard.com/google-analytics-api-using-python/', 'python reporting'], 'clicks': 0, 'impressions': 2, 'ctr': 0, 'position': 27}, {'keys': ['2020-07-01', 'https://www.jcchouinard.com/google-analytics-api-using-python/', 'reporting with python'], 'clicks': 0, 'impressions': 1, 'ctr': 0, 'position': 25}, {'keys': ['2020-07-01', 'https://www.jcchouinard.com/google-api/', 'google oauth python'], 'clicks': 0, 'impressions': 1, 'ctr': 0, 'position': 36}, {'keys': ['2020-07-01', 'https://www.jcchouinard.com/how-to-connect-to-google-search-console-api-using-python/', 'api search python'], 'clicks': 0, 'impressions': 2, 'ctr': 0, 'position': 37.5}, {'keys': ['2020-07-01', 'https://www.jcchouinard.com/how-to-connect-to-google-search-console-api-using-python/', 'google or tools python'], 'clicks': 0, 'impressions': 2, 'ctr': 0, 'position': 36}, {'keys': ['2020-07-01', 'https://www.jcchouinard.com/how-to-connect-to-google-search-console-api-using-python/', 'google python api'], 'clicks': 0, 'impressions': 1, 'ctr': 0, 'position': 30}, {'keys': ['2020-07-01', 'https://www.jcchouinard.com/how-to-connect-to-google-search-console-api-using-python/', 'google search api python'], 'clicks': 0, 'impressions': 3, 'ctr': 0, 'position': 13.333333333333334}, {'keys': ['2020-07-01', 'https://www.jcchouinard.com/how-to-connect-to-google-search-console-api-using-python/', 'google search python'], 'clicks': 0, 'impressions': 2, 'ctr': 0, 'position': 18}, {'keys': ['2020-07-01', 'https://www.jcchouinard.com/how-to-connect-to-google-search-console-api-using-python/', 'how to use api in python'], 'clicks': 0, 'impressions': 1, 'ctr': 0, 'position': 24}, {'keys': ['2020-07-01', 'https://www.jcchouinard.com/how-to-connect-to-google-search-console-api-using-python/', 'python google search'], 'clicks': 0, 'impressions': 7, 'ctr': 0, 'position': 20.857142857142858}, {'keys': ['2020-07-01', 'https://www.jcchouinard.com/how-to-connect-to-google-search-console-api-using-python/', 'python googlesearch'], 'clicks': 0, 'impressions': 4, 'ctr': 0, 'position': 26.75}, {'keys': ['2020-07-01', 'https://www.jcchouinard.com/how-to-get-google-search-console-api-keys/', 'python generate api key'], 'clicks': 0, 'impressions': 1, 'ctr': 0, 'position': 100}, {'keys': ['2020-07-01', 'https://www.jcchouinard.com/how-to-scrape-google-using-xpath/', 'extract urls from google search results python'], 'clicks': 0, 'impressions': 1, 'ctr': 0, 'position': 57}, {'keys': ['2020-07-01', 'https://www.jcchouinard.com/how-to-scrape-google-using-xpath/', 'python scrape google search results'], 'clicks': 0, 'impressions': 1, 'ctr': 0, 'position': 36}, {'keys': ['2020-07-01', 'https://www.jcchouinard.com/how-to-use-jupyter-notebook/', 'how to run a python script from jupyter notebook'], 'clicks': 0, 'impressions': 1, 'ctr': 0, 'position': 26}, {'keys': ['2020-07-01', 'https://www.jcchouinard.com/how-to-use-jupyter-notebook/', 'how to run python in jupyter notebook'], 'clicks': 0, 'impressions': 1, 'ctr': 0, 'position': 40}, {'keys': ['2020-07-01', 'https://www.jcchouinard.com/how-to-use-jupyter-notebook/', 'ipython ide'], 'clicks': 0, 'impressions': 1, 'ctr': 0, 'position': 48}, {'keys': ['2020-07-01', 'https://www.jcchouinard.com/how-to-use-jupyter-notebook/', 'ipython notebook ide'], 'clicks': 0, 'impressions': 1, 'ctr': 0, 'position': 47}, {'keys': ['2020-07-01', 'https://www.jcchouinard.com/how-to-use-jupyter-notebook/', 'jupyter run python script'], 'clicks': 0, 'impressions': 2, 'ctr': 0, 'position': 28.5}, {'keys': ['2020-07-01', 'https://www.jcchouinard.com/how-to-use-jupyter-notebook/', 'python ide jupyter notebook'], 'clicks': 0, 'impressions': 1, 'ctr': 0, 'position': 52}, {'keys': ['2020-07-01', 'https://www.jcchouinard.com/how-to-use-jupyter-notebook/', 'python jupyter tutorial'], 'clicks': 0, 'impressions': 2, 'ctr': 0, 'position': 76}, {'keys': ['2020-07-01', 'https://www.jcchouinard.com/how-to-use-jupyter-notebook/', 'run a python script in jupyter'], 'clicks': 0, 'impressions': 1, 'ctr': 0, 'position': 30}, {'keys': ['2020-07-01', 'https://www.jcchouinard.com/how-to-use-jupyter-notebook/', 'seo python'], 'clicks': 0, 'impressions': 1, 'ctr': 0, 'position': 1}, {'keys': ['2020-07-01', 'https://www.jcchouinard.com/how-to-use-reddit-api-with-python/', 'api reddit python'], 'clicks': 0, 'impressions': 1, 'ctr': 0, 'position': 7}, {'keys': ['2020-07-01', 'https://www.jcchouinard.com/how-to-use-reddit-api-with-python/', 'comment python'], 'clicks': 0, 'impressions': 1, 'ctr': 0, 'position': 94}, {'keys': ['2020-07-01', 'https://www.jcchouinard.com/how-to-use-reddit-api-with-python/', 'comments python'], 'clicks': 0, 'impressions': 2, 'ctr': 0, 'position': 88.5}, {'keys': ['2020-07-01', 'https://www.jcchouinard.com/how-to-use-reddit-api-with-python/', 'how to learn python reddit'], 'clicks': 0, 'impressions': 1, 'ctr': 0, 'position': 65}, {'keys': ['2020-07-01', 'https://www.jcchouinard.com/how-to-use-reddit-api-with-python/', 'how to make an api in python'], 'clicks': 0, 'impressions': 1, 'ctr': 0, 'position': 60}, {'keys': ['2020-07-01', 'https://www.jcchouinard.com/how-to-use-reddit-api-with-python/', 'how to use api in python'], 'clicks': 0, 'impressions': 2, 'ctr': 0, 'position': 30}, {'keys': ['2020-07-01', 'https://www.jcchouinard.com/how-to-use-reddit-api-with-python/', 'how to use reddit api python'], 'clicks': 0, 'impressions': 1, 'ctr': 0, 'position': 5}, {'keys': ['2020-07-01', 'https://www.jcchouinard.com/how-to-use-reddit-api-with-python/', 'pushshift api python'], 'clicks': 0, 'impressions': 1, 'ctr': 0, 'position': 3}, {'keys': ['2020-07-01', 'https://www.jcchouinard.com/how-to-use-reddit-api-with-python/', 'python api reddit'], 'clicks': 0, 'impressions': 1, 'ctr': 0, 'position': 10}, {'keys': ['2020-07-01', 'https://www.jcchouinard.com/how-to-use-reddit-api-with-python/', 'python get api json'], 'clicks': 0, 'impressions': 1, 'ctr': 0, 'position': 84}, {'keys': ['2020-07-01', 'https://www.jcchouinard.com/how-to-use-reddit-api-with-python/', 'python how to add comments'], 'clicks': 0, 'impressions': 2, 'ctr': 0, 'position': 79.5}, {'keys': ['2020-07-01', 'https://www.jcchouinard.com/how-to-use-reddit-api-with-python/', 'python json comments'], 'clicks': 0, 'impressions': 1, 'ctr': 0, 'position': 44}, {'keys': ['2020-07-01', 'https://www.jcchouinard.com/how-to-use-reddit-api-with-python/', 'python learn reddit'], 'clicks': 0, 'impressions': 1, 'ctr': 0, 'position': 12}, {'keys': ['2020-07-01', 'https://www.jcchouinard.com/how-to-use-reddit-api-with-python/', 'python machine learning reddit'], 'clicks': 0, 'impressions': 1, 'ctr': 0, 'position': 42}, {'keys': ['2020-07-01', 'https://www.jcchouinard.com/how-to-use-reddit-api-with-python/', 'python reddit'], 'clicks': 0, 'impressions': 2, 'ctr': 0, 'position': 15.5}, {'keys': ['2020-07-01', 'https://www.jcchouinard.com/how-to-use-reddit-api-with-python/', 'python reddit api'], 'clicks': 0, 'impressions': 6, 'ctr': 0, 'position': 10}, {'keys': ['2020-07-01', 'https://www.jcchouinard.com/how-to-use-reddit-api-with-python/', 'python reddit api example'], 'clicks': 0, 'impressions': 2, 'ctr': 0, 'position': 7.5}, {'keys': ['2020-07-01', 'https://www.jcchouinard.com/how-to-use-reddit-api-with-python/', 'reddit api python'], 'clicks': 0, 'impressions': 28, 'ctr': 0, 'position': 9.428571428571429}, {'keys': ['2020-07-01', 'https://www.jcchouinard.com/how-to-use-reddit-api-with-python/', 'reddit api python example'], 'clicks': 0, 'impressions': 1, 'ctr': 0, 'position': 10}, {'keys': ['2020-07-01', 'https://www.jcchouinard.com/how-to-use-reddit-api-with-python/', 'reddit learn python'], 'clicks': 0, 'impressions': 1, 'ctr': 0, 'position': 37}, {'keys': ['2020-07-01', 'https://www.jcchouinard.com/how-to-use-reddit-api-with-python/', 'reddit python'], 'clicks': 0, 'impressions': 6, 'ctr': 0, 'position': 15.333333333333334}, {'keys': ['2020-07-01', 'https://www.jcchouinard.com/how-to-use-reddit-api-with-python/', 'reddit python api'], 'clicks': 0, 'impressions': 2, 'ctr': 0, 'position': 9.5}, {'keys': ['2020-07-01', 'https://www.jcchouinard.com/how-to-use-reddit-api-with-python/', 'using api in python'], 'clicks': 0, 'impressions': 1, 'ctr': 0, 'position': 52}, {'keys': ['2020-07-01', 'https://www.jcchouinard.com/install-mysql-and-phpmyadmin-with-xampp/', 'xampp mysql python'], 'clicks': 0, 'impressions': 2, 'ctr': 0, 'position': 9}, {'keys': ['2020-07-01', 'https://www.jcchouinard.com/install-python-with-anaconda-on-windows/', 'about anaconda python'], 'clicks': 0, 'impressions': 1, 'ctr': 0, 'position': 31}, {'keys': ['2020-07-01', 'https://www.jcchouinard.com/install-python-with-anaconda-on-windows/', 'add anaconda python to path windows 10'], 'clicks': 0, 'impressions': 2, 'ctr': 0, 'position': 9.5}, {'keys': ['2020-07-01', 'https://www.jcchouinard.com/install-python-with-anaconda-on-windows/', 'add python 3.7 to path'], 'clicks': 0, 'impressions': 1, 'ctr': 0, 'position': 60}, {'keys': ['2020-07-01', 'https://www.jcchouinard.com/install-python-with-anaconda-on-windows/', 'add python to path windows 10 anaconda'], 'clicks': 0, 'impressions': 1, 'ctr': 0, 'position': 10}, {'keys': ['2020-07-01', 'https://www.jcchouinard.com/install-python-with-anaconda-on-windows/', 'anaconda 3 python'], 'clicks': 0, 'impressions': 2, 'ctr': 0, 'position': 48}, {'keys': ['2020-07-01', 'https://www.jcchouinard.com/install-python-with-anaconda-on-windows/', 'anaconda 3 python download'], 'clicks': 0, 'impressions': 1, 'ctr': 0, 'position': 30}, {'keys': ['2020-07-01', 'https://www.jcchouinard.com/install-python-with-anaconda-on-windows/', 'anaconda and python'], 'clicks': 0, 'impressions': 2, 'ctr': 0, 'position': 21}, {'keys': ['2020-07-01', 'https://www.jcchouinard.com/install-python-with-anaconda-on-windows/', 'anaconda and python installation'], 'clicks': 0, 'impressions': 1, 'ctr': 0, 'position': 10}, {'keys': ['2020-07-01', 'https://www.jcchouinard.com/install-python-with-anaconda-on-windows/', 'anaconda download python'], 'clicks': 0, 'impressions': 1, 'ctr': 0, 'position': 27}, {'keys': ['2020-07-01', 'https://www.jcchouinard.com/install-python-with-anaconda-on-windows/', 'anaconda download python windows'], 'clicks': 0, 'impressions': 1, 'ctr': 0, 'position': 11}, {'keys': ['2020-07-01', 'https://www.jcchouinard.com/install-python-with-anaconda-on-windows/', 'anaconda for python'], 'clicks': 0, 'impressions': 1, 'ctr': 0, 'position': 14}, {'keys': ['2020-07-01', 'https://www.jcchouinard.com/install-python-with-anaconda-on-windows/', 'anaconda install python'], 'clicks': 0, 'impressions': 1, 'ctr': 0, 'position': 16}, {'keys': ['2020-07-01', 'https://www.jcchouinard.com/install-python-with-anaconda-on-windows/', 'anaconda install python 3.8'], 'clicks': 0, 'impressions': 1, 'ctr': 0, 'position': 18}, {'keys': ['2020-07-01', 'https://www.jcchouinard.com/install-python-with-anaconda-on-windows/', 'anaconda navigator for python 3.8'], 'clicks': 0, 'impressions': 1, 'ctr': 0, 'position': 11}, {'keys': ['2020-07-01', 'https://www.jcchouinard.com/install-python-with-anaconda-on-windows/', 'anaconda navigator python 3.8'], 'clicks': 0, 'impressions': 3, 'ctr': 0, 'position': 11}, {'keys': ['2020-07-01', 'https://www.jcchouinard.com/install-python-with-anaconda-on-windows/', 'anaconda python'], 'clicks': 0, 'impressions': 117, 'ctr': 0, 'position': 32.98290598290598}, {'keys': ['2020-07-01', 'https://www.jcchouinard.com/install-python-with-anaconda-on-windows/', 'anaconda python 2'], 'clicks': 0, 'impressions': 1, 'ctr': 0, 'position': 72}, {'keys': ['2020-07-01', 'https://www.jcchouinard.com/install-python-with-anaconda-on-windows/', 'anaconda python 3'], 'clicks': 0, 'impressions': 1, 'ctr': 0, 'position': 51}, {'keys': ['2020-07-01', 'https://www.jcchouinard.com/install-python-with-anaconda-on-windows/', 'anaconda python 3.7 download'], 'clicks': 0, 'impressions': 1, 'ctr': 0, 'position': 70}, {'keys': ['2020-07-01', 'https://www.jcchouinard.com/install-python-with-anaconda-on-windows/', 'anaconda python 3.7 install'], 'clicks': 0, 'impressions': 1, 'ctr': 0, 'position': 59}, {'keys': ['2020-07-01', 'https://www.jcchouinard.com/install-python-with-anaconda-on-windows/', 'anaconda python 3.8'], 'clicks': 0, 'impressions': 2, 'ctr': 0, 'position': 23.5}, {'keys': ['2020-07-01', 'https://www.jcchouinard.com/install-python-with-anaconda-on-windows/', 'anaconda python download'], 'clicks': 0, 'impressions': 14, 'ctr': 0, 'position': 33.357142857142854}, {'keys': ['2020-07-01', 'https://www.jcchouinard.com/install-python-with-anaconda-on-windows/', 'anaconda python environment variable'], 'clicks': 0, 'impressions': 2, 'ctr': 0, 'position': 10.5}, {'keys': ['2020-07-01', 'https://www.jcchouinard.com/install-python-with-anaconda-on-windows/', 'anaconda python folder'], 'clicks': 0, 'impressions': 1, 'ctr': 0, 'position': 8}, {'keys': ['2020-07-01', 'https://www.jcchouinard.com/install-python-with-anaconda-on-windows/', 'anaconda python free download for windows'], 'clicks': 0, 'impressions': 1, 'ctr': 0, 'position': 37}, {'keys': ['2020-07-01', 'https://www.jcchouinard.com/install-python-with-anaconda-on-windows/', 'anaconda python install location'], 'clicks': 0, 'impressions': 3, 'ctr': 0, 'position': 8.666666666666668}, {'keys': ['2020-07-01', 'https://www.jcchouinard.com/install-python-with-anaconda-on-windows/', 'anaconda python installation windows'], 'clicks': 0, 'impressions': 1, 'ctr': 0, 'position': 11}, {'keys': ['2020-07-01', 'https://www.jcchouinard.com/install-python-with-anaconda-on-windows/', 'anaconda python location'], 'clicks': 0, 'impressions': 4, 'ctr': 0, 'position': 7.75}, {'keys': ['2020-07-01', 'https://www.jcchouinard.com/install-python-with-anaconda-on-windows/', 'anaconda python packages'], 'clicks': 0, 'impressions': 1, 'ctr': 0, 'position': 64}, {'keys': ['2020-07-01', 'https://www.jcchouinard.com/install-python-with-anaconda-on-windows/', 'anaconda python path'], 'clicks': 0, 'impressions': 3, 'ctr': 0, 'position': 18.666666666666668}, {'keys': ['2020-07-01', 'https://www.jcchouinard.com/install-python-with-anaconda-on-windows/', 'anaconda python path environment variable'], 'clicks': 0, 'impressions': 1, 'ctr': 0, 'position': 9}, {'keys': ['2020-07-01', 'https://www.jcchouinard.com/install-python-with-anaconda-on-windows/', 'anaconda python path windows 10'], 'clicks': 0, 'impressions': 1, 'ctr': 0, 'position': 16}, {'keys': ['2020-07-01', 'https://www.jcchouinard.com/install-python-with-anaconda-on-windows/', 'anaconda python set environment variable'], 'clicks': 0, 'impressions': 1, 'ctr': 0, 'position': 10}, {'keys': ['2020-07-01', 'https://www.jcchouinard.com/install-python-with-anaconda-on-windows/', 'anaconda python version'], 'clicks': 0, 'impressions': 1, 'ctr': 0, 'position': 30}, {'keys': ['2020-07-01', 'https://www.jcchouinard.com/install-python-with-anaconda-on-windows/', 'anaconda python windows'], 'clicks': 0, 'impressions': 3, 'ctr': 0, 'position': 16}, {'keys': ['2020-07-01', 'https://www.jcchouinard.com/install-python-with-anaconda-on-windows/', 'anaconda python windows path'], 'clicks': 0, 'impressions': 1, 'ctr': 0, 'position': 9}, {'keys': ['2020-07-01', 'https://www.jcchouinard.com/install-python-with-anaconda-on-windows/', 'anaconda python.exe location'], 'clicks': 0, 'impressions': 1, 'ctr': 0, 'position': 9}, {'keys': ['2020-07-01', 'https://www.jcchouinard.com/install-python-with-anaconda-on-windows/', 'anaconda python/r distribution free download'], 'clicks': 0, 'impressions': 1, 'ctr': 0, 'position': 30}, {'keys': ['2020-07-01', 'https://www.jcchouinard.com/install-python-with-anaconda-on-windows/', 'anaconda where is python installed'], 'clicks': 0, 'impressions': 1, 'ctr': 0, 'position': 6}, {'keys': ['2020-07-01', 'https://www.jcchouinard.com/install-python-with-anaconda-on-windows/', 'anaconda where is python.exe'], 'clicks': 0, 'impressions': 1, 'ctr': 0, 'position': 9}, {'keys': ['2020-07-01', 'https://www.jcchouinard.com/install-python-with-anaconda-on-windows/', 'anaconda with python'], 'clicks': 0, 'impressions': 2, 'ctr': 0, 'position': 10}, {'keys': ['2020-07-01', 'https://www.jcchouinard.com/install-python-with-anaconda-on-windows/', 'anconda python'], 'clicks': 0, 'impressions': 1, 'ctr': 0, 'position': 32}, {'keys': ['2020-07-01', 'https://www.jcchouinard.com/install-python-with-anaconda-on-windows/', 'can i have anaconda and python installed'], 'clicks': 0, 'impressions': 1, 'ctr': 0, 'position': 9}, {'keys': ['2020-07-01', 'https://www.jcchouinard.com/install-python-with-anaconda-on-windows/', 'can i install anaconda after installing python'], 'clicks': 0, 'impressions': 4, 'ctr': 0, 'position': 8.25}, {'keys': ['2020-07-01', 'https://www.jcchouinard.com/install-python-with-anaconda-on-windows/', 'can i install anaconda if i already have python'], 'clicks': 0, 'impressions': 3, 'ctr': 0, 'position': 5}, {'keys': ['2020-07-01', 'https://www.jcchouinard.com/install-python-with-anaconda-on-windows/', 'can i install both python and anaconda'], 'clicks': 0, 'impressions': 1, 'ctr': 0, 'position': 11}, {'keys': ['2020-07-01', 'https://www.jcchouinard.com/install-python-with-anaconda-on-windows/', 'change default python windows 10'], 'clicks': 0, 'impressions': 1, 'ctr': 0, 'position': 65}, {'keys': ['2020-07-01', 'https://www.jcchouinard.com/install-python-with-anaconda-on-windows/', 'check python version anaconda'], 'clicks': 0, 'impressions': 1, 'ctr': 0, 'position': 46}, {'keys': ['2020-07-01', 'https://www.jcchouinard.com/install-python-with-anaconda-on-windows/', 'default python path windows'], 'clicks': 0, 'impressions': 1, 'ctr': 0, 'position': 56}, {'keys': ['2020-07-01', 'https://www.jcchouinard.com/install-python-with-anaconda-on-windows/', 'difference between anaconda and python programming'], 'clicks': 0, 'impressions': 1, 'ctr': 0, 'position': 58}, {'keys': ['2020-07-01', 'https://www.jcchouinard.com/install-python-with-anaconda-on-windows/', 'difference between python and anaconda'], 'clicks': 0, 'impressions': 1, 'ctr': 0, 'position': 44}, {'keys': ['2020-07-01', 'https://www.jcchouinard.com/install-python-with-anaconda-on-windows/', 'do i have python installed'], 'clicks': 0, 'impressions': 1, 'ctr': 0, 'position': 35}, {'keys': ['2020-07-01', 'https://www.jcchouinard.com/install-python-with-anaconda-on-windows/', 'do i have python installed windows 10'], 'clicks': 0, 'impressions': 1, 'ctr': 0, 'position': 42}, {'keys': ['2020-07-01', 'https://www.jcchouinard.com/install-python-with-anaconda-on-windows/', 'do i have to install python before anaconda'], 'clicks': 0, 'impressions': 2, 'ctr': 0, 'position': 9}, {'keys': ['2020-07-01', 'https://www.jcchouinard.com/install-python-with-anaconda-on-windows/', 'do i need python for anaconda'], 'clicks': 0, 'impressions': 2, 'ctr': 0, 'position': 7}, {'keys': ['2020-07-01', 'https://www.jcchouinard.com/install-python-with-anaconda-on-windows/', 'do i need to download python if i have anaconda'], 'clicks': 0, 'impressions': 1, 'ctr': 0, 'position': 9}, {'keys': ['2020-07-01', 'https://www.jcchouinard.com/install-python-with-anaconda-on-windows/', 'do i need to install anaconda and python'], 'clicks': 0, 'impressions': 2, 'ctr': 0, 'position': 9}, {'keys': ['2020-07-01', 'https://www.jcchouinard.com/install-python-with-anaconda-on-windows/', 'do i need to install python after anaconda'], 'clicks': 0, 'impressions': 1, 'ctr': 0, 'position': 6}, {'keys': ['2020-07-01', 'https://www.jcchouinard.com/install-python-with-anaconda-on-windows/', 'do i need to install python before anaconda'], 'clicks': 0, 'impressions': 5, 'ctr': 0, 'position': 9.2}, {'keys': ['2020-07-01', 'https://www.jcchouinard.com/install-python-with-anaconda-on-windows/', 'do i need to install python before installing anaconda'], 'clicks': 0, 'impressions': 1, 'ctr': 0, 'position': 9}], 'responseAggregationType': 'byPage'}\n"
    },
    {
     "output_type": "execute_result",
     "data": {
      "text/plain": "           date                                               page  \\\n0    2020-07-01        https://www.jcchouinard.com/python-for-seo/   \n1    2020-07-02  https://www.jcchouinard.com/python-automation-...   \n2    2020-07-02  https://www.jcchouinard.com/python-automation-...   \n3    2020-07-07  https://www.jcchouinard.com/python-automation-...   \n4    2020-07-07  https://www.jcchouinard.com/python-automation-...   \n..          ...                                                ...   \n995  2020-07-01  https://www.jcchouinard.com/install-python-wit...   \n996  2020-07-01  https://www.jcchouinard.com/install-python-wit...   \n997  2020-07-01  https://www.jcchouinard.com/install-python-wit...   \n998  2020-07-01  https://www.jcchouinard.com/install-python-wit...   \n999  2020-07-01  https://www.jcchouinard.com/install-python-wit...   \n\n                                                 query  clicks  \n0                                           python seo       7  \n1                  automate python script to run daily       6  \n2                               schedule python script       6  \n3                               schedule python script       6  \n4                     task scheduler run python script       6  \n..                                                 ...     ...  \n995    do i need to download python if i have anaconda       0  \n996           do i need to install anaconda and python       0  \n997         do i need to install python after anaconda       0  \n998        do i need to install python before anaconda       0  \n999  do i need to install python before installing ...       0  \n\n[1000 rows x 4 columns]",
      "text/html": "<div>\n<style scoped>\n    .dataframe tbody tr th:only-of-type {\n        vertical-align: middle;\n    }\n\n    .dataframe tbody tr th {\n        vertical-align: top;\n    }\n\n    .dataframe thead th {\n        text-align: right;\n    }\n</style>\n<table border=\"1\" class=\"dataframe\">\n  <thead>\n    <tr style=\"text-align: right;\">\n      <th></th>\n      <th>date</th>\n      <th>page</th>\n      <th>query</th>\n      <th>clicks</th>\n    </tr>\n  </thead>\n  <tbody>\n    <tr>\n      <th>0</th>\n      <td>2020-07-01</td>\n      <td>https://www.jcchouinard.com/python-for-seo/</td>\n      <td>python seo</td>\n      <td>7</td>\n    </tr>\n    <tr>\n      <th>1</th>\n      <td>2020-07-02</td>\n      <td>https://www.jcchouinard.com/python-automation-...</td>\n      <td>automate python script to run daily</td>\n      <td>6</td>\n    </tr>\n    <tr>\n      <th>2</th>\n      <td>2020-07-02</td>\n      <td>https://www.jcchouinard.com/python-automation-...</td>\n      <td>schedule python script</td>\n      <td>6</td>\n    </tr>\n    <tr>\n      <th>3</th>\n      <td>2020-07-07</td>\n      <td>https://www.jcchouinard.com/python-automation-...</td>\n      <td>schedule python script</td>\n      <td>6</td>\n    </tr>\n    <tr>\n      <th>4</th>\n      <td>2020-07-07</td>\n      <td>https://www.jcchouinard.com/python-automation-...</td>\n      <td>task scheduler run python script</td>\n      <td>6</td>\n    </tr>\n    <tr>\n      <th>...</th>\n      <td>...</td>\n      <td>...</td>\n      <td>...</td>\n      <td>...</td>\n    </tr>\n    <tr>\n      <th>995</th>\n      <td>2020-07-01</td>\n      <td>https://www.jcchouinard.com/install-python-wit...</td>\n      <td>do i need to download python if i have anaconda</td>\n      <td>0</td>\n    </tr>\n    <tr>\n      <th>996</th>\n      <td>2020-07-01</td>\n      <td>https://www.jcchouinard.com/install-python-wit...</td>\n      <td>do i need to install anaconda and python</td>\n      <td>0</td>\n    </tr>\n    <tr>\n      <th>997</th>\n      <td>2020-07-01</td>\n      <td>https://www.jcchouinard.com/install-python-wit...</td>\n      <td>do i need to install python after anaconda</td>\n      <td>0</td>\n    </tr>\n    <tr>\n      <th>998</th>\n      <td>2020-07-01</td>\n      <td>https://www.jcchouinard.com/install-python-wit...</td>\n      <td>do i need to install python before anaconda</td>\n      <td>0</td>\n    </tr>\n    <tr>\n      <th>999</th>\n      <td>2020-07-01</td>\n      <td>https://www.jcchouinard.com/install-python-wit...</td>\n      <td>do i need to install python before installing ...</td>\n      <td>0</td>\n    </tr>\n  </tbody>\n</table>\n<p>1000 rows × 4 columns</p>\n</div>"
     },
     "metadata": {},
     "execution_count": 4
    }
   ],
   "source": [
    "from gsc_with_filters import gsc_with_filters\n",
    "\n",
    "# Filters\n",
    "dimension = 'query' \n",
    "operator = 'contains'\n",
    "expression = 'python'   \n",
    "args = webmasters_service,site,creds,dimension,operator,expression,start_date,end_date\n",
    "\n",
    "gsc_with_filters(*args)"
   ]
  },
  {
   "cell_type": "markdown",
   "metadata": {},
   "source": [
    "## Extract all your GSC Data\n",
    "1. Create Folder Using Property Name\n",
    "2. Extract all Google Search Console Data\n",
    "3. Export to CSV by Month"
   ]
  },
  {
   "cell_type": "code",
   "execution_count": 3,
   "metadata": {
    "tags": []
   },
   "outputs": [
    {
     "output_type": "stream",
     "name": "stdout",
     "text": "2020-07-15\nFetching start and end dates from 2020-07-01\nstart_date: 2020-07-01 00:00:00, end_date: 2020-08-09 15:27:00.389615\nwww_jcchouinard_com project exists\nChecking existing dates in www_jcchouinard_com/\nFetching start and end dates from 2020-07-01\nstart_date: 2020-07-01 00:00:00, end_date: 2020-08-09 15:27:00.479307\ndebug std: 2020-07-01 00:00:00\nExisting Date: 2020-07-01 00:00:00\ndebug std: 2020-07-02 00:00:00\nExisting Date: 2020-07-02 00:00:00\ndebug std: 2020-07-03 00:00:00\nExisting Date: 2020-07-03 00:00:00\ndebug std: 2020-07-04 00:00:00\nExisting Date: 2020-07-04 00:00:00\ndebug std: 2020-07-05 00:00:00\nExisting Date: 2020-07-05 00:00:00\ndebug std: 2020-07-06 00:00:00\nExisting Date: 2020-07-06 00:00:00\ndebug std: 2020-07-07 00:00:00\nExisting Date: 2020-07-07 00:00:00\ndebug std: 2020-07-08 00:00:00\nExisting Date: 2020-07-08 00:00:00\ndebug std: 2020-07-09 00:00:00\nExisting Date: 2020-07-09 00:00:00\ndebug std: 2020-07-10 00:00:00\nExisting Date: 2020-07-10 00:00:00\ndebug std: 2020-07-11 00:00:00\nExisting Date: 2020-07-11 00:00:00\ndebug std: 2020-07-12 00:00:00\nExisting Date: 2020-07-12 00:00:00\ndebug std: 2020-07-13 00:00:00\nExisting Date: 2020-07-13 00:00:00\ndebug std: 2020-07-14 00:00:00\nExisting Date: 2020-07-14 00:00:00\ndebug std: 2020-07-15 00:00:00\nExisting Date: 2020-07-15 00:00:00\nDone extracting https://www.jcchouinard.com\n"
    }
   ],
   "source": [
    "from gsc_to_csv_by_month import gsc_to_csv\n",
    "\n",
    "args = webmasters_service,site,output,creds,start_date,end_date\n",
    "gsc_to_csv(*args)"
   ]
  },
  {
   "cell_type": "code",
   "execution_count": 4,
   "metadata": {
    "tags": []
   },
   "outputs": [
    {
     "output_type": "stream",
     "name": "stdout",
     "text": "www_jcchouinard_com project exists\nChecking existing dates in www_jcchouinard_com/\nExisting Date: 2020-07-01 00:00:00\nExisting Date: 2020-07-02 00:00:00\nExisting Date: 2020-07-03 00:00:00\nExisting Date: 2020-07-04 00:00:00\nExisting Date: 2020-07-05 00:00:00\nExisting Date: 2020-07-06 00:00:00\nExisting Date: 2020-07-07 00:00:00\nExisting Date: 2020-07-08 00:00:00\nExisting Date: 2020-07-09 00:00:00\nExisting Date: 2020-07-10 00:00:00\nExisting Date: 2020-07-11 00:00:00\nExisting Date: 2020-07-12 00:00:00\nExisting Date: 2020-07-13 00:00:00\nExisting Date: 2020-07-14 00:00:00\nExisting Date: 2020-07-15 00:00:00\nExisting Date: 2020-07-16 00:00:00\nExisting Date: 2020-07-17 00:00:00\nExisting Date: 2020-07-18 00:00:00\nExisting Date: 2020-07-19 00:00:00\nExisting Date: 2020-07-20 00:00:00\nExisting Date: 2020-07-21 00:00:00\nExisting Date: 2020-07-22 00:00:00\nExisting Date: 2020-07-23 00:00:00\nExisting Date: 2020-07-24 00:00:00\nExisting Date: 2020-07-25 00:00:00\nExisting Date: 2020-07-26 00:00:00\nExisting Date: 2020-07-27 00:00:00\nStart date at beginning: 2020-07-28 00:00:00\ndate = 2020-07-28\nsuccessful at 0\nNumrows at the start of loop: 0\nNumrows at the end of loop: 4559\nStart date at beginning: 2020-07-29 00:00:00\ndate = 2020-07-29\nsuccessful at 0\nNumrows at the start of loop: 0\nNumrows at the end of loop: 4584\nDone extracting https://www.jcchouinard.com\n"
    }
   ],
   "source": [
    "from gsc_to_csv_by_month import gsc_to_csv\n",
    "\n",
    "end_date = '2020-07-29' \n",
    "args = webmasters_service,site,output,creds,start_date,end_date\n",
    "gsc_to_csv(*args)"
   ]
  }
 ]
}